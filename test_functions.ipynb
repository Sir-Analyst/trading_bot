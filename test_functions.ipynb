{
 "cells": [
  {
   "cell_type": "markdown",
   "metadata": {},
   "source": [
    "### Libraries"
   ]
  },
  {
   "cell_type": "code",
   "execution_count": 6,
   "metadata": {},
   "outputs": [],
   "source": [
    "# Libraries:\n",
    "import ta\n",
    "import pandas as pd\n",
    "import numpy as np\n",
    "import yfinance as yf\n",
    "from ta import add_all_ta_features\n",
    "from ta.utils import dropna\n",
    "from sklearn.preprocessing import StandardScaler\n",
    "from ta.trend import MACD\n",
    "from ta.momentum import RSIIndicator\n",
    "from ta.volatility import BollingerBands\n",
    "import statsmodels.api as sm\n",
    "from datetime import datetime, timedelta\n",
    "import matplotlib.pyplot as plt\n"
   ]
  },
  {
   "cell_type": "markdown",
   "metadata": {},
   "source": [
    "### Data set Function and database"
   ]
  },
  {
   "cell_type": "code",
   "execution_count": 8,
   "metadata": {},
   "outputs": [],
   "source": [
    "# Function: get data\n",
    "def fetch_stock_data(ticker, start_date, end_date):\n",
    "    stock = yf.Ticker(ticker)\n",
    "    df = stock.history(start=start_date, end=end_date)\n",
    "    df = df.drop(df.iloc[:, 5:8], axis=1)\n",
    "    \n",
    "    return df\n"
   ]
  },
  {
   "cell_type": "code",
   "execution_count": 9,
   "metadata": {},
   "outputs": [
    {
     "name": "stdout",
     "output_type": "stream",
     "text": [
      "<class 'pandas.core.frame.DataFrame'>\n",
      "DatetimeIndex: 6344 entries, 2000-01-03 00:00:00-05:00 to 2025-03-24 00:00:00-04:00\n",
      "Data columns (total 5 columns):\n",
      " #   Column  Non-Null Count  Dtype  \n",
      "---  ------  --------------  -----  \n",
      " 0   Open    6344 non-null   float64\n",
      " 1   High    6344 non-null   float64\n",
      " 2   Low     6344 non-null   float64\n",
      " 3   Close   6344 non-null   float64\n",
      " 4   Volume  6344 non-null   int64  \n",
      "dtypes: float64(4), int64(1)\n",
      "memory usage: 297.4 KB\n",
      "None\n"
     ]
    },
    {
     "data": {
      "text/html": [
       "<div>\n",
       "<style scoped>\n",
       "    .dataframe tbody tr th:only-of-type {\n",
       "        vertical-align: middle;\n",
       "    }\n",
       "\n",
       "    .dataframe tbody tr th {\n",
       "        vertical-align: top;\n",
       "    }\n",
       "\n",
       "    .dataframe thead th {\n",
       "        text-align: right;\n",
       "    }\n",
       "</style>\n",
       "<table border=\"1\" class=\"dataframe\">\n",
       "  <thead>\n",
       "    <tr style=\"text-align: right;\">\n",
       "      <th></th>\n",
       "      <th>Open</th>\n",
       "      <th>High</th>\n",
       "      <th>Low</th>\n",
       "      <th>Close</th>\n",
       "      <th>Volume</th>\n",
       "    </tr>\n",
       "    <tr>\n",
       "      <th>Date</th>\n",
       "      <th></th>\n",
       "      <th></th>\n",
       "      <th></th>\n",
       "      <th></th>\n",
       "      <th></th>\n",
       "    </tr>\n",
       "  </thead>\n",
       "  <tbody>\n",
       "    <tr>\n",
       "      <th>2025-03-18 00:00:00-04:00</th>\n",
       "      <td>214.160004</td>\n",
       "      <td>215.149994</td>\n",
       "      <td>211.490005</td>\n",
       "      <td>212.690002</td>\n",
       "      <td>42432400</td>\n",
       "    </tr>\n",
       "    <tr>\n",
       "      <th>2025-03-19 00:00:00-04:00</th>\n",
       "      <td>214.220001</td>\n",
       "      <td>218.759995</td>\n",
       "      <td>213.750000</td>\n",
       "      <td>215.240005</td>\n",
       "      <td>54385400</td>\n",
       "    </tr>\n",
       "    <tr>\n",
       "      <th>2025-03-20 00:00:00-04:00</th>\n",
       "      <td>213.990005</td>\n",
       "      <td>217.490005</td>\n",
       "      <td>212.220001</td>\n",
       "      <td>214.100006</td>\n",
       "      <td>48862900</td>\n",
       "    </tr>\n",
       "    <tr>\n",
       "      <th>2025-03-21 00:00:00-04:00</th>\n",
       "      <td>211.559998</td>\n",
       "      <td>218.839996</td>\n",
       "      <td>211.279999</td>\n",
       "      <td>218.270004</td>\n",
       "      <td>94127800</td>\n",
       "    </tr>\n",
       "    <tr>\n",
       "      <th>2025-03-24 00:00:00-04:00</th>\n",
       "      <td>221.000000</td>\n",
       "      <td>221.479996</td>\n",
       "      <td>218.580002</td>\n",
       "      <td>220.729996</td>\n",
       "      <td>44299500</td>\n",
       "    </tr>\n",
       "  </tbody>\n",
       "</table>\n",
       "</div>"
      ],
      "text/plain": [
       "                                 Open        High         Low       Close  \\\n",
       "Date                                                                        \n",
       "2025-03-18 00:00:00-04:00  214.160004  215.149994  211.490005  212.690002   \n",
       "2025-03-19 00:00:00-04:00  214.220001  218.759995  213.750000  215.240005   \n",
       "2025-03-20 00:00:00-04:00  213.990005  217.490005  212.220001  214.100006   \n",
       "2025-03-21 00:00:00-04:00  211.559998  218.839996  211.279999  218.270004   \n",
       "2025-03-24 00:00:00-04:00  221.000000  221.479996  218.580002  220.729996   \n",
       "\n",
       "                             Volume  \n",
       "Date                                 \n",
       "2025-03-18 00:00:00-04:00  42432400  \n",
       "2025-03-19 00:00:00-04:00  54385400  \n",
       "2025-03-20 00:00:00-04:00  48862900  \n",
       "2025-03-21 00:00:00-04:00  94127800  \n",
       "2025-03-24 00:00:00-04:00  44299500  "
      ]
     },
     "execution_count": 9,
     "metadata": {},
     "output_type": "execute_result"
    }
   ],
   "source": [
    "# dataset\n",
    "ticker = \"AAPL\"\n",
    "df = fetch_stock_data(ticker,\"2000-01-01\",\"2025-03-25\")\n",
    "df =df.dropna()\n",
    "print(df.info())\n",
    "df.tail()"
   ]
  },
  {
   "cell_type": "markdown",
   "metadata": {},
   "source": [
    "### Indicators' Functions"
   ]
  },
  {
   "cell_type": "code",
   "execution_count": null,
   "metadata": {},
   "outputs": [],
   "source": [
    "# Functions: safe access\n",
    "def safe_access(df, column):\n",
    "    try:\n",
    "        return df[column]\n",
    "    except KeyError:\n",
    "        print(f\"Column '{column}' not found in DataFrame.\")\n",
    "        return pd.Series([np.nan] * len(df), index=df.index)  # Return a Series with NaN values"
   ]
  },
  {
   "cell_type": "code",
   "execution_count": null,
   "metadata": {},
   "outputs": [],
   "source": [
    "# Function 1: calculate indicators\n",
    "def calculate_indicators(df, nan_threshold=0.1):\n",
    "    print(\"Step 1: Calculating all indicators using ta library...\")\n",
    "    df_indicators = add_all_ta_features( # assigning the value to df\n",
    "        df, open=\"Open\", high=\"High\", low=\"Low\", close=\"Close\", volume=\"Volume\", fillna=True\n",
    "    )\n",
    "    print(\"All indicators calculated using ta library.\")\n",
    "\n",
    "    print(\"\\nStep 2: Manually calculating SMA_50 and SMA_200 indicators...\")\n",
    "    df_indicators['SMA_50'] = df_indicators['Close'].rolling(window=50).mean()\n",
    "    df_indicators['SMA_200'] = df_indicators['Close'].rolling(window=200).mean()\n",
    "    print(\"SMA_50 and SMA_200 Calculated\")\n",
    "\n",
    "    print(\"\\nStep 3: Calculating the percentage of NaNs for each indicator...\")\n",
    "    nan_percentages = df_indicators.isna().mean()\n",
    "    print(\"NaN percentages calculated.\")\n",
    "\n",
    "    print(\"\\nStep 4: Identifying indicators with high NaN percentages...\")\n",
    "    high_nan_indicators = nan_percentages[nan_percentages > nan_threshold].index.tolist()\n",
    "    print(f\"Indicators with more than {nan_threshold*100}% NaNs: {high_nan_indicators}\")\n",
    "\n",
    "    print(\"\\nStep 5: Removing high NaN indicators from the DataFrame...\")\n",
    "    df_filtered = df_indicators.drop(columns=high_nan_indicators)\n",
    "    for indicator in high_nan_indicators:\n",
    "        print(f\"Deleted indicator due to high NaN: {indicator}\")\n",
    "    print(\"High NaN indicators removed.\")\n",
    "\n",
    "    print(\"\\nStep 6: Manually calculating SMA_50 and SMA_200 indicators...\")\n",
    "    df_filtered['SMA_50'] = df_filtered['Close'].rolling(window=50).mean()\n",
    "    df_filtered['SMA_200'] = df_filtered['Close'].rolling(window=200).mean()\n",
    "\n",
    "    print(\"\\nStep 7: Manually recalculating removed indicators...\")\n",
    "    for indicator in high_nan_indicators:\n",
    "        print(f\"Recalculating: {indicator}\")\n",
    "        if indicator.startswith('trend_sma'):\n",
    "            window = int(indicator.split('_')[-1])\n",
    "            df_filtered[indicator] = df['Close'].rolling(window=window).mean()\n",
    "        elif indicator.startswith('trend_ema'):\n",
    "            window = int(indicator.split('_')[-1])\n",
    "            df_filtered[indicator] = df['Close'].ewm(span=window, adjust=False).mean()\n",
    "        elif indicator == 'trend_macd':\n",
    "            exp1 = df['Close'].ewm(span=12, adjust=False).mean()\n",
    "            exp2 = df['Close'].ewm(span=26, adjust=False).mean()\n",
    "            df_filtered[indicator] = exp1 - exp2\n",
    "        elif indicator == 'trend_macd_signal':\n",
    "            exp1 = df['Close'].ewm(span=12, adjust=False).mean()\n",
    "            exp2 = df['Close'].ewm(span=26, adjust=False).mean()\n",
    "            macd = exp1 - exp2\n",
    "            df_filtered[indicator] = macd.ewm(span=9, adjust=False).mean()\n",
    "        elif indicator == 'trend_macd_diff':\n",
    "            exp1 = df['Close'].ewm(span=12, adjust=False).mean()\n",
    "            exp2 = df['Close'].ewm(span=26, adjust=False).mean()\n",
    "            macd = exp1 - exp2\n",
    "            signal = macd.ewm(span=9, adjust=False).mean()\n",
    "            df_filtered[indicator] = macd - signal\n",
    "        elif indicator.startswith('momentum_rsi'):\n",
    "            window = int(indicator.split('_')[-1]) if len(indicator.split('_')) > 2 else 14\n",
    "            delta = df['Close'].diff()\n",
    "            gain = (delta.where(delta > 0, 0)).rolling(window=window).mean()\n",
    "            loss = (-delta.where(delta < 0, 0)).rolling(window=window).mean()\n",
    "            rs = gain / loss\n",
    "            df_filtered[indicator] = 100 - (100 / (1 + rs))\n",
    "        elif indicator.startswith('volatility_bbm'):\n",
    "            window = int(indicator.split('_')[-1]) if len(indicator.split('_')) > 2 else 20\n",
    "            std = df['Close'].rolling(window=window).std()\n",
    "            df_filtered[indicator] = df['Close'].rolling(window=window).mean()\n",
    "            df_filtered[f'volatility_bbh_{window}'] = df_filtered[indicator] + 2 * std\n",
    "            df_filtered[f'volatility_bbl_{window}'] = df_filtered[indicator] - 2 * std\n",
    "        # Add more conditions for other indicators as needed\n",
    "        else:\n",
    "            print(f\"Warning: No manual calculation method for {indicator}\")\n",
    "    print(\"Manual recalculation of removed indicators completed.\")\n",
    "\n",
    "    print(\"\\nStep 8: Combining original data with calculated indicators...\")\n",
    "    result_df = pd.concat([df, df_filtered], axis=1)\n",
    "    print(\"Data combined.\")\n",
    "\n",
    "    print(\"\\nStep 9: Checking for NaNs in the final DataFrame...\")\n",
    "    final_nan_percentages = result_df.isna().mean()\n",
    "    print(\"Percentage of NaNs in the final DataFrame:\")\n",
    "    for column, percentage in final_nan_percentages[final_nan_percentages > 0].items():\n",
    "        print(f\"{column}: {percentage*100:.2f}%\")\n",
    "\n",
    "    print(\"\\nStep 10: Filling remaining NaN values with column means...\")\n",
    "    result_df = result_df.fillna(result_df.mean())\n",
    "    print(\"Remaining NaN values filled with column means.\")\n",
    "\n",
    "    return result_df"
   ]
  },
  {
   "cell_type": "code",
   "execution_count": null,
   "metadata": {},
   "outputs": [],
   "source": [
    "#Function 2: Calculate indicators\n",
    "def calculate_indicators(df, nan_threshold=1.0): # CHANGE HERE\n",
    "    print(\"Step 1: Calculating all indicators using ta library...\")\n",
    "    df = add_all_ta_features( # assigning the value to df\n",
    "        df, open=\"Open\", high=\"High\", low=\"Low\", close=\"Close\", volume=\"Volume\", fillna=True\n",
    "    )\n",
    "    print(\"All indicators calculated using ta library.\")\n",
    "\n",
    "    # Manually calculate SMA_50 and SMA_200\n",
    "    print(\"Step 1b: Calculating SMA_50 and SMA_200\")\n",
    "    df['SMA_50'] = df['Close'].rolling(window=50).mean()\n",
    "    df['SMA_200'] = df['Close'].rolling(window=200).mean()\n",
    "    print(\"SMA_50 and SMA_200 Calculated\")\n",
    "\n",
    "    print(\"\\nStep 2: Checking for NaNs in SMA_50 and SMA_200\")\n",
    "    print(f\"NaN percentage in SMA_50: {df['SMA_50'].isnull().sum() / len(df) * 100:.2f}%\")\n",
    "    print(f\"NaN percentage in SMA_200: {df['SMA_200'].isnull().sum() / len(df) * 100:.2f}%\")\n",
    "\n",
    "    print(\"\\nStep 3: Calculating the percentage of NaNs for each indicator...\")\n",
    "    nan_percentages = df.isna().mean()\n",
    "    print(\"NaN percentages calculated.\")\n",
    "\n",
    "    print(\"\\nStep 4: Identifying indicators with high NaN percentages...\")\n",
    "    high_nan_indicators = nan_percentages[nan_percentages > nan_threshold].index.tolist()\n",
    "    print(f\"Indicators with more than {nan_threshold*100}% NaNs: {high_nan_indicators}\")\n",
    "\n",
    "    print(\"\\nStep 5: Filling remaining NaN values with column means...\")\n",
    "    result_df = df.fillna(df.mean())\n",
    "    print(\"Remaining NaN values filled with column means.\")\n",
    "\n",
    "    return result_df"
   ]
  },
  {
   "cell_type": "code",
   "execution_count": null,
   "metadata": {},
   "outputs": [],
   "source": [
    "# Function: analyze_trend\n",
    "def analyze_trend(df):\n",
    "    sma_50 = df['SMA_50']\n",
    "    sma_200 = df['SMA_200']\n",
    "    common_index = sma_50.index.intersection(sma_200.index)\n",
    "    sma_50 = sma_50.loc[common_index]\n",
    "    sma_200 = sma_200.loc[common_index]\n",
    "\n",
    "    if sma_50.empty or sma_200.empty:\n",
    "        return \"Insufficient data for trend analysis\"\n",
    "\n",
    "    # Compare the last values of each SMA\n",
    "    if sma_50.iloc[-1] > sma_200.iloc[-1]:\n",
    "        return \"Uptrend\"\n",
    "    elif sma_50.iloc[-1] < sma_200.iloc[-1]:\n",
    "        return \"Downtrend\"\n",
    "    else:\n",
    "        return \"Sideways\""
   ]
  },
  {
   "cell_type": "code",
   "execution_count": null,
   "metadata": {},
   "outputs": [],
   "source": [
    "# Function 2: analyze_trend\n",
    "# Updated analyze_trend function\n",
    "def analyze_trend(df):\n",
    "    sma_50 = safe_access(df, 'SMA_50')\n",
    "    sma_200 = safe_access(df, 'SMA_200')\n",
    "\n",
    "    if sma_50.isnull().all() or sma_200.isnull().all():\n",
    "        return \"Insufficient data for trend analysis\"\n",
    "\n",
    "    # Compare the last values of each SMA\n",
    "    if sma_50.iloc[-1] > sma_200.iloc[-1]:\n",
    "        return \"Uptrend\"\n",
    "    elif sma_50.iloc[-1] < sma_200.iloc[-1]:\n",
    "        return \"Downtrend\"\n",
    "    else:\n",
    "        return \"Sideways\"\n"
   ]
  },
  {
   "cell_type": "code",
   "execution_count": null,
   "metadata": {},
   "outputs": [],
   "source": [
    "# Function: analyze_momentum\n",
    "# Updated analyze_momentum function\n",
    "def analyze_momentum(df):\n",
    "    rsi = safe_access(df, 'momentum_rsi')\n",
    "\n",
    "    if isinstance(rsi, str):\n",
    "        return \"Column 'momentum_rsi' not found, cannot perform momentum analysis.\"\n",
    "\n",
    "    if rsi.isnull().all():\n",
    "        return \"Insufficient data for momentum analysis\"\n",
    "\n",
    "    if rsi.iloc[-1] > 70:\n",
    "        return \"Overbought\"\n",
    "    elif rsi.iloc[-1] < 30:\n",
    "        return \"Oversold\"\n",
    "    else:\n",
    "        return \"Neutral\""
   ]
  },
  {
   "cell_type": "code",
   "execution_count": null,
   "metadata": {},
   "outputs": [],
   "source": [
    "# Function: analyze_volatility\n",
    "def analyze_volatility(df):\n",
    "    bb_high = safe_access(df, 'volatility_bbh')\n",
    "    bb_low = safe_access(df, 'volatility_bbl')\n",
    "    close = safe_access(df, 'Close')\n",
    "    \n",
    "    if bb_high.isnull().all() or bb_low.isnull().all():\n",
    "        return \"Insufficient data for volatility analysis\"\n",
    "    \n",
    "    # Compare the last values of each series\n",
    "    last_close = close.iloc[-1]\n",
    "    last_bb_high = bb_high.iloc[-1]\n",
    "    last_bb_low = bb_low.iloc[-1]\n",
    "\n",
    "    if last_close > last_bb_high:\n",
    "        return \"High volatility (above upper Bollinger Band)\"\n",
    "    elif last_close < last_bb_low:\n",
    "        return \"High volatility (below lower Bollinger Band)\"\n",
    "    else:\n",
    "        return \"Normal volatility\""
   ]
  },
  {
   "cell_type": "code",
   "execution_count": null,
   "metadata": {},
   "outputs": [],
   "source": [
    "# Function: analyze_volum\n",
    "def analyze_volume(df):\n",
    "    obv = df['volume_obv']\n",
    "    if len(obv) < 2:\n",
    "        return \"Insufficient data for volume analysis\"\n",
    "    \n",
    "    if obv.iloc[-1] > obv.iloc[-2]:\n",
    "        return \"Increasing\"\n",
    "    elif obv.iloc[-1] < obv.iloc[-2]:\n",
    "        return \"Decreasing\"\n",
    "    else:\n",
    "        return \"Stable\"\n"
   ]
  },
  {
   "cell_type": "code",
   "execution_count": null,
   "metadata": {},
   "outputs": [],
   "source": [
    "# Function: generate_signal\n",
    "def generate_signal(trend, momentum, volatility, volume):\n",
    "    if trend == \"Uptrend\" and momentum != \"Overbought\" and volume == \"Increasing\":\n",
    "        return \"Strong Buy\"\n",
    "    elif trend == \"Uptrend\" and momentum == \"Neutral\":\n",
    "        return \"Buy\"\n",
    "    elif trend == \"Downtrend\" and momentum != \"Oversold\" and volume == \"Decreasing\":\n",
    "        return \"Strong Sell\"\n",
    "    elif trend == \"Downtrend\" and momentum == \"Neutral\":\n",
    "        return \"Sell\"\n",
    "    else:\n",
    "        return \"Hold\""
   ]
  },
  {
   "cell_type": "code",
   "execution_count": null,
   "metadata": {},
   "outputs": [
    {
     "name": "stdout",
     "output_type": "stream",
     "text": [
      "Step 1: Calculating all indicators using ta library...\n"
     ]
    },
    {
     "name": "stderr",
     "output_type": "stream",
     "text": [
      "c:\\Desktop\\python_projects\\project_env\\Lib\\site-packages\\ta\\trend.py:1030: FutureWarning: Series.__setitem__ treating keys as positions is deprecated. In a future version, integer keys will always be treated as labels (consistent with DataFrame behavior). To set a value by position, use `ser.iloc[pos] = value`\n",
      "  self._psar[i] = high2\n"
     ]
    },
    {
     "name": "stdout",
     "output_type": "stream",
     "text": [
      "All indicators calculated using ta library.\n",
      "Step 1b: Calculating SMA_50 and SMA_200\n",
      "SMA_50 and SMA_200 Calculated\n",
      "\n",
      "Step 2: Checking for NaNs in SMA_50 and SMA_200\n",
      "NaN percentage in SMA_50: 0.77%\n",
      "NaN percentage in SMA_200: 3.14%\n",
      "\n",
      "Step 3: Calculating the percentage of NaNs for each indicator...\n",
      "NaN percentages calculated.\n",
      "\n",
      "Step 4: Identifying indicators with high NaN percentages...\n",
      "Indicators with more than 100.0% NaNs: []\n",
      "\n",
      "Step 5: Filling remaining NaN values with column means...\n",
      "Remaining NaN values filled with column means.\n"
     ]
    },
    {
     "data": {
      "text/html": [
       "<div>\n",
       "<style scoped>\n",
       "    .dataframe tbody tr th:only-of-type {\n",
       "        vertical-align: middle;\n",
       "    }\n",
       "\n",
       "    .dataframe tbody tr th {\n",
       "        vertical-align: top;\n",
       "    }\n",
       "\n",
       "    .dataframe thead th {\n",
       "        text-align: right;\n",
       "    }\n",
       "</style>\n",
       "<table border=\"1\" class=\"dataframe\">\n",
       "  <thead>\n",
       "    <tr style=\"text-align: right;\">\n",
       "      <th></th>\n",
       "      <th>Open</th>\n",
       "      <th>High</th>\n",
       "      <th>Low</th>\n",
       "      <th>Close</th>\n",
       "      <th>Volume</th>\n",
       "      <th>volume_adi</th>\n",
       "      <th>volume_obv</th>\n",
       "      <th>volume_cmf</th>\n",
       "      <th>volume_fi</th>\n",
       "      <th>volume_em</th>\n",
       "      <th>...</th>\n",
       "      <th>momentum_ppo_hist</th>\n",
       "      <th>momentum_pvo</th>\n",
       "      <th>momentum_pvo_signal</th>\n",
       "      <th>momentum_pvo_hist</th>\n",
       "      <th>momentum_kama</th>\n",
       "      <th>others_dr</th>\n",
       "      <th>others_dlr</th>\n",
       "      <th>others_cr</th>\n",
       "      <th>SMA_50</th>\n",
       "      <th>SMA_200</th>\n",
       "    </tr>\n",
       "    <tr>\n",
       "      <th>Date</th>\n",
       "      <th></th>\n",
       "      <th></th>\n",
       "      <th></th>\n",
       "      <th></th>\n",
       "      <th></th>\n",
       "      <th></th>\n",
       "      <th></th>\n",
       "      <th></th>\n",
       "      <th></th>\n",
       "      <th></th>\n",
       "      <th></th>\n",
       "      <th></th>\n",
       "      <th></th>\n",
       "      <th></th>\n",
       "      <th></th>\n",
       "      <th></th>\n",
       "      <th></th>\n",
       "      <th></th>\n",
       "      <th></th>\n",
       "      <th></th>\n",
       "      <th></th>\n",
       "    </tr>\n",
       "  </thead>\n",
       "  <tbody>\n",
       "    <tr>\n",
       "      <th>2025-03-17 00:00:00-04:00</th>\n",
       "      <td>213.309998</td>\n",
       "      <td>215.220001</td>\n",
       "      <td>209.970001</td>\n",
       "      <td>214.000000</td>\n",
       "      <td>48073400</td>\n",
       "      <td>8.106582e+10</td>\n",
       "      <td>104667753800</td>\n",
       "      <td>-0.053010</td>\n",
       "      <td>-1.295358e+08</td>\n",
       "      <td>9.064284</td>\n",
       "      <td>...</td>\n",
       "      <td>-1.360107</td>\n",
       "      <td>4.299377</td>\n",
       "      <td>2.865017</td>\n",
       "      <td>1.434360</td>\n",
       "      <td>222.964777</td>\n",
       "      <td>0.238884</td>\n",
       "      <td>0.238600</td>\n",
       "      <td>25311.134663</td>\n",
       "      <td>234.072993</td>\n",
       "      <td>227.473337</td>\n",
       "    </tr>\n",
       "    <tr>\n",
       "      <th>2025-03-18 00:00:00-04:00</th>\n",
       "      <td>214.160004</td>\n",
       "      <td>215.149994</td>\n",
       "      <td>211.490005</td>\n",
       "      <td>212.690002</td>\n",
       "      <td>42432400</td>\n",
       "      <td>8.105121e+10</td>\n",
       "      <td>104625321400</td>\n",
       "      <td>-0.095102</td>\n",
       "      <td>-1.189716e+08</td>\n",
       "      <td>6.253443</td>\n",
       "      <td>...</td>\n",
       "      <td>-1.264791</td>\n",
       "      <td>1.990663</td>\n",
       "      <td>2.690146</td>\n",
       "      <td>-0.699483</td>\n",
       "      <td>221.151841</td>\n",
       "      <td>-0.612148</td>\n",
       "      <td>-0.614030</td>\n",
       "      <td>25155.580811</td>\n",
       "      <td>233.455149</td>\n",
       "      <td>227.588524</td>\n",
       "    </tr>\n",
       "    <tr>\n",
       "      <th>2025-03-19 00:00:00-04:00</th>\n",
       "      <td>214.220001</td>\n",
       "      <td>218.759995</td>\n",
       "      <td>213.750000</td>\n",
       "      <td>215.240005</td>\n",
       "      <td>54385400</td>\n",
       "      <td>8.102917e+10</td>\n",
       "      <td>104679706800</td>\n",
       "      <td>-0.120357</td>\n",
       "      <td>-8.216384e+07</td>\n",
       "      <td>27.037259</td>\n",
       "      <td>...</td>\n",
       "      <td>-1.053981</td>\n",
       "      <td>1.904333</td>\n",
       "      <td>2.532984</td>\n",
       "      <td>-0.628650</td>\n",
       "      <td>220.383984</td>\n",
       "      <td>1.198929</td>\n",
       "      <td>1.191799</td>\n",
       "      <td>25458.377404</td>\n",
       "      <td>232.898094</td>\n",
       "      <td>227.711478</td>\n",
       "    </tr>\n",
       "    <tr>\n",
       "      <th>2025-03-20 00:00:00-04:00</th>\n",
       "      <td>213.990005</td>\n",
       "      <td>217.490005</td>\n",
       "      <td>212.220001</td>\n",
       "      <td>214.100006</td>\n",
       "      <td>48799300</td>\n",
       "      <td>8.101519e+10</td>\n",
       "      <td>104630907500</td>\n",
       "      <td>-0.138891</td>\n",
       "      <td>-7.837345e+07</td>\n",
       "      <td>-15.119016</td>\n",
       "      <td>...</td>\n",
       "      <td>-0.884111</td>\n",
       "      <td>0.983404</td>\n",
       "      <td>2.223068</td>\n",
       "      <td>-1.239664</td>\n",
       "      <td>219.543761</td>\n",
       "      <td>-0.529641</td>\n",
       "      <td>-0.531049</td>\n",
       "      <td>25323.009750</td>\n",
       "      <td>232.285476</td>\n",
       "      <td>227.823948</td>\n",
       "    </tr>\n",
       "    <tr>\n",
       "      <th>2025-03-21 00:00:00-04:00</th>\n",
       "      <td>211.514999</td>\n",
       "      <td>215.479996</td>\n",
       "      <td>211.470001</td>\n",
       "      <td>215.160004</td>\n",
       "      <td>34288245</td>\n",
       "      <td>8.104401e+10</td>\n",
       "      <td>104665195745</td>\n",
       "      <td>-0.072391</td>\n",
       "      <td>-6.198504e+07</td>\n",
       "      <td>-16.139094</td>\n",
       "      <td>...</td>\n",
       "      <td>-0.683166</td>\n",
       "      <td>-2.006683</td>\n",
       "      <td>1.377118</td>\n",
       "      <td>-3.383801</td>\n",
       "      <td>218.746222</td>\n",
       "      <td>0.495095</td>\n",
       "      <td>0.493873</td>\n",
       "      <td>25448.877697</td>\n",
       "      <td>231.749796</td>\n",
       "      <td>227.932847</td>\n",
       "    </tr>\n",
       "  </tbody>\n",
       "</table>\n",
       "<p>5 rows × 93 columns</p>\n",
       "</div>"
      ],
      "text/plain": [
       "                                 Open        High         Low       Close  \\\n",
       "Date                                                                        \n",
       "2025-03-17 00:00:00-04:00  213.309998  215.220001  209.970001  214.000000   \n",
       "2025-03-18 00:00:00-04:00  214.160004  215.149994  211.490005  212.690002   \n",
       "2025-03-19 00:00:00-04:00  214.220001  218.759995  213.750000  215.240005   \n",
       "2025-03-20 00:00:00-04:00  213.990005  217.490005  212.220001  214.100006   \n",
       "2025-03-21 00:00:00-04:00  211.514999  215.479996  211.470001  215.160004   \n",
       "\n",
       "                             Volume    volume_adi    volume_obv  volume_cmf  \\\n",
       "Date                                                                          \n",
       "2025-03-17 00:00:00-04:00  48073400  8.106582e+10  104667753800   -0.053010   \n",
       "2025-03-18 00:00:00-04:00  42432400  8.105121e+10  104625321400   -0.095102   \n",
       "2025-03-19 00:00:00-04:00  54385400  8.102917e+10  104679706800   -0.120357   \n",
       "2025-03-20 00:00:00-04:00  48799300  8.101519e+10  104630907500   -0.138891   \n",
       "2025-03-21 00:00:00-04:00  34288245  8.104401e+10  104665195745   -0.072391   \n",
       "\n",
       "                              volume_fi  volume_em  ...  momentum_ppo_hist  \\\n",
       "Date                                                ...                      \n",
       "2025-03-17 00:00:00-04:00 -1.295358e+08   9.064284  ...          -1.360107   \n",
       "2025-03-18 00:00:00-04:00 -1.189716e+08   6.253443  ...          -1.264791   \n",
       "2025-03-19 00:00:00-04:00 -8.216384e+07  27.037259  ...          -1.053981   \n",
       "2025-03-20 00:00:00-04:00 -7.837345e+07 -15.119016  ...          -0.884111   \n",
       "2025-03-21 00:00:00-04:00 -6.198504e+07 -16.139094  ...          -0.683166   \n",
       "\n",
       "                           momentum_pvo  momentum_pvo_signal  \\\n",
       "Date                                                           \n",
       "2025-03-17 00:00:00-04:00      4.299377             2.865017   \n",
       "2025-03-18 00:00:00-04:00      1.990663             2.690146   \n",
       "2025-03-19 00:00:00-04:00      1.904333             2.532984   \n",
       "2025-03-20 00:00:00-04:00      0.983404             2.223068   \n",
       "2025-03-21 00:00:00-04:00     -2.006683             1.377118   \n",
       "\n",
       "                           momentum_pvo_hist  momentum_kama  others_dr  \\\n",
       "Date                                                                     \n",
       "2025-03-17 00:00:00-04:00           1.434360     222.964777   0.238884   \n",
       "2025-03-18 00:00:00-04:00          -0.699483     221.151841  -0.612148   \n",
       "2025-03-19 00:00:00-04:00          -0.628650     220.383984   1.198929   \n",
       "2025-03-20 00:00:00-04:00          -1.239664     219.543761  -0.529641   \n",
       "2025-03-21 00:00:00-04:00          -3.383801     218.746222   0.495095   \n",
       "\n",
       "                           others_dlr     others_cr      SMA_50     SMA_200  \n",
       "Date                                                                         \n",
       "2025-03-17 00:00:00-04:00    0.238600  25311.134663  234.072993  227.473337  \n",
       "2025-03-18 00:00:00-04:00   -0.614030  25155.580811  233.455149  227.588524  \n",
       "2025-03-19 00:00:00-04:00    1.191799  25458.377404  232.898094  227.711478  \n",
       "2025-03-20 00:00:00-04:00   -0.531049  25323.009750  232.285476  227.823948  \n",
       "2025-03-21 00:00:00-04:00    0.493873  25448.877697  231.749796  227.932847  \n",
       "\n",
       "[5 rows x 93 columns]"
      ]
     },
     "execution_count": 48,
     "metadata": {},
     "output_type": "execute_result"
    }
   ],
   "source": [
    "# Get indicators\n",
    "df = calculate_indicators(df)\n",
    "df.tail()"
   ]
  },
  {
   "cell_type": "code",
   "execution_count": null,
   "metadata": {},
   "outputs": [
    {
     "name": "stdout",
     "output_type": "stream",
     "text": [
      "\n",
      "Technical Analysis for AAPL:\n",
      "Trend: Uptrend\n",
      "Momentum: Neutral\n",
      "Volatility: Normal volatility\n",
      "Volume: Increasing\n"
     ]
    }
   ],
   "source": [
    "# get other analysis\n",
    "trend = analyze_trend(df)\n",
    "momentum = analyze_momentum(df)\n",
    "volatility = analyze_volatility(df)\n",
    "volume = analyze_volume(df)\n",
    "\n",
    "print(f\"\\nTechnical Analysis for {ticker}:\")\n",
    "print(f\"Trend: {trend}\")\n",
    "print(f\"Momentum: {momentum}\")\n",
    "print(f\"Volatility: {volatility}\")\n",
    "print(f\"Volume: {volume}\")"
   ]
  },
  {
   "cell_type": "code",
   "execution_count": null,
   "metadata": {},
   "outputs": [
    {
     "name": "stdout",
     "output_type": "stream",
     "text": [
      "\n",
      "Signal: Strong Buy\n",
      "Suggestion: Consider opening a long position.\n"
     ]
    }
   ],
   "source": [
    "# give signal\n",
    "try:\n",
    "    if \"Insufficient data\" not in [trend, momentum, volatility, volume]:\n",
    "        signal = generate_signal(trend, momentum, volatility, volume)\n",
    "        print(f\"\\nSignal: {signal}\")\n",
    "\n",
    "        if signal == \"Strong Buy\" or signal == \"Buy\":\n",
    "            print(\"Suggestion: Consider opening a long position.\")\n",
    "        elif signal == \"Strong Sell\" or signal == \"Sell\":\n",
    "            print(\"Suggestion: Consider opening a short position or selling existing holdings.\")\n",
    "        else:\n",
    "            print(\"Suggestion: Monitor the stock closely for potential entry or exit opportunities.\")\n",
    "    else:\n",
    "        print(\"\\nUnable to generate a signal due to insufficient data.\")\n",
    "\n",
    "except Exception as e:\n",
    "    print(f\"An error occurred: {str(e)}\")\n",
    "    print(\"Please check your input parameters and ensure all required libraries are installed.\")\n"
   ]
  },
  {
   "cell_type": "markdown",
   "metadata": {},
   "source": [
    "### CAPM function"
   ]
  },
  {
   "cell_type": "code",
   "execution_count": null,
   "metadata": {},
   "outputs": [],
   "source": [
    "# Finding best period for capm using volatility --> not in use\n",
    "import yfinance as yf\n",
    "import pandas as pd\n",
    "import numpy as np\n",
    "import statsmodels.api as sm\n",
    "from datetime import datetime, timedelta\n",
    "\n",
    "def calculate_volatility(returns):\n",
    "    return returns.std() * np.sqrt(252)  # Annualized volatility\n",
    "\n",
    "def calculate_beta(stock_returns, market_returns):\n",
    "    X = sm.add_constant(market_returns.dropna())  # Add constant term\n",
    "    y = stock_returns.loc[X.index]  # Ensure aligned indexes\n",
    "    if len(X) < 2:  # Ensure enough data points for regression\n",
    "        return np.nan\n",
    "    model = sm.OLS(y, X).fit()\n",
    "    return model.params[1]\n",
    "\n",
    "def calculate_capm(risk_free_rate, beta, market_return):\n",
    "    return risk_free_rate + beta * (market_return - risk_free_rate)\n",
    "\n",
    "def analyze_stock(ticker, market_index='^GSPC', max_period=5):\n",
    "    end_date = datetime.now()\n",
    "    start_date = end_date - timedelta(days=max_period*365)\n",
    "\n",
    "    # Fetch stock and market data\n",
    "    stock_data = yf.download(ticker, start=start_date, end=end_date)['Close']\n",
    "    market_data = yf.download(market_index, start=start_date, end=end_date)['Close']\n",
    "    \n",
    "    if stock_data.empty or market_data.empty:\n",
    "        raise ValueError(f\"Failed to fetch data for {ticker} or {market_index}\")\n",
    "    \n",
    "    # Calculate daily returns\n",
    "    stock_returns = stock_data.pct_change().dropna()\n",
    "    market_returns = market_data.pct_change().dropna()\n",
    "\n",
    "    # Calculate volatilities and betas\n",
    "    volatilities, betas = {}, {}\n",
    "    for period in range(1, max_period + 1):\n",
    "        period_start = end_date - timedelta(days=period*365)\n",
    "        period_stock_returns = stock_returns.loc[stock_returns.index >= period_start]\n",
    "        period_market_returns = market_returns.loc[market_returns.index >= period_start]\n",
    "\n",
    "        if not period_stock_returns.empty and not period_market_returns.empty:\n",
    "            volatilities[period] = calculate_volatility(period_stock_returns)\n",
    "            betas[period] = calculate_beta(period_stock_returns, period_market_returns)\n",
    "    \n",
    "    # Handle case where not enough data is available\n",
    "    if len(volatilities) < 2 or len(betas) < 2:\n",
    "        raise ValueError(\"Not enough data to calculate stable volatility and beta.\")\n",
    "\n",
    "    # Choose the most stable period based on volatility changes\n",
    "    # Ensure volatility_changes is not empty before finding the min\n",
    "    \n",
    "\n",
    "    # Convert values to numeric scalars (avoid Series-related errors)\n",
    "    volatility_changes = {p: float(abs(volatilities[p] - volatilities[p - 1])) for p in range(2, max_period + 1)}\n",
    "    if not volatility_changes:\n",
    "        raise ValueError(\"Not enough stable volatility data available.\")\n",
    "    # Find the most stable period\n",
    "    else:\n",
    "        most_stable_period = min(volatility_changes, key=volatility_changes.get)\n",
    "        final_beta = round(float(betas[most_stable_period]),4)\n",
    "\n",
    "    \n",
    "\n",
    "    # Get risk-free rate from 10-year Treasury yield\n",
    "    try:\n",
    "        risk_free_rate = yf.Ticker('^TNX').info.get('regularMarketPrice', 2) / 100  # Default to 2% if missing\n",
    "    except:\n",
    "        risk_free_rate = 0.02  # Fallback value\n",
    "    \n",
    "    # Calculate expected return using CAPM\n",
    "    market_return = round(market_returns.mean() * 252,4)  # Annualized return\n",
    "    expected_return = round(calculate_capm(risk_free_rate, final_beta, market_return),4)\n",
    "\n",
    "    return {\n",
    "        'ticker': ticker,\n",
    "        'period_used': most_stable_period,\n",
    "        'beta': final_beta,\n",
    "        'CAPM': expected_return,\n",
    "        'Market Return': market_return\n",
    "    }\n"
   ]
  },
  {
   "cell_type": "code",
   "execution_count": null,
   "metadata": {},
   "outputs": [
    {
     "name": "stderr",
     "output_type": "stream",
     "text": [
      "[*********************100%***********************]  1 of 1 completed\n",
      "[*********************100%***********************]  1 of 1 completed\n",
      "C:\\Users\\smahd\\AppData\\Local\\Temp\\ipykernel_19076\\4009285744.py:16: FutureWarning:\n",
      "\n",
      "Series.__getitem__ treating keys as positions is deprecated. In a future version, integer keys will always be treated as labels (consistent with DataFrame behavior). To access a value by position, use `ser.iloc[pos]`\n",
      "\n",
      "C:\\Users\\smahd\\AppData\\Local\\Temp\\ipykernel_19076\\4009285744.py:16: FutureWarning:\n",
      "\n",
      "Series.__getitem__ treating keys as positions is deprecated. In a future version, integer keys will always be treated as labels (consistent with DataFrame behavior). To access a value by position, use `ser.iloc[pos]`\n",
      "\n",
      "C:\\Users\\smahd\\AppData\\Local\\Temp\\ipykernel_19076\\4009285744.py:16: FutureWarning:\n",
      "\n",
      "Series.__getitem__ treating keys as positions is deprecated. In a future version, integer keys will always be treated as labels (consistent with DataFrame behavior). To access a value by position, use `ser.iloc[pos]`\n",
      "\n",
      "C:\\Users\\smahd\\AppData\\Local\\Temp\\ipykernel_19076\\4009285744.py:16: FutureWarning:\n",
      "\n",
      "Series.__getitem__ treating keys as positions is deprecated. In a future version, integer keys will always be treated as labels (consistent with DataFrame behavior). To access a value by position, use `ser.iloc[pos]`\n",
      "\n",
      "C:\\Users\\smahd\\AppData\\Local\\Temp\\ipykernel_19076\\4009285744.py:16: FutureWarning:\n",
      "\n",
      "Series.__getitem__ treating keys as positions is deprecated. In a future version, integer keys will always be treated as labels (consistent with DataFrame behavior). To access a value by position, use `ser.iloc[pos]`\n",
      "\n",
      "C:\\Users\\smahd\\AppData\\Local\\Temp\\ipykernel_19076\\4009285744.py:56: FutureWarning:\n",
      "\n",
      "Calling float on a single element Series is deprecated and will raise a TypeError in the future. Use float(ser.iloc[0]) instead\n",
      "\n"
     ]
    },
    {
     "data": {
      "text/plain": [
       "{'ticker': 'AAPL',\n",
       " 'period_used': 4,\n",
       " 'beta': 1.2008,\n",
       " 'CAPM': Ticker\n",
       " ^GSPC    0.1996\n",
       " dtype: float64,\n",
       " 'Market Return': Ticker\n",
       " ^GSPC    0.1735\n",
       " dtype: float64}"
      ]
     },
     "execution_count": 107,
     "metadata": {},
     "output_type": "execute_result"
    }
   ],
   "source": [
    "analyze_stock(ticker, market_index='^GSPC', max_period=5)"
   ]
  },
  {
   "cell_type": "code",
   "execution_count": 7,
   "metadata": {},
   "outputs": [
    {
     "name": "stderr",
     "output_type": "stream",
     "text": [
      "[*********************100%***********************]  1 of 1 completed"
     ]
    },
    {
     "name": "stdout",
     "output_type": "stream",
     "text": [
      "Risk-Free Rate: Ticker\n",
      "^IRX    4.188\n",
      "Name: 2025-03-27 00:00:00, dtype: float64\n"
     ]
    },
    {
     "name": "stderr",
     "output_type": "stream",
     "text": [
      "\n"
     ]
    }
   ],
   "source": [
    "# check if rate can be downloaded correctly\n",
    "import yfinance as yf\n",
    "import pandas as pd\n",
    "from datetime import datetime, timedelta\n",
    "\n",
    "max_period = 5  # Maximum period in years\n",
    "end_date = datetime.now().date()  # Only the date part\n",
    "start_date = end_date - timedelta(days=max_period * 365)\n",
    "# Download risk-free rate data\n",
    "risk_free_rate = yf.download(\"^IRX\", start=start_date, end=end_date)\n",
    "risk_free_rate = risk_free_rate['Close'].iloc[-1]\n",
    "print(\"Risk-Free Rate:\", risk_free_rate)\n"
   ]
  },
  {
   "cell_type": "code",
   "execution_count": 9,
   "metadata": {},
   "outputs": [
    {
     "data": {
      "text/html": [
       "<div>\n",
       "<style scoped>\n",
       "    .dataframe tbody tr th:only-of-type {\n",
       "        vertical-align: middle;\n",
       "    }\n",
       "\n",
       "    .dataframe tbody tr th {\n",
       "        vertical-align: top;\n",
       "    }\n",
       "\n",
       "    .dataframe thead th {\n",
       "        text-align: right;\n",
       "    }\n",
       "</style>\n",
       "<table border=\"1\" class=\"dataframe\">\n",
       "  <thead>\n",
       "    <tr style=\"text-align: right;\">\n",
       "      <th></th>\n",
       "      <th>Open</th>\n",
       "      <th>High</th>\n",
       "      <th>Low</th>\n",
       "      <th>Close</th>\n",
       "      <th>Volume</th>\n",
       "      <th>Dividends</th>\n",
       "      <th>Stock Splits</th>\n",
       "    </tr>\n",
       "    <tr>\n",
       "      <th>Date</th>\n",
       "      <th></th>\n",
       "      <th></th>\n",
       "      <th></th>\n",
       "      <th></th>\n",
       "      <th></th>\n",
       "      <th></th>\n",
       "      <th></th>\n",
       "    </tr>\n",
       "  </thead>\n",
       "  <tbody>\n",
       "    <tr>\n",
       "      <th>2025-03-26 00:00:00-04:00</th>\n",
       "      <td>223.509995</td>\n",
       "      <td>225.020004</td>\n",
       "      <td>220.470001</td>\n",
       "      <td>221.529999</td>\n",
       "      <td>34532700</td>\n",
       "      <td>0.0</td>\n",
       "      <td>0.0</td>\n",
       "    </tr>\n",
       "    <tr>\n",
       "      <th>2025-03-27 00:00:00-04:00</th>\n",
       "      <td>221.389999</td>\n",
       "      <td>224.990005</td>\n",
       "      <td>220.559998</td>\n",
       "      <td>223.850006</td>\n",
       "      <td>37049500</td>\n",
       "      <td>0.0</td>\n",
       "      <td>0.0</td>\n",
       "    </tr>\n",
       "  </tbody>\n",
       "</table>\n",
       "</div>"
      ],
      "text/plain": [
       "                                 Open        High         Low       Close  \\\n",
       "Date                                                                        \n",
       "2025-03-26 00:00:00-04:00  223.509995  225.020004  220.470001  221.529999   \n",
       "2025-03-27 00:00:00-04:00  221.389999  224.990005  220.559998  223.850006   \n",
       "\n",
       "                             Volume  Dividends  Stock Splits  \n",
       "Date                                                          \n",
       "2025-03-26 00:00:00-04:00  34532700        0.0           0.0  \n",
       "2025-03-27 00:00:00-04:00  37049500        0.0           0.0  "
      ]
     },
     "execution_count": 9,
     "metadata": {},
     "output_type": "execute_result"
    }
   ],
   "source": [
    "# getting stock and market data directly not via function\n",
    "stock_data = yf.Ticker(\"AAPL\").history(period=\"max\", interval=\"1d\")\n",
    "market_data = yf.Ticker(\"^GSPC\").history(period=\"max\", interval=\"1d\")\n",
    "rf_data = yf.Ticker(\"^FVX\").history(period=\"max\", interval=\"1d\")\n",
    "# stock_data, market_data, rf_data .reset_index(inplace=True)\n",
    "# stock_data[\"Date\"], market_data[\"Date\"] = pd.to_datetime(stock_data[\"Date\"]).dt.strftime(\"%Y-%m-%d\")\n",
    "\n",
    "stock_data.tail(2)"
   ]
  },
  {
   "cell_type": "code",
   "execution_count": null,
   "metadata": {},
   "outputs": [
    {
     "ename": "KeyError",
     "evalue": "'stock_returns'",
     "output_type": "error",
     "traceback": [
      "\u001b[1;31m---------------------------------------------------------------------------\u001b[0m",
      "\u001b[1;31mKeyError\u001b[0m                                  Traceback (most recent call last)",
      "File \u001b[1;32mc:\\Desktop\\python_projects\\project_env\\Lib\\site-packages\\pandas\\core\\indexes\\base.py:3805\u001b[0m, in \u001b[0;36mIndex.get_loc\u001b[1;34m(self, key)\u001b[0m\n\u001b[0;32m   3804\u001b[0m \u001b[38;5;28;01mtry\u001b[39;00m:\n\u001b[1;32m-> 3805\u001b[0m     \u001b[38;5;28;01mreturn\u001b[39;00m \u001b[38;5;28;43mself\u001b[39;49m\u001b[38;5;241;43m.\u001b[39;49m\u001b[43m_engine\u001b[49m\u001b[38;5;241;43m.\u001b[39;49m\u001b[43mget_loc\u001b[49m\u001b[43m(\u001b[49m\u001b[43mcasted_key\u001b[49m\u001b[43m)\u001b[49m\n\u001b[0;32m   3806\u001b[0m \u001b[38;5;28;01mexcept\u001b[39;00m \u001b[38;5;167;01mKeyError\u001b[39;00m \u001b[38;5;28;01mas\u001b[39;00m err:\n",
      "File \u001b[1;32mindex.pyx:167\u001b[0m, in \u001b[0;36mpandas._libs.index.IndexEngine.get_loc\u001b[1;34m()\u001b[0m\n",
      "File \u001b[1;32mindex.pyx:196\u001b[0m, in \u001b[0;36mpandas._libs.index.IndexEngine.get_loc\u001b[1;34m()\u001b[0m\n",
      "File \u001b[1;32mpandas\\\\_libs\\\\hashtable_class_helper.pxi:7081\u001b[0m, in \u001b[0;36mpandas._libs.hashtable.PyObjectHashTable.get_item\u001b[1;34m()\u001b[0m\n",
      "File \u001b[1;32mpandas\\\\_libs\\\\hashtable_class_helper.pxi:7089\u001b[0m, in \u001b[0;36mpandas._libs.hashtable.PyObjectHashTable.get_item\u001b[1;34m()\u001b[0m\n",
      "\u001b[1;31mKeyError\u001b[0m: 'stock_returns'",
      "\nThe above exception was the direct cause of the following exception:\n",
      "\u001b[1;31mKeyError\u001b[0m                                  Traceback (most recent call last)",
      "Cell \u001b[1;32mIn[10], line 46\u001b[0m\n\u001b[0;32m     37\u001b[0m     market_returns \u001b[38;5;241m=\u001b[39m market_data\u001b[38;5;241m.\u001b[39mloc[common_dates, \u001b[38;5;124m'\u001b[39m\u001b[38;5;124mmarket_returns\u001b[39m\u001b[38;5;124m'\u001b[39m]\n\u001b[0;32m     39\u001b[0m     \u001b[38;5;66;03m# # Format the index to 'YYYY-MM-DD' and drop NaN values\u001b[39;00m\n\u001b[0;32m     40\u001b[0m     \u001b[38;5;66;03m# combined_data.index = combined_data.index.strftime('%Y-%m-%d')\u001b[39;00m\n\u001b[0;32m     41\u001b[0m     \u001b[38;5;66;03m# return combined_data.dropna()\u001b[39;00m\n\u001b[1;32m   (...)\u001b[0m\n\u001b[0;32m     44\u001b[0m \u001b[38;5;66;03m# Assuming stock_data, market_data, and rf_data are pre-existing DataFrames\u001b[39;00m\n\u001b[0;32m     45\u001b[0m \u001b[38;5;66;03m# start_date and end_date are pre-calculated dates (strings or datetime objects)\u001b[39;00m\n\u001b[1;32m---> 46\u001b[0m df \u001b[38;5;241m=\u001b[39m \u001b[43mget_stock_data\u001b[49m\u001b[43m(\u001b[49m\u001b[43mstock_data\u001b[49m\u001b[43m,\u001b[49m\u001b[43m \u001b[49m\u001b[43mmarket_data\u001b[49m\u001b[43m,\u001b[49m\u001b[43m \u001b[49m\u001b[43mrf_data\u001b[49m\u001b[43m,\u001b[49m\u001b[43m \u001b[49m\u001b[43mstart_date\u001b[49m\u001b[43m,\u001b[49m\u001b[43m \u001b[49m\u001b[43mend_date\u001b[49m\u001b[43m)\u001b[49m\n\u001b[0;32m     47\u001b[0m \u001b[38;5;28mprint\u001b[39m(df\u001b[38;5;241m.\u001b[39mhead())\n\u001b[0;32m     48\u001b[0m \u001b[38;5;28mprint\u001b[39m(\u001b[38;5;124mf\u001b[39m\u001b[38;5;124m\"\u001b[39m\u001b[38;5;124mShape of the DataFrame: \u001b[39m\u001b[38;5;132;01m{\u001b[39;00mdf\u001b[38;5;241m.\u001b[39mshape\u001b[38;5;132;01m}\u001b[39;00m\u001b[38;5;124m\"\u001b[39m)\n",
      "Cell \u001b[1;32mIn[10], line 36\u001b[0m, in \u001b[0;36mget_stock_data\u001b[1;34m(stock_data, market_data, rf_data, start_date, end_date)\u001b[0m\n\u001b[0;32m     27\u001b[0m \u001b[38;5;66;03m# Combine data into a single DataFrame\u001b[39;00m\n\u001b[0;32m     28\u001b[0m \u001b[38;5;66;03m# combined_data = pd.concat([\u001b[39;00m\n\u001b[0;32m     29\u001b[0m \u001b[38;5;66;03m#     stock_data['Close'].rename('Stock'),\u001b[39;00m\n\u001b[1;32m   (...)\u001b[0m\n\u001b[0;32m     33\u001b[0m \n\u001b[0;32m     34\u001b[0m \u001b[38;5;66;03m# Ensure we have matching dates for both datasets\u001b[39;00m\n\u001b[0;32m     35\u001b[0m common_dates \u001b[38;5;241m=\u001b[39m stock_data\u001b[38;5;241m.\u001b[39mindex\u001b[38;5;241m.\u001b[39mintersection(market_data\u001b[38;5;241m.\u001b[39mindex)\n\u001b[1;32m---> 36\u001b[0m stock_returns \u001b[38;5;241m=\u001b[39m \u001b[43mstock_data\u001b[49m\u001b[38;5;241;43m.\u001b[39;49m\u001b[43mloc\u001b[49m\u001b[43m[\u001b[49m\u001b[43mcommon_dates\u001b[49m\u001b[43m,\u001b[49m\u001b[43m \u001b[49m\u001b[38;5;124;43m'\u001b[39;49m\u001b[38;5;124;43mstock_returns\u001b[39;49m\u001b[38;5;124;43m'\u001b[39;49m\u001b[43m]\u001b[49m\n\u001b[0;32m     37\u001b[0m market_returns \u001b[38;5;241m=\u001b[39m market_data\u001b[38;5;241m.\u001b[39mloc[common_dates, \u001b[38;5;124m'\u001b[39m\u001b[38;5;124mmarket_returns\u001b[39m\u001b[38;5;124m'\u001b[39m]\n",
      "File \u001b[1;32mc:\\Desktop\\python_projects\\project_env\\Lib\\site-packages\\pandas\\core\\indexing.py:1184\u001b[0m, in \u001b[0;36m_LocationIndexer.__getitem__\u001b[1;34m(self, key)\u001b[0m\n\u001b[0;32m   1182\u001b[0m     \u001b[38;5;28;01mif\u001b[39;00m \u001b[38;5;28mself\u001b[39m\u001b[38;5;241m.\u001b[39m_is_scalar_access(key):\n\u001b[0;32m   1183\u001b[0m         \u001b[38;5;28;01mreturn\u001b[39;00m \u001b[38;5;28mself\u001b[39m\u001b[38;5;241m.\u001b[39mobj\u001b[38;5;241m.\u001b[39m_get_value(\u001b[38;5;241m*\u001b[39mkey, takeable\u001b[38;5;241m=\u001b[39m\u001b[38;5;28mself\u001b[39m\u001b[38;5;241m.\u001b[39m_takeable)\n\u001b[1;32m-> 1184\u001b[0m     \u001b[38;5;28;01mreturn\u001b[39;00m \u001b[38;5;28;43mself\u001b[39;49m\u001b[38;5;241;43m.\u001b[39;49m\u001b[43m_getitem_tuple\u001b[49m\u001b[43m(\u001b[49m\u001b[43mkey\u001b[49m\u001b[43m)\u001b[49m\n\u001b[0;32m   1185\u001b[0m \u001b[38;5;28;01melse\u001b[39;00m:\n\u001b[0;32m   1186\u001b[0m     \u001b[38;5;66;03m# we by definition only have the 0th axis\u001b[39;00m\n\u001b[0;32m   1187\u001b[0m     axis \u001b[38;5;241m=\u001b[39m \u001b[38;5;28mself\u001b[39m\u001b[38;5;241m.\u001b[39maxis \u001b[38;5;129;01mor\u001b[39;00m \u001b[38;5;241m0\u001b[39m\n",
      "File \u001b[1;32mc:\\Desktop\\python_projects\\project_env\\Lib\\site-packages\\pandas\\core\\indexing.py:1368\u001b[0m, in \u001b[0;36m_LocIndexer._getitem_tuple\u001b[1;34m(self, tup)\u001b[0m\n\u001b[0;32m   1366\u001b[0m \u001b[38;5;28;01mwith\u001b[39;00m suppress(IndexingError):\n\u001b[0;32m   1367\u001b[0m     tup \u001b[38;5;241m=\u001b[39m \u001b[38;5;28mself\u001b[39m\u001b[38;5;241m.\u001b[39m_expand_ellipsis(tup)\n\u001b[1;32m-> 1368\u001b[0m     \u001b[38;5;28;01mreturn\u001b[39;00m \u001b[38;5;28;43mself\u001b[39;49m\u001b[38;5;241;43m.\u001b[39;49m\u001b[43m_getitem_lowerdim\u001b[49m\u001b[43m(\u001b[49m\u001b[43mtup\u001b[49m\u001b[43m)\u001b[49m\n\u001b[0;32m   1370\u001b[0m \u001b[38;5;66;03m# no multi-index, so validate all of the indexers\u001b[39;00m\n\u001b[0;32m   1371\u001b[0m tup \u001b[38;5;241m=\u001b[39m \u001b[38;5;28mself\u001b[39m\u001b[38;5;241m.\u001b[39m_validate_tuple_indexer(tup)\n",
      "File \u001b[1;32mc:\\Desktop\\python_projects\\project_env\\Lib\\site-packages\\pandas\\core\\indexing.py:1065\u001b[0m, in \u001b[0;36m_LocationIndexer._getitem_lowerdim\u001b[1;34m(self, tup)\u001b[0m\n\u001b[0;32m   1061\u001b[0m \u001b[38;5;28;01mfor\u001b[39;00m i, key \u001b[38;5;129;01min\u001b[39;00m \u001b[38;5;28menumerate\u001b[39m(tup):\n\u001b[0;32m   1062\u001b[0m     \u001b[38;5;28;01mif\u001b[39;00m is_label_like(key):\n\u001b[0;32m   1063\u001b[0m         \u001b[38;5;66;03m# We don't need to check for tuples here because those are\u001b[39;00m\n\u001b[0;32m   1064\u001b[0m         \u001b[38;5;66;03m#  caught by the _is_nested_tuple_indexer check above.\u001b[39;00m\n\u001b[1;32m-> 1065\u001b[0m         section \u001b[38;5;241m=\u001b[39m \u001b[38;5;28;43mself\u001b[39;49m\u001b[38;5;241;43m.\u001b[39;49m\u001b[43m_getitem_axis\u001b[49m\u001b[43m(\u001b[49m\u001b[43mkey\u001b[49m\u001b[43m,\u001b[49m\u001b[43m \u001b[49m\u001b[43maxis\u001b[49m\u001b[38;5;241;43m=\u001b[39;49m\u001b[43mi\u001b[49m\u001b[43m)\u001b[49m\n\u001b[0;32m   1067\u001b[0m         \u001b[38;5;66;03m# We should never have a scalar section here, because\u001b[39;00m\n\u001b[0;32m   1068\u001b[0m         \u001b[38;5;66;03m#  _getitem_lowerdim is only called after a check for\u001b[39;00m\n\u001b[0;32m   1069\u001b[0m         \u001b[38;5;66;03m#  is_scalar_access, which that would be.\u001b[39;00m\n\u001b[0;32m   1070\u001b[0m         \u001b[38;5;28;01mif\u001b[39;00m section\u001b[38;5;241m.\u001b[39mndim \u001b[38;5;241m==\u001b[39m \u001b[38;5;28mself\u001b[39m\u001b[38;5;241m.\u001b[39mndim:\n\u001b[0;32m   1071\u001b[0m             \u001b[38;5;66;03m# we're in the middle of slicing through a MultiIndex\u001b[39;00m\n\u001b[0;32m   1072\u001b[0m             \u001b[38;5;66;03m# revise the key wrt to `section` by inserting an _NS\u001b[39;00m\n",
      "File \u001b[1;32mc:\\Desktop\\python_projects\\project_env\\Lib\\site-packages\\pandas\\core\\indexing.py:1431\u001b[0m, in \u001b[0;36m_LocIndexer._getitem_axis\u001b[1;34m(self, key, axis)\u001b[0m\n\u001b[0;32m   1429\u001b[0m \u001b[38;5;66;03m# fall thru to straight lookup\u001b[39;00m\n\u001b[0;32m   1430\u001b[0m \u001b[38;5;28mself\u001b[39m\u001b[38;5;241m.\u001b[39m_validate_key(key, axis)\n\u001b[1;32m-> 1431\u001b[0m \u001b[38;5;28;01mreturn\u001b[39;00m \u001b[38;5;28;43mself\u001b[39;49m\u001b[38;5;241;43m.\u001b[39;49m\u001b[43m_get_label\u001b[49m\u001b[43m(\u001b[49m\u001b[43mkey\u001b[49m\u001b[43m,\u001b[49m\u001b[43m \u001b[49m\u001b[43maxis\u001b[49m\u001b[38;5;241;43m=\u001b[39;49m\u001b[43maxis\u001b[49m\u001b[43m)\u001b[49m\n",
      "File \u001b[1;32mc:\\Desktop\\python_projects\\project_env\\Lib\\site-packages\\pandas\\core\\indexing.py:1381\u001b[0m, in \u001b[0;36m_LocIndexer._get_label\u001b[1;34m(self, label, axis)\u001b[0m\n\u001b[0;32m   1379\u001b[0m \u001b[38;5;28;01mdef\u001b[39;00m \u001b[38;5;21m_get_label\u001b[39m(\u001b[38;5;28mself\u001b[39m, label, axis: AxisInt):\n\u001b[0;32m   1380\u001b[0m     \u001b[38;5;66;03m# GH#5567 this will fail if the label is not present in the axis.\u001b[39;00m\n\u001b[1;32m-> 1381\u001b[0m     \u001b[38;5;28;01mreturn\u001b[39;00m \u001b[38;5;28;43mself\u001b[39;49m\u001b[38;5;241;43m.\u001b[39;49m\u001b[43mobj\u001b[49m\u001b[38;5;241;43m.\u001b[39;49m\u001b[43mxs\u001b[49m\u001b[43m(\u001b[49m\u001b[43mlabel\u001b[49m\u001b[43m,\u001b[49m\u001b[43m \u001b[49m\u001b[43maxis\u001b[49m\u001b[38;5;241;43m=\u001b[39;49m\u001b[43maxis\u001b[49m\u001b[43m)\u001b[49m\n",
      "File \u001b[1;32mc:\\Desktop\\python_projects\\project_env\\Lib\\site-packages\\pandas\\core\\generic.py:4287\u001b[0m, in \u001b[0;36mNDFrame.xs\u001b[1;34m(self, key, axis, level, drop_level)\u001b[0m\n\u001b[0;32m   4285\u001b[0m \u001b[38;5;28;01mif\u001b[39;00m axis \u001b[38;5;241m==\u001b[39m \u001b[38;5;241m1\u001b[39m:\n\u001b[0;32m   4286\u001b[0m     \u001b[38;5;28;01mif\u001b[39;00m drop_level:\n\u001b[1;32m-> 4287\u001b[0m         \u001b[38;5;28;01mreturn\u001b[39;00m \u001b[38;5;28;43mself\u001b[39;49m\u001b[43m[\u001b[49m\u001b[43mkey\u001b[49m\u001b[43m]\u001b[49m\n\u001b[0;32m   4288\u001b[0m     index \u001b[38;5;241m=\u001b[39m \u001b[38;5;28mself\u001b[39m\u001b[38;5;241m.\u001b[39mcolumns\n\u001b[0;32m   4289\u001b[0m \u001b[38;5;28;01melse\u001b[39;00m:\n",
      "File \u001b[1;32mc:\\Desktop\\python_projects\\project_env\\Lib\\site-packages\\pandas\\core\\frame.py:4102\u001b[0m, in \u001b[0;36mDataFrame.__getitem__\u001b[1;34m(self, key)\u001b[0m\n\u001b[0;32m   4100\u001b[0m \u001b[38;5;28;01mif\u001b[39;00m \u001b[38;5;28mself\u001b[39m\u001b[38;5;241m.\u001b[39mcolumns\u001b[38;5;241m.\u001b[39mnlevels \u001b[38;5;241m>\u001b[39m \u001b[38;5;241m1\u001b[39m:\n\u001b[0;32m   4101\u001b[0m     \u001b[38;5;28;01mreturn\u001b[39;00m \u001b[38;5;28mself\u001b[39m\u001b[38;5;241m.\u001b[39m_getitem_multilevel(key)\n\u001b[1;32m-> 4102\u001b[0m indexer \u001b[38;5;241m=\u001b[39m \u001b[38;5;28;43mself\u001b[39;49m\u001b[38;5;241;43m.\u001b[39;49m\u001b[43mcolumns\u001b[49m\u001b[38;5;241;43m.\u001b[39;49m\u001b[43mget_loc\u001b[49m\u001b[43m(\u001b[49m\u001b[43mkey\u001b[49m\u001b[43m)\u001b[49m\n\u001b[0;32m   4103\u001b[0m \u001b[38;5;28;01mif\u001b[39;00m is_integer(indexer):\n\u001b[0;32m   4104\u001b[0m     indexer \u001b[38;5;241m=\u001b[39m [indexer]\n",
      "File \u001b[1;32mc:\\Desktop\\python_projects\\project_env\\Lib\\site-packages\\pandas\\core\\indexes\\base.py:3812\u001b[0m, in \u001b[0;36mIndex.get_loc\u001b[1;34m(self, key)\u001b[0m\n\u001b[0;32m   3807\u001b[0m     \u001b[38;5;28;01mif\u001b[39;00m \u001b[38;5;28misinstance\u001b[39m(casted_key, \u001b[38;5;28mslice\u001b[39m) \u001b[38;5;129;01mor\u001b[39;00m (\n\u001b[0;32m   3808\u001b[0m         \u001b[38;5;28misinstance\u001b[39m(casted_key, abc\u001b[38;5;241m.\u001b[39mIterable)\n\u001b[0;32m   3809\u001b[0m         \u001b[38;5;129;01mand\u001b[39;00m \u001b[38;5;28many\u001b[39m(\u001b[38;5;28misinstance\u001b[39m(x, \u001b[38;5;28mslice\u001b[39m) \u001b[38;5;28;01mfor\u001b[39;00m x \u001b[38;5;129;01min\u001b[39;00m casted_key)\n\u001b[0;32m   3810\u001b[0m     ):\n\u001b[0;32m   3811\u001b[0m         \u001b[38;5;28;01mraise\u001b[39;00m InvalidIndexError(key)\n\u001b[1;32m-> 3812\u001b[0m     \u001b[38;5;28;01mraise\u001b[39;00m \u001b[38;5;167;01mKeyError\u001b[39;00m(key) \u001b[38;5;28;01mfrom\u001b[39;00m \u001b[38;5;21;01merr\u001b[39;00m\n\u001b[0;32m   3813\u001b[0m \u001b[38;5;28;01mexcept\u001b[39;00m \u001b[38;5;167;01mTypeError\u001b[39;00m:\n\u001b[0;32m   3814\u001b[0m     \u001b[38;5;66;03m# If we have a listlike key, _check_indexing_error will raise\u001b[39;00m\n\u001b[0;32m   3815\u001b[0m     \u001b[38;5;66;03m#  InvalidIndexError. Otherwise we fall through and re-raise\u001b[39;00m\n\u001b[0;32m   3816\u001b[0m     \u001b[38;5;66;03m#  the TypeError.\u001b[39;00m\n\u001b[0;32m   3817\u001b[0m     \u001b[38;5;28mself\u001b[39m\u001b[38;5;241m.\u001b[39m_check_indexing_error(key)\n",
      "\u001b[1;31mKeyError\u001b[0m: 'stock_returns'"
     ]
    }
   ],
   "source": [
    "#This gives error\n",
    "import yfinance as yf\n",
    "import pandas as pd\n",
    "\n",
    "max_period = 5\n",
    "end_date = datetime.now()\n",
    "start_date = end_date - timedelta(days=max_period*365)\n",
    "\n",
    "\n",
    "def get_stock_data(stock_data, market_data, rf_data, start_date, end_date):\n",
    "    # Convert all indices to timezone-naive datetime objects\n",
    "    for df in [stock_data, market_data, rf_data]:\n",
    "        if not isinstance(df.index, pd.DatetimeIndex):\n",
    "            df.index = pd.to_datetime(df.index)\n",
    "        # Remove timezone information if present\n",
    "        if df.index.tz is not None:\n",
    "            df.index = df.index.tz_localize(None)\n",
    "    \n",
    "    # Convert start/end dates to datetime (timezone-naive)\n",
    "    start_date = pd.to_datetime(start_date).tz_localize(None)\n",
    "    end_date = pd.to_datetime(end_date).tz_localize(None)\n",
    "    \n",
    "    # Filter data based on start and end dates\n",
    "    stock_data = stock_data.loc[start_date:end_date]\n",
    "    market_data = market_data.loc[start_date:end_date]\n",
    "    rf_data = rf_data.loc[start_date:end_date]\n",
    "    \n",
    "    # Combine data into a single DataFrame\n",
    "    # combined_data = pd.concat([\n",
    "    #     stock_data['Close'].rename('Stock'),\n",
    "    #     market_data['Close'].rename('Market'),\n",
    "    #     rf_data['Close'].rename('Risk_Free')\n",
    "    # ], axis=1)\n",
    "\n",
    "    # Ensure we have matching dates for both datasets\n",
    "    common_dates = stock_data.index.intersection(market_data.index)\n",
    "    stock_returns = stock_data.loc[common_dates, 'stock_returns']\n",
    "    market_returns = market_data.loc[common_dates, 'market_returns']\n",
    "    \n",
    "    # # Format the index to 'YYYY-MM-DD' and drop NaN values\n",
    "    # combined_data.index = combined_data.index.strftime('%Y-%m-%d')\n",
    "    # return combined_data.dropna()\n",
    "\n",
    "# Example usage:\n",
    "# Assuming stock_data, market_data, and rf_data are pre-existing DataFrames\n",
    "# start_date and end_date are pre-calculated dates (strings or datetime objects)\n",
    "df = get_stock_data(stock_data, market_data, rf_data, start_date, end_date)\n",
    "print(df.head())\n",
    "print(f\"Shape of the DataFrame: {df.shape}\")"
   ]
  },
  {
   "cell_type": "code",
   "execution_count": null,
   "metadata": {},
   "outputs": [
    {
     "name": "stdout",
     "output_type": "stream",
     "text": [
      "                 Stock       Market  Risk_Free\n",
      "Date                                          \n",
      "2025-03-18  212.690002  5614.660156      4.195\n",
      "2025-03-19  215.240005  5675.290039      4.190\n",
      "2025-03-20  214.100006  5662.890137      4.182\n",
      "2025-03-21  218.270004  5667.560059      4.185\n",
      "2025-03-24  220.729996  5767.569824      4.182\n"
     ]
    }
   ],
   "source": [
    "# Create the datasets into one df\n",
    "def data(stock_data, market_data, rf_data, start_date, end_date):\n",
    "    return pd.concat([df['Close'].rename(name) \n",
    "                      for df, name in zip([stock_data, market_data, rf_data], \n",
    "                                        ['Stock', 'Market', 'Risk_Free'])], axis=1) \\\n",
    "             .loc[start_date:end_date] \\\n",
    "             .dropna() \\\n",
    "             .pipe(lambda df: df.set_index(df.index.strftime('%Y-%m-%d')))\n",
    "\n",
    "# Usage:\n",
    "df = data(stock_data, market_data, rf_data, start_date, end_date)\n",
    "print(df.tail())"
   ]
  },
  {
   "cell_type": "code",
   "execution_count": null,
   "metadata": {},
   "outputs": [],
   "source": [
    "stock_data = stock_data[(stock_data[\"Date\"])]"
   ]
  },
  {
   "cell_type": "code",
   "execution_count": null,
   "metadata": {},
   "outputs": [],
   "source": [
    "# CAPM function 3: notin use\n",
    "# import pandas as pd\n",
    "# import numpy as np\n",
    "# import yfinance as yf\n",
    "# from datetime import datetime, timedelta\n",
    "# import statsmodels.api as sm\n",
    "\n",
    "\n",
    "# def capm(stock_data, market_data, rf):\n",
    "\n",
    "#     # start and end data\n",
    "#     max_period = 5\n",
    "#     end_date = datetime.now()\n",
    "#     start_date = end_date - timedelta(days=max_period*365)\n",
    "\n",
    "#     # Get data\n",
    "#     def data(stock_data, market_data, rf_data, start_date, end_date):\n",
    "#         return pd.concat([df['Close'].rename(name) \n",
    "#                       for df, name in zip([stock_data, market_data, rf_data], \n",
    "#                                         ['Stock', 'Market', 'Risk_Free'])], axis=1) \\\n",
    "#              .loc[start_date:end_date] \\\n",
    "#              .dropna() \\\n",
    "#              .pipe(lambda df: df.set_index(df.index.strftime('%Y-%m-%d')))\n",
    "    \n",
    "#     # volatility calculation\n",
    "#     def calc_volatility(returns):\n",
    "#         return returns.std() * np.sqrt(252)  # Annualized volatility\n",
    "    \n",
    "#     # # Beta calculation\n",
    "#     def calc_beta(stock_returns, market_returns):\n",
    "#         X = sm.add_constant(market_returns.dropna())  # Add constant term\n",
    "#         y = stock_returns.loc[X.index]  # Ensure aligned indexes\n",
    "#         if len(X) < 2:  # Ensure enough data points for regression\n",
    "#             return np.nan\n",
    "#         model = sm.OLS(y, X).fit()\n",
    "#         return model.params[1]\n",
    "    \n",
    "#     # # calculate capm\n",
    "#     def calc_capm(risk_free_rate, beta, market_return):\n",
    "#         return risk_free_rate + beta * (market_return - risk_free_rate)\n",
    "\n",
    "#     ## create data frame (stock, market, rf)\n",
    "#     df = data(stock_data, market_data, rf, start_date, end_date)\n",
    "\n",
    "#     # Convert index to datetime if not already\n",
    "#     df.index = pd.to_datetime(df.index)\n",
    "\n",
    "#     ## Calculate daily returns and risk free\n",
    "#     df[\"Stock_returns\"]= df[\"Stock\"].pct_change().dropna()\n",
    "#     df[\"Market_returns\"]= df[\"Market\"].pct_change().dropna()\n",
    "    \n",
    "\n",
    "#     # calculate volatilities and betas\n",
    "#     volatilities, betas = {}, {}\n",
    "#     for period in range(1,max_period + 1):\n",
    "#         period_start = end_date - timedelta(days=period*365)\n",
    "#         period_stock_returns = df['Stock_returns'].loc[df.index >= period_start]\n",
    "#         period_market_returns = df['Market_returns'].loc[df.index >= period_start]\n",
    "\n",
    "#         if not period_stock_returns.empty and not period_market_returns.empty:\n",
    "#             volatilities[period] = calc_volatility(period_stock_returns)\n",
    "#             betas[period] = calc_beta(period_stock_returns, period_market_returns)\n",
    "\n",
    "#     # Handle case where not enough data is available\n",
    "#     if len(volatilities) < 2 or len(betas) < 2:\n",
    "#         raise ValueError(\"Not enough data to calculate stable volatility and beta.\")\n",
    "\n",
    "#     # Choose the most stable period based on volatility changes\n",
    "#     # Convert values to numeric scalars (avoid Series-related errors)\n",
    "#     volatility_changes = {p: float(abs(volatilities[p] - volatilities[p - 1])) for p in range(2, max_period + 1)}\n",
    "#     if not volatility_changes:\n",
    "#         raise ValueError(\"Not enough stable volatility data available.\")\n",
    "#     # Find the most stable period\n",
    "#     else:\n",
    "#         most_stable_period = min(volatility_changes, key=volatility_changes.get)\n",
    "#         final_beta = round(float(betas[most_stable_period]),4)\n",
    "    \n",
    "#     # Calculate market expeted return, capm, actual stock retrun, risk free rate\n",
    "#     rf = df[\"Risk_Free\"].iloc[-1]\n",
    "#     stock_actual_return = round(df[\"Stock_returns\"].iloc[-1],4)*100\n",
    "#     m_return =round((1 + df[\"Market_returns\"].mean()) ** 252 -1, 4)*100\n",
    "\n",
    "#     capm = round(calc_capm(rf, final_beta, m_return),4)\n",
    "    \n",
    "#     return stock_actual_return,capm, m_return, most_stable_period, final_beta\n",
    "import pandas as pd\n",
    "import numpy as np\n",
    "import yfinance as yf\n",
    "from datetime import datetime, timedelta\n",
    "import statsmodels.api as sm\n",
    "\n",
    "def capm(stock_data, market_data, rf):\n",
    "    # Start and end date\n",
    "    max_period = 5\n",
    "    end_date = pd.Timestamp.now().tz_localize(None)\n",
    "    start_date = end_date - timedelta(days=max_period*365)\n",
    "\n",
    "    # Get data\n",
    "    def data(stock_data, market_data, rf_data, start_date, end_date):\n",
    "        dfs = [stock_data, market_data, rf_data]\n",
    "        names = ['Stock', 'Market', 'Risk_Free']\n",
    "        \n",
    "        for df in dfs:\n",
    "            df.index = pd.to_datetime(df.index).tz_localize(None)\n",
    "        \n",
    "        return pd.concat([df['Close'].rename(name) for df, name in zip(dfs, names)], axis=1) \\\n",
    "                 .loc[start_date:end_date] \\\n",
    "                 .dropna()\n",
    "\n",
    "    # Volatility calculation\n",
    "    def calc_volatility(returns):\n",
    "        return returns.std() * np.sqrt(252)  # Annualized volatility\n",
    "    \n",
    "    # Beta calculation\n",
    "    def calc_beta(stock_returns, market_returns):\n",
    "        X = sm.add_constant(market_returns.dropna())\n",
    "        y = stock_returns.loc[X.index]\n",
    "        if len(X) < 2:\n",
    "            return np.nan\n",
    "        model = sm.OLS(y, X).fit()\n",
    "        return model.params[1]\n",
    "    \n",
    "    # Calculate CAPM\n",
    "    def calc_capm(risk_free_rate, beta, market_return):\n",
    "        return risk_free_rate + beta * (market_return - risk_free_rate)\n",
    "\n",
    "    # Create data frame (stock, market, rf)\n",
    "    df = data(stock_data, market_data, rf, start_date, end_date)\n",
    "\n",
    "    # Calculate daily returns\n",
    "    df[\"Stock_returns\"] = df[\"Stock\"].pct_change().dropna()\n",
    "    df[\"Market_returns\"] = df[\"Market\"].pct_change().dropna()\n",
    "\n",
    "    # Calculate volatilities and betas\n",
    "    volatilities, betas = {}, {}\n",
    "    for period in range(1, max_period + 1):\n",
    "        period_start = end_date - timedelta(days=period*365)\n",
    "        period_data = df.loc[df.index >= period_start]\n",
    "        \n",
    "        if len(period_data) > 1:\n",
    "            volatilities[period] = calc_volatility(period_data['Stock_returns'])\n",
    "            betas[period] = calc_beta(period_data['Stock_returns'], period_data['Market_returns'])\n",
    "\n",
    "    # Handle case where not enough data is available\n",
    "    if len(volatilities) < 2 or len(betas) < 2:\n",
    "        raise ValueError(\"Not enough data to calculate stable volatility and beta.\")\n",
    "\n",
    "    # Choose the most stable period based on volatility changes\n",
    "    volatility_changes = {p: abs(volatilities[p] - volatilities[p - 1]) for p in range(2, max_period + 1) if p-1 in volatilities}\n",
    "    if not volatility_changes:\n",
    "        raise ValueError(\"Not enough stable volatility data available.\")\n",
    "    \n",
    "    most_stable_period = min(volatility_changes, key=volatility_changes.get)\n",
    "    final_beta = round(betas[most_stable_period], 4)\n",
    "    \n",
    "    # Calculate market expected return, CAPM, actual stock return, risk-free rate\n",
    "    rf = df[\"Risk_Free\"].iloc[-1]\n",
    "    stock_actual_return = round(df[\"Stock_returns\"].iloc[-1], 4)\n",
    "    m_return = round((1 + df[\"Market_returns\"].mean()) ** 252 - 1, 4)\n",
    "\n",
    "    capm_result = round(calc_capm(rf, final_beta, m_return/100), 4)\n",
    "    \n",
    "    return stock_actual_return, capm_result, m_return, most_stable_period, final_beta\n"
   ]
  },
  {
   "cell_type": "code",
   "execution_count": null,
   "metadata": {},
   "outputs": [],
   "source": [
    "# Get data without function\n",
    "stock_data = yf.Ticker(\"AAPL\").history(period=f\"{max_period}y\", interval=\"1d\")\n",
    "market_data = yf.Ticker(\"^GSPC\").history(period=f\"{max_period}y\", interval=\"1d\")\n",
    "rf_data = yf.Ticker(\"^FVX\").history(period=f\"{max_period}y\", interval=\"1d\")"
   ]
  },
  {
   "cell_type": "code",
   "execution_count": null,
   "metadata": {},
   "outputs": [],
   "source": [
    "# Old version of getting data function\n",
    "def load_history(symbol):\n",
    "    stock = yf.Ticker(symbol)\n",
    "    df_hm =stock.history(period=\"max\")\n",
    "    df_hm.reset_index(inplace=False)\n",
    "    return df_hm"
   ]
  },
  {
   "cell_type": "code",
   "execution_count": null,
   "metadata": {},
   "outputs": [],
   "source": [
    "# version 2 of getting data function, donnot use it\n",
    "# def load_history1(symbol):\n",
    "#     try:\n",
    "#         stock = yf.Ticker(symbol)\n",
    "#         df_hm = stock.history(period='max')\n",
    "#         df_hm.index = pd.to_datetime(df_hm.index)\n",
    "#         #df_hm.index = df_hm.index.tz_localize(None)\n",
    "#         if df_hm.empty:\n",
    "#             print(f\"No data available for {symbol}\")\n",
    "#             return None\n",
    "#         return df_hm\n",
    "#     except Exception as e:\n",
    "#         print(f\"Error loading data for {symbol}: {e}\")\n",
    "#         return None\n"
   ]
  },
  {
   "cell_type": "code",
   "execution_count": 11,
   "metadata": {},
   "outputs": [],
   "source": [
    "# Version 3 of getting data with period and interval option\n",
    "def load_history(symbol, period, interval):\n",
    "    try:\n",
    "        print(period)\n",
    "        print(interval)\n",
    "        stock = yf.Ticker(symbol)\n",
    "        df_hm = stock.history(period=period, interval=interval)\n",
    "        if df_hm.empty:\n",
    "            print(f\"No data available for {symbol}\")\n",
    "            return None\n",
    "        return df_hm\n",
    "    except Exception as e:\n",
    "        print(f\"Error loading data for {symbol}: {e}\")\n",
    "        return None"
   ]
  },
  {
   "cell_type": "code",
   "execution_count": 13,
   "metadata": {},
   "outputs": [
    {
     "name": "stdout",
     "output_type": "stream",
     "text": [
      "max\n",
      "1d\n",
      "max\n",
      "1d\n",
      "max\n",
      "1d\n"
     ]
    }
   ],
   "source": [
    "# Use the version 3 of getting data function\n",
    "stock_data = load_history('AAPL', 'max', '1d')\n",
    "market_data = load_history('^Gspc', 'max', '1d')\n",
    "rf_data = load_history('^FVX', 'max', '1d')"
   ]
  },
  {
   "cell_type": "code",
   "execution_count": 14,
   "metadata": {},
   "outputs": [
    {
     "data": {
      "text/html": [
       "<div>\n",
       "<style scoped>\n",
       "    .dataframe tbody tr th:only-of-type {\n",
       "        vertical-align: middle;\n",
       "    }\n",
       "\n",
       "    .dataframe tbody tr th {\n",
       "        vertical-align: top;\n",
       "    }\n",
       "\n",
       "    .dataframe thead th {\n",
       "        text-align: right;\n",
       "    }\n",
       "</style>\n",
       "<table border=\"1\" class=\"dataframe\">\n",
       "  <thead>\n",
       "    <tr style=\"text-align: right;\">\n",
       "      <th></th>\n",
       "      <th>Open</th>\n",
       "      <th>High</th>\n",
       "      <th>Low</th>\n",
       "      <th>Close</th>\n",
       "      <th>Volume</th>\n",
       "      <th>Dividends</th>\n",
       "      <th>Stock Splits</th>\n",
       "    </tr>\n",
       "    <tr>\n",
       "      <th>Date</th>\n",
       "      <th></th>\n",
       "      <th></th>\n",
       "      <th></th>\n",
       "      <th></th>\n",
       "      <th></th>\n",
       "      <th></th>\n",
       "      <th></th>\n",
       "    </tr>\n",
       "  </thead>\n",
       "  <tbody>\n",
       "    <tr>\n",
       "      <th>2025-03-26 00:00:00-05:00</th>\n",
       "      <td>4.091</td>\n",
       "      <td>4.111</td>\n",
       "      <td>4.072</td>\n",
       "      <td>4.083</td>\n",
       "      <td>0</td>\n",
       "      <td>0.0</td>\n",
       "      <td>0.0</td>\n",
       "    </tr>\n",
       "    <tr>\n",
       "      <th>2025-03-27 00:00:00-05:00</th>\n",
       "      <td>4.119</td>\n",
       "      <td>4.120</td>\n",
       "      <td>4.080</td>\n",
       "      <td>4.098</td>\n",
       "      <td>0</td>\n",
       "      <td>0.0</td>\n",
       "      <td>0.0</td>\n",
       "    </tr>\n",
       "  </tbody>\n",
       "</table>\n",
       "</div>"
      ],
      "text/plain": [
       "                            Open   High    Low  Close  Volume  Dividends  \\\n",
       "Date                                                                       \n",
       "2025-03-26 00:00:00-05:00  4.091  4.111  4.072  4.083       0        0.0   \n",
       "2025-03-27 00:00:00-05:00  4.119  4.120  4.080  4.098       0        0.0   \n",
       "\n",
       "                           Stock Splits  \n",
       "Date                                     \n",
       "2025-03-26 00:00:00-05:00           0.0  \n",
       "2025-03-27 00:00:00-05:00           0.0  "
      ]
     },
     "execution_count": 14,
     "metadata": {},
     "output_type": "execute_result"
    }
   ],
   "source": [
    "# Check rf_data has the data\n",
    "rf_data.tail(2)"
   ]
  },
  {
   "cell_type": "code",
   "execution_count": null,
   "metadata": {},
   "outputs": [],
   "source": [
    "# Version 1 of using CAPM function\n",
    "# This version\n",
    "import pandas as pd\n",
    "def capm_v1(stock_data, market_data):\n",
    "    \n",
    "    max_period = 5\n",
    "    end_date = pd.Timestamp.now().tz_localize(None)\n",
    "    start_date = end_date - timedelta(days=max_period*365)\n",
    "\n",
    "    # Risk-free data: for simplicity used 5y US T-bill\n",
    "    rf_data = yf.Ticker('^FVX')\n",
    "    rf_data = rf_data.history(period=f'{max_period}y', interval='1d')\n",
    "    rf_rate = rf_data['Close'].iloc[-1] / 100  # Convert to decimal\n",
    "\n",
    "\n",
    "\n",
    "    # Calculate daily returns for stock and market\n",
    "    stock_data['stock_returns'] = stock_data['Close'].pct_change().dropna()\n",
    "    market_data['market_returns'] = market_data['Close'].pct_change().dropna()\n",
    "\n",
    "    # Filter dataset based on start and end date\n",
    "    stock_data = stock_data.loc[start_date:end_date]\n",
    "    market_data = market_data.loc[start_date:end_date]\n",
    "\n",
    "    # Ensure we have matching dates for both datasets\n",
    "    common_dates = stock_data.index.intersection(market_data.index)\n",
    "    stock_returns = stock_data.loc[common_dates, 'stock_returns']\n",
    "    market_returns = market_data.loc[common_dates, 'market_returns']\n",
    "\n",
    "    # Beta calculation\n",
    "    if len(common_dates) < 2:  # Ensure enough data points for regression\n",
    "        print(\"np.nan, np.nan, np.nan, np.nan\")\n",
    "    else:\n",
    "        X = sm.add_constant(market_returns)\n",
    "        y = stock_returns\n",
    "        model = sm.OLS(y, X, missing='drop').fit()\n",
    "        beta = model.params[1]\n",
    "        #print(f\"Beta: {beta}\")\n",
    "    # Calculate market expected return, CAPM, actual stock return\n",
    "    stock_actual_return = (stock_data['stock_returns'].iloc[-1])\n",
    "    m_return = (1 + market_data['market_returns'].mean()) ** 252 - 1\n",
    "    market_actual_return = (market_data['market_returns'].iloc[-1]) \n",
    "\n",
    "    capm_return = rf_rate + beta * (m_return - rf_rate)\n",
    "    return capm_return, beta, m_return, stock_actual_return, market_actual_return\n",
    "    #print(f'camp: {capm_return*100}\\nrisk_free rate: {rf_rate*100}\\nMarket_return: {m_return*100}\\nStock actual retrun:{stock_actual_return*100}\\nMarket actual return:{market_actual_return*100}')"
   ]
  },
  {
   "cell_type": "code",
   "execution_count": 18,
   "metadata": {},
   "outputs": [
    {
     "name": "stdout",
     "output_type": "stream",
     "text": [
      "Date\n",
      "2020-06-01    0.012286\n",
      "2020-06-02    0.004617\n",
      "2020-06-03    0.005490\n",
      "2020-06-04   -0.008628\n",
      "2020-06-05    0.028462\n",
      "                ...   \n",
      "2025-03-21    0.019318\n",
      "2025-03-24    0.011108\n",
      "2025-03-25    0.013521\n",
      "2025-03-26   -0.010084\n",
      "2025-03-27    0.010310\n",
      "Length: 1213, dtype: float64\n"
     ]
    }
   ],
   "source": [
    "# Version 2 of using CAPM function\n",
    "import numpy as np\n",
    "\n",
    "def capm_v2(stock_data, market_data, rf_data):\n",
    "    max_period = 5\n",
    "    end_date = pd.Timestamp.now().tz_localize(None)  # Ensure tz-naive\n",
    "    start_date = (end_date - pd.offsets.BusinessDay(n=max_period*252)).tz_localize(None)\n",
    "\n",
    "    # Ensure all DataFrames have tz-naive DatetimeIndex\n",
    "    for df in [stock_data, market_data, rf_data]:\n",
    "        if df.index.tz is not None:\n",
    "            df.index = df.index.tz_localize(None)\n",
    "\n",
    "    # Calculate daily returns for stock, market and risk free datasets\n",
    "    stock_data['stock_returns'] = stock_data['Close'].pct_change().dropna()\n",
    "    market_data['market_returns'] = market_data['Close'].pct_change().dropna()\n",
    "    rf_data['rf_rate'] = rf_data['Close']/100/252\n",
    "\n",
    "    # Filter dataset based on start and end date\n",
    "    stock_data = stock_data.loc[start_date:end_date].dropna()\n",
    "    market_data = market_data.loc[start_date:end_date].dropna()\n",
    "    rf_data = rf_data.loc[start_date:end_date].dropna()\n",
    "\n",
    "    # Ensure we have matching dates for all datasets\n",
    "    common_dates = stock_data.index.intersection(market_data.index).intersection(rf_data.index)\n",
    "    stock_returns = stock_data.loc[common_dates, 'stock_returns']\n",
    "    market_returns = market_data.loc[common_dates, 'market_returns']\n",
    "    rf_rate = rf_data.loc[common_dates, 'rf_rate']\n",
    "\n",
    "    # Calculate excess returns\n",
    "    excess_stock_returns = stock_returns - rf_rate\n",
    "    excess_market_returns = market_returns - rf_rate\n",
    "\n",
    "    # Calculate beta\n",
    "    covariance = np.cov(excess_stock_returns, excess_market_returns)[0][1]\n",
    "    market_variance = np.var(excess_market_returns)\n",
    "    beta = covariance / market_variance\n",
    "\n",
    "    # Calculate expected return using CAPM\n",
    "    risk_premium = market_returns.mean() - rf_rate.mean()\n",
    "    capm_return = rf_rate.mean() + beta * risk_premium\n",
    "\n",
    "    # Calculate actual returns\n",
    "    stock_actual_return = stock_returns.iloc[-1]\n",
    "    market_actual_return = market_returns.iloc[-1]\n",
    "\n",
    "    return capm_return, beta, market_returns.mean(), stock_actual_return, market_actual_return, rf_rate.mean()\n",
    "\n",
    "# Usage\n",
    "capm_return, beta, m_return, stock_actual_return, market_actual_return, rf_rate = capm(stock_data, market_data, rf_data)\n"
   ]
  },
  {
   "cell_type": "code",
   "execution_count": null,
   "metadata": {},
   "outputs": [],
   "source": [
    "# Version 3 of using CAPM function\n",
    "import pandas as pd\n",
    "import numpy as np\n",
    "import statsmodels.api as sm\n",
    "\n",
    "def capm_v3(stock_data, market_data, rf_data):\n",
    "    max_period = 5  # Define the period in years\n",
    "    end_date = pd.Timestamp.now().tz_localize(None)\n",
    "    start_date = (end_date - pd.offsets.BusinessDay(n=max_period * 252)).tz_localize(None)\n",
    "\n",
    "    # Ensure timezones are removed\n",
    "    for df in [stock_data, market_data, rf_data]:\n",
    "        if df.index.tz is not None:\n",
    "            df.index = df.index.tz_localize(None)\n",
    "\n",
    "    # Calculate daily returns\n",
    "    stock_data['stock_returns'] = stock_data['Close'].pct_change().dropna()\n",
    "    market_data['market_returns'] = market_data['Close'].pct_change().dropna()\n",
    "    rf_data['rf_rate'] = rf_data['Close'] / 100  # Convert to daily risk-free rate\n",
    "\n",
    "    # Filter data to match the desired period\n",
    "    stock_data = stock_data.loc[start_date:end_date].dropna()\n",
    "    market_data = market_data.loc[start_date:end_date].dropna()\n",
    "    rf_data = rf_data.loc[start_date:end_date].dropna()\n",
    "\n",
    "    # Match dates across datasets\n",
    "    common_dates = stock_data.index.intersection(market_data.index).intersection(rf_data.index)\n",
    "    stock_returns = stock_data.loc[common_dates, 'stock_returns']\n",
    "    market_returns = market_data.loc[common_dates, 'market_returns']\n",
    "    rf_rate = rf_data.loc[common_dates, 'rf_rate']\n",
    "\n",
    "    # Calculate annualized returns and risk-free rate\n",
    "    rf_rate_annual = ((1 + rf_rate.mean()) ** 252 - 1)\n",
    "    market_return_annual = ((1 + market_returns).prod()) ** (252/len(market_returns)) - 1\n",
    "\n",
    "     # Calculate excess returns\n",
    "    excess_stock_returns = stock_returns - rf_rate / 252  # Daily excess returns\n",
    "    excess_market_returns = market_returns - rf_rate / 252  # Daily excess returns\n",
    "    print(excess_stock_returns)\n",
    "    # Estimate beta using OLS regression\n",
    "    X = sm.add_constant(excess_market_returns)  # Add intercept\n",
    "    model = sm.OLS(excess_stock_returns, X, missing='drop').fit()\n",
    "    beta = model.params[0]\n",
    "\n",
    "    # Compute expected return using CAPM formula\n",
    "    #market_excess_return = ((1 + excess_market_returns.mean()) ** 252 - 1)  # Annualize\n",
    "    capm_return = rf_rate_annual + beta * (market_return_annual - rf_rate_annual)\n",
    "\n",
    "    # Calculate actual returns\n",
    "    stock_actual_return = stock_returns.iloc[-1]\n",
    "    market_actual_return = market_returns.iloc[-1]\n",
    "\n",
    "    return capm_return, beta, market_return_annual, stock_actual_return, market_actual_return, rf_rate_annual\n",
    "\n"
   ]
  },
  {
   "cell_type": "code",
   "execution_count": null,
   "metadata": {},
   "outputs": [],
   "source": [
    "# Version 4 of using CAPM function\n",
    "import pandas as pd\n",
    "import numpy as np\n",
    "import statsmodels.api as sm\n",
    "\n",
    "def capm_v4(stock_data, market_data, rf_data):\n",
    "    max_period = 5  # Define the period in years\n",
    "    end_date = pd.Timestamp.now().tz_localize(None)\n",
    "    start_date = (end_date - pd.offsets.BusinessDay(n=max_period * 252)).tz_localize(None)\n",
    "\n",
    "    # Ensure timezones are removed\n",
    "    for df in [stock_data, market_data, rf_data]:\n",
    "        if df.index.tz is not None:\n",
    "            df.index = df.index.tz_localize(None)\n",
    "\n",
    "    # Calculate daily returns\n",
    "    stock_data['stock_returns'] = stock_data['Close'].pct_change().dropna()\n",
    "    market_data['market_returns'] = market_data['Close'].pct_change().dropna()\n",
    "    rf_data['rf_rate'] = rf_data['Close'] / 100  # Convert to decimal\n",
    "\n",
    "    # Filter data to match the desired period\n",
    "    stock_data = stock_data.loc[start_date:end_date].dropna()\n",
    "    market_data = market_data.loc[start_date:end_date].dropna()\n",
    "    rf_data = rf_data.loc[start_date:end_date].dropna()\n",
    "\n",
    "    # Match dates across datasets\n",
    "    common_dates = stock_data.index.intersection(market_data.index).intersection(rf_data.index)\n",
    "    stock_returns = stock_data.loc[common_dates, 'stock_returns']\n",
    "    market_returns = market_data.loc[common_dates, 'market_returns']\n",
    "    rf_rate = rf_data.loc[common_dates, 'rf_rate']\n",
    "\n",
    "    # Calculate annualized returns and risk-free rate\n",
    "    rf_rate_annual = ((1 + rf_rate.mean()) ** 252 - 1)\n",
    "    market_return_annual = ((1 + market_returns).prod()) ** (252/len(market_returns)) - 1\n",
    "\n",
    "    # Calculate excess returns\n",
    "    excess_stock_returns = stock_returns - rf_rate / 252  # Daily excess returns\n",
    "    excess_market_returns = market_returns - rf_rate / 252  # Daily excess returns\n",
    "\n",
    "    # Estimate beta using OLS regression\n",
    "    X = sm.add_constant(excess_market_returns)\n",
    "    model = sm.OLS(excess_stock_returns, X, missing='drop').fit()\n",
    "    beta = model.params[0]\n",
    "\n",
    "    # Compute expected return using CAPM formula\n",
    "    capm_return = rf_rate_annual + beta * (market_return_annual - rf_rate_annual)\n",
    "\n",
    "    # Calculate actual returns (annualized)\n",
    "    stock_actual_return = ((1 + stock_returns).prod()) ** (252/len(stock_returns)) - 1\n",
    "    market_actual_return = ((1 + market_returns).prod()) ** (252/len(market_returns)) - 1\n",
    "\n",
    "    return capm_return, beta, market_return_annual, stock_actual_return, market_actual_return, rf_rate_annual\n"
   ]
  },
  {
   "cell_type": "code",
   "execution_count": null,
   "metadata": {},
   "outputs": [],
   "source": [
    "# Version 5 of using CAPM function\n",
    "import pandas as pd\n",
    "import numpy as np\n",
    "import statsmodels.api as sm\n",
    "\n",
    "def capm_v5(stock_data, market_data, rf_data):\n",
    "    max_period = 5  # Define the period in years\n",
    "    end_date = pd.Timestamp.now().tz_localize(None)\n",
    "    start_date = (end_date - pd.DateOffset(years=max_period)).tz_localize(None)  # Changed to use DateOffset\n",
    "\n",
    "    # Ensure timezones are removed\n",
    "    for df in [stock_data, market_data, rf_data]:\n",
    "        if df.index.tz is not None:\n",
    "            df.index = df.index.tz_localize(None)\n",
    "\n",
    "    # Calculate daily returns\n",
    "    stock_data['stock_returns'] = stock_data['Close'].pct_change()\n",
    "    market_data['market_returns'] = market_data['Close'].pct_change()\n",
    "\n",
    "    # Ensure risk-free rate is in decimal\n",
    "    if rf_data['Close'].max() > 1:  # Check if data is percentage-based (e.g., 4% instead of 0.04)\n",
    "        rf_data['rf_rate'] = rf_data['Close'] / 100\n",
    "    else:\n",
    "        rf_data['rf_rate'] = rf_data['Close']\n",
    "\n",
    "    # Filter data to match the desired period\n",
    "    stock_data = stock_data.loc[start_date:end_date].dropna()\n",
    "    market_data = market_data.loc[start_date:end_date].dropna()\n",
    "    rf_data = rf_data.loc[start_date:end_date].dropna()\n",
    "\n",
    "    # Match dates across datasets\n",
    "    common_dates = stock_data.index.intersection(market_data.index).intersection(rf_data.index)\n",
    "    stock_returns = stock_data.loc[common_dates, 'stock_returns']\n",
    "    market_returns = market_data.loc[common_dates, 'market_returns']\n",
    "    rf_rate = rf_data.loc[common_dates, 'rf_rate']\n",
    "\n",
    "    # Corrected annualized risk-free rate calculation\n",
    "    rf_rate_annual = rf_rate.mean() * 252  # Instead of compounding\n",
    "\n",
    "    # Corrected market return calculation\n",
    "    market_return_annual = ((1 + market_returns).prod()) ** (252 / len(market_returns)) - 1\n",
    "\n",
    "    # Calculate excess returns\n",
    "    excess_stock_returns = stock_returns - rf_rate / 252  # Daily excess returns\n",
    "    excess_market_returns = market_returns - rf_rate / 252  # Daily excess returns\n",
    "    print(excess_stock_returns)\n",
    "    # Estimate beta using OLS regression\n",
    "    X = sm.add_constant(excess_market_returns)\n",
    "    model = sm.OLS(excess_stock_returns, X, missing='drop').fit()\n",
    "    beta = model.params[0]  # Corrected: beta is slope, not intercept\n",
    "\n",
    "    # Compute expected return using CAPM formula\n",
    "    capm_return = rf_rate_annual + beta * (market_return_annual - rf_rate_annual)\n",
    "\n",
    "    # Calculate actual returns (annualized)\n",
    "    stock_actual_return = ((1 + stock_returns).prod()) ** (252 / len(stock_returns)) - 1\n",
    "    market_actual_return = ((1 + market_returns).prod()) ** (252 / len(market_returns)) - 1\n",
    "\n",
    "    return capm_return, beta, market_return_annual, stock_actual_return, market_actual_return, rf_rate_annual\n"
   ]
  },
  {
   "cell_type": "code",
   "execution_count": 23,
   "metadata": {},
   "outputs": [
    {
     "name": "stdout",
     "output_type": "stream",
     "text": [
      "Expected Return (CAPM):6.363%\n"
     ]
    }
   ],
   "source": [
    "# Chat GPT of example for calculating CAPM\n",
    "Expected_Return = 4.09 + 1.19 * (6 - 4.09) # --> numbers are in  %\n",
    "print (f'Expected Return (CAPM):{Expected_Return:.3f}%')\n",
    "# ≈ 4.09% + 1.19 × 1.91%\n",
    "# ≈ 4.09% + 2.273%\n",
    "# ≈ 6.363%\n"
   ]
  },
  {
   "cell_type": "code",
   "execution_count": null,
   "metadata": {},
   "outputs": [
    {
     "name": "stdout",
     "output_type": "stream",
     "text": [
      "CAPM_v1:\n",
      "usage capm_return: 0.224%\n",
      "beta: 1.197%\n",
      "market_return: 0.194%\n",
      "stock_actual_return: 0.010%\n",
      "market_actual_return: -0.003%\n",
      "\n"
     ]
    },
    {
     "name": "stderr",
     "output_type": "stream",
     "text": [
      "C:\\Users\\smahd\\AppData\\Local\\Temp\\ipykernel_8296\\1400393481.py:43: FutureWarning: Series.__getitem__ treating keys as positions is deprecated. In a future version, integer keys will always be treated as labels (consistent with DataFrame behavior). To access a value by position, use `ser.iloc[pos]`\n",
      "  beta = model.params[1]\n"
     ]
    }
   ],
   "source": [
    "# CAPM usage\n",
    "# capm_v1\n",
    "capm_return, beta, m_return, stock_actual_return, market_actual_return = capm_v1(stock_data, market_data)\n",
    "\n",
    "print(f'CAPM_v1:\\nusage capm_return: {capm_return:.3f}%\\nbeta: {beta:.3f}%\\nmarket_return: {m_return:.3f}%\\nstock_actual_return: {stock_actual_return:.3f}%\\nmarket_actual_return: {market_actual_return:.3f}%\\n')"
   ]
  },
  {
   "cell_type": "code",
   "execution_count": 267,
   "metadata": {},
   "outputs": [
    {
     "name": "stdout",
     "output_type": "stream",
     "text": [
      "capm: -1.4702%,\n",
      "beta: 1.2377%,\n",
      "m_return: 0.1945%,\n",
      "stock_actual_return: 0.2416%,\n",
      "market_actual_return: 0.1390%,\n",
      "risk free rate: 6.9079%\n"
     ]
    }
   ],
   "source": [
    "print(f'capm: {capm_return:.4f}%,\\nbeta: {beta:.4f}%,\\nm_return: {m_return:.4f}%,\\nstock_actual_return: {stock_actual_return:.4f}%,\\nmarket_actual_return: {market_actual_return:.4f}%,\\nrisk free rate: {rf_rate_mean:.4f}%')"
   ]
  },
  {
   "cell_type": "code",
   "execution_count": null,
   "metadata": {},
   "outputs": [],
   "source": [
    "def load_live(symbol):\n",
    "    stock = yf.Ticker(symbol)\n",
    "    df_d = stock.history(period=\"1d\", interval=\"1m\")  # Fetch today's data with 1-minute intervals\n",
    "    df_d.reset_index(inplace=False)\n",
    "    return df_d\n",
    "def load_history(symbol):\n",
    "    stock = yf.Ticker(symbol)\n",
    "    df_hm =stock.history(period=\"max\")\n",
    "    df_hm.reset_index(inplace=True)\n",
    "    df_hm['Date'] = pd.to_datetime(df_hm['Date'])\n",
    "    return df_hm"
   ]
  },
  {
   "cell_type": "code",
   "execution_count": 71,
   "metadata": {},
   "outputs": [],
   "source": [
    "max_period = 5\n",
    "end_date = pd.Timestamp.now().tz_localize(None)\n",
    "start_date = end_date - timedelta(days=max_period*365)"
   ]
  },
  {
   "cell_type": "code",
   "execution_count": 73,
   "metadata": {},
   "outputs": [],
   "source": [
    "stock_data = load_history1('AAPL')\n",
    "market_data = load_history1('^GSPC')"
   ]
  },
  {
   "cell_type": "code",
   "execution_count": 142,
   "metadata": {},
   "outputs": [
    {
     "data": {
      "image/png": "[encoded data removed]",
      "text/plain": [
       "<Figure size 1000x600 with 1 Axes>"
      ]
     },
     "metadata": {},
     "output_type": "display_data"
    }
   ],
   "source": [
    "import matplotlib.pyplot as plt\n",
    "\n",
    "# Create scatter plot\n",
    "plt.figure(figsize=(10, 6))\n",
    "plt.scatter(beta, capm_return, color='blue', s=50)\n",
    "# Add actual market return point to the scatter plot\n",
    "plt.scatter(1, market_actual_return, color='red', s=100, marker='^', label='Actual Market Return')\n",
    "\n",
    "# Add actual stock return point to the scatter plot\n",
    "plt.scatter(beta, stock_actual_return, color='green', s=100, marker='o', label='Actual Stock Return')\n",
    "plt.xlabel('Beta (Systematic Risk)')\n",
    "plt.ylabel('Expected Return')\n",
    "plt.title('Security Market Line (SML)')\n",
    "\n",
    "# Add SML line\n",
    "beta_range = np.linspace(0, 2, 100)  # Adjust range as needed\n",
    "sml = rf_rate + beta_range * (m_return - rf_rate)\n",
    "plt.plot(beta_range, sml, 'r--', label='SML')\n",
    "\n",
    "# Add labels\n",
    "plt.text(beta, capm_return, f'Beta: {beta:.2f}\\nE(R): {capm_return:.2%}\\nActual return:{stock_actual_return:.2%}', \n",
    "         verticalalignment='bottom', horizontalalignment='right')\n",
    "\n",
    "plt.text(1, market_actual_return, f'Market\\nE(R): {m_return:.2%}\\nActual R: {market_actual_return:.2%}', \n",
    "         verticalalignment='bottom', horizontalalignment='left')\n",
    "plt.legend()\n",
    "plt.grid(True)\n",
    "plt.show()"
   ]
  },
  {
   "cell_type": "code",
   "execution_count": 74,
   "metadata": {},
   "outputs": [
    {
     "name": "stdout",
     "output_type": "stream",
     "text": [
      "np.nan, np.nan, np.nan, np.nan\n"
     ]
    },
    {
     "ename": "IndexError",
     "evalue": "single positional indexer is out-of-bounds",
     "output_type": "error",
     "traceback": [
      "\u001b[1;31m---------------------------------------------------------------------------\u001b[0m",
      "\u001b[1;31mIndexError\u001b[0m                                Traceback (most recent call last)",
      "Cell \u001b[1;32mIn[74], line 2\u001b[0m\n\u001b[0;32m      1\u001b[0m stock_data\u001b[38;5;241m.\u001b[39mtail(\u001b[38;5;241m2\u001b[39m)\n\u001b[1;32m----> 2\u001b[0m capm_return, beta, m_return, stock_actual_return, market_actual_return \u001b[38;5;241m=\u001b[39m \u001b[43mcapm\u001b[49m\u001b[43m(\u001b[49m\u001b[43mstock_data\u001b[49m\u001b[43m,\u001b[49m\u001b[43m \u001b[49m\u001b[43mmarket_data\u001b[49m\u001b[43m)\u001b[49m\n",
      "Cell \u001b[1;32mIn[63], line 45\u001b[0m, in \u001b[0;36mcapm\u001b[1;34m(stock_data, market_data)\u001b[0m\n\u001b[0;32m     42\u001b[0m     beta \u001b[38;5;241m=\u001b[39m model\u001b[38;5;241m.\u001b[39mparams[\u001b[38;5;241m1\u001b[39m]\n\u001b[0;32m     43\u001b[0m     \u001b[38;5;66;03m#print(f\"Beta: {beta}\")\u001b[39;00m\n\u001b[0;32m     44\u001b[0m \u001b[38;5;66;03m# Calculate market expected return, CAPM, actual stock return\u001b[39;00m\n\u001b[1;32m---> 45\u001b[0m stock_actual_return \u001b[38;5;241m=\u001b[39m (\u001b[43mstock_data\u001b[49m\u001b[43m[\u001b[49m\u001b[38;5;124;43m'\u001b[39;49m\u001b[38;5;124;43mstock_returns\u001b[39;49m\u001b[38;5;124;43m'\u001b[39;49m\u001b[43m]\u001b[49m\u001b[38;5;241;43m.\u001b[39;49m\u001b[43miloc\u001b[49m\u001b[43m[\u001b[49m\u001b[38;5;241;43m-\u001b[39;49m\u001b[38;5;241;43m1\u001b[39;49m\u001b[43m]\u001b[49m)\n\u001b[0;32m     46\u001b[0m m_return \u001b[38;5;241m=\u001b[39m (\u001b[38;5;241m1\u001b[39m \u001b[38;5;241m+\u001b[39m market_data[\u001b[38;5;124m'\u001b[39m\u001b[38;5;124mmarket_returns\u001b[39m\u001b[38;5;124m'\u001b[39m]\u001b[38;5;241m.\u001b[39mmean()) \u001b[38;5;241m*\u001b[39m\u001b[38;5;241m*\u001b[39m \u001b[38;5;241m252\u001b[39m \u001b[38;5;241m-\u001b[39m \u001b[38;5;241m1\u001b[39m\n\u001b[0;32m     47\u001b[0m market_actual_return \u001b[38;5;241m=\u001b[39m (market_data[\u001b[38;5;124m'\u001b[39m\u001b[38;5;124mmarket_returns\u001b[39m\u001b[38;5;124m'\u001b[39m]\u001b[38;5;241m.\u001b[39miloc[\u001b[38;5;241m-\u001b[39m\u001b[38;5;241m1\u001b[39m]) \n",
      "File \u001b[1;32mc:\\Desktop\\python_projects\\project_env\\Lib\\site-packages\\pandas\\core\\indexing.py:1191\u001b[0m, in \u001b[0;36m_LocationIndexer.__getitem__\u001b[1;34m(self, key)\u001b[0m\n\u001b[0;32m   1189\u001b[0m maybe_callable \u001b[38;5;241m=\u001b[39m com\u001b[38;5;241m.\u001b[39mapply_if_callable(key, \u001b[38;5;28mself\u001b[39m\u001b[38;5;241m.\u001b[39mobj)\n\u001b[0;32m   1190\u001b[0m maybe_callable \u001b[38;5;241m=\u001b[39m \u001b[38;5;28mself\u001b[39m\u001b[38;5;241m.\u001b[39m_check_deprecated_callable_usage(key, maybe_callable)\n\u001b[1;32m-> 1191\u001b[0m \u001b[38;5;28;01mreturn\u001b[39;00m \u001b[38;5;28;43mself\u001b[39;49m\u001b[38;5;241;43m.\u001b[39;49m\u001b[43m_getitem_axis\u001b[49m\u001b[43m(\u001b[49m\u001b[43mmaybe_callable\u001b[49m\u001b[43m,\u001b[49m\u001b[43m \u001b[49m\u001b[43maxis\u001b[49m\u001b[38;5;241;43m=\u001b[39;49m\u001b[43maxis\u001b[49m\u001b[43m)\u001b[49m\n",
      "File \u001b[1;32mc:\\Desktop\\python_projects\\project_env\\Lib\\site-packages\\pandas\\core\\indexing.py:1752\u001b[0m, in \u001b[0;36m_iLocIndexer._getitem_axis\u001b[1;34m(self, key, axis)\u001b[0m\n\u001b[0;32m   1749\u001b[0m     \u001b[38;5;28;01mraise\u001b[39;00m \u001b[38;5;167;01mTypeError\u001b[39;00m(\u001b[38;5;124m\"\u001b[39m\u001b[38;5;124mCannot index by location index with a non-integer key\u001b[39m\u001b[38;5;124m\"\u001b[39m)\n\u001b[0;32m   1751\u001b[0m \u001b[38;5;66;03m# validate the location\u001b[39;00m\n\u001b[1;32m-> 1752\u001b[0m \u001b[38;5;28;43mself\u001b[39;49m\u001b[38;5;241;43m.\u001b[39;49m\u001b[43m_validate_integer\u001b[49m\u001b[43m(\u001b[49m\u001b[43mkey\u001b[49m\u001b[43m,\u001b[49m\u001b[43m \u001b[49m\u001b[43maxis\u001b[49m\u001b[43m)\u001b[49m\n\u001b[0;32m   1754\u001b[0m \u001b[38;5;28;01mreturn\u001b[39;00m \u001b[38;5;28mself\u001b[39m\u001b[38;5;241m.\u001b[39mobj\u001b[38;5;241m.\u001b[39m_ixs(key, axis\u001b[38;5;241m=\u001b[39maxis)\n",
      "File \u001b[1;32mc:\\Desktop\\python_projects\\project_env\\Lib\\site-packages\\pandas\\core\\indexing.py:1685\u001b[0m, in \u001b[0;36m_iLocIndexer._validate_integer\u001b[1;34m(self, key, axis)\u001b[0m\n\u001b[0;32m   1683\u001b[0m len_axis \u001b[38;5;241m=\u001b[39m \u001b[38;5;28mlen\u001b[39m(\u001b[38;5;28mself\u001b[39m\u001b[38;5;241m.\u001b[39mobj\u001b[38;5;241m.\u001b[39m_get_axis(axis))\n\u001b[0;32m   1684\u001b[0m \u001b[38;5;28;01mif\u001b[39;00m key \u001b[38;5;241m>\u001b[39m\u001b[38;5;241m=\u001b[39m len_axis \u001b[38;5;129;01mor\u001b[39;00m key \u001b[38;5;241m<\u001b[39m \u001b[38;5;241m-\u001b[39mlen_axis:\n\u001b[1;32m-> 1685\u001b[0m     \u001b[38;5;28;01mraise\u001b[39;00m \u001b[38;5;167;01mIndexError\u001b[39;00m(\u001b[38;5;124m\"\u001b[39m\u001b[38;5;124msingle positional indexer is out-of-bounds\u001b[39m\u001b[38;5;124m\"\u001b[39m)\n",
      "\u001b[1;31mIndexError\u001b[0m: single positional indexer is out-of-bounds"
     ]
    }
   ],
   "source": [
    "stock_data.tail(2)\n",
    "capm_return, beta, m_return, stock_actual_return, market_actual_return = capm(stock_data, market_data)"
   ]
  },
  {
   "cell_type": "code",
   "execution_count": null,
   "metadata": {},
   "outputs": [],
   "source": [
    "stock_data = yf.Ticker(\"AAPL\").history(period=f\"{max_period}y\", interval=\"1d\")\n",
    "market_data = yf.Ticker(\"^GSPC\").history(period=f\"{max_period}y\", interval=\"1d\")\n",
    "rf_data = yf.Ticker(\"^FVX\").history(period=f\"{max_period}y\", interval=\"1d\")\n"
   ]
  },
  {
   "cell_type": "code",
   "execution_count": null,
   "metadata": {},
   "outputs": [
    {
     "ename": "TypeError",
     "evalue": "'tuple' object is not callable",
     "output_type": "error",
     "traceback": [
      "\u001b[1;31m---------------------------------------------------------------------------\u001b[0m",
      "\u001b[1;31mTypeError\u001b[0m                                 Traceback (most recent call last)",
      "Cell \u001b[1;32mIn[38], line 1\u001b[0m\n\u001b[1;32m----> 1\u001b[0m stock_actual_return, capm_result, m_return, most_stable_period, final_beta\u001b[38;5;241m=\u001b[39m\u001b[43mcapm\u001b[49m\u001b[43m(\u001b[49m\u001b[43mstock_data\u001b[49m\u001b[43m,\u001b[49m\u001b[43m \u001b[49m\u001b[43mmarket_data\u001b[49m\u001b[43m,\u001b[49m\u001b[43m \u001b[49m\u001b[43mrf_data\u001b[49m\u001b[43m)\u001b[49m\n\u001b[0;32m      2\u001b[0m capm_result\n",
      "\u001b[1;31mTypeError\u001b[0m: 'tuple' object is not callable"
     ]
    }
   ],
   "source": [
    "stock_actual_return, capm_result, m_return, most_stable_period, final_beta=capm(stock_data, market_data, rf_data)\n",
    "capm_result"
   ]
  },
  {
   "cell_type": "code",
   "execution_count": null,
   "metadata": {},
   "outputs": [
    {
     "data": {
      "text/html": [
       "<div>\n",
       "<style scoped>\n",
       "    .dataframe tbody tr th:only-of-type {\n",
       "        vertical-align: middle;\n",
       "    }\n",
       "\n",
       "    .dataframe tbody tr th {\n",
       "        vertical-align: top;\n",
       "    }\n",
       "\n",
       "    .dataframe thead th {\n",
       "        text-align: right;\n",
       "    }\n",
       "</style>\n",
       "<table border=\"1\" class=\"dataframe\">\n",
       "  <thead>\n",
       "    <tr style=\"text-align: right;\">\n",
       "      <th></th>\n",
       "      <th>Open</th>\n",
       "      <th>High</th>\n",
       "      <th>Low</th>\n",
       "      <th>Close</th>\n",
       "      <th>Volume</th>\n",
       "      <th>Dividends</th>\n",
       "      <th>Stock Splits</th>\n",
       "    </tr>\n",
       "    <tr>\n",
       "      <th>Date</th>\n",
       "      <th></th>\n",
       "      <th></th>\n",
       "      <th></th>\n",
       "      <th></th>\n",
       "      <th></th>\n",
       "      <th></th>\n",
       "      <th></th>\n",
       "    </tr>\n",
       "  </thead>\n",
       "  <tbody>\n",
       "    <tr>\n",
       "      <th>2020-03-27 00:00:00-04:00</th>\n",
       "      <td>61.337120</td>\n",
       "      <td>62.094278</td>\n",
       "      <td>59.953851</td>\n",
       "      <td>60.121300</td>\n",
       "      <td>204216800</td>\n",
       "      <td>0.0</td>\n",
       "      <td>0.0</td>\n",
       "    </tr>\n",
       "    <tr>\n",
       "      <th>2020-03-30 00:00:00-04:00</th>\n",
       "      <td>60.849338</td>\n",
       "      <td>62.009344</td>\n",
       "      <td>60.524146</td>\n",
       "      <td>61.837040</td>\n",
       "      <td>167976400</td>\n",
       "      <td>0.0</td>\n",
       "      <td>0.0</td>\n",
       "    </tr>\n",
       "    <tr>\n",
       "      <th>2020-03-31 00:00:00-04:00</th>\n",
       "      <td>62.028770</td>\n",
       "      <td>63.700825</td>\n",
       "      <td>61.155124</td>\n",
       "      <td>61.710857</td>\n",
       "      <td>197002000</td>\n",
       "      <td>0.0</td>\n",
       "      <td>0.0</td>\n",
       "    </tr>\n",
       "    <tr>\n",
       "      <th>2020-04-01 00:00:00-04:00</th>\n",
       "      <td>59.820369</td>\n",
       "      <td>60.359117</td>\n",
       "      <td>58.031826</td>\n",
       "      <td>58.463795</td>\n",
       "      <td>176218400</td>\n",
       "      <td>0.0</td>\n",
       "      <td>0.0</td>\n",
       "    </tr>\n",
       "    <tr>\n",
       "      <th>2020-04-02 00:00:00-04:00</th>\n",
       "      <td>58.325477</td>\n",
       "      <td>59.492763</td>\n",
       "      <td>57.490661</td>\n",
       "      <td>59.439373</td>\n",
       "      <td>165934000</td>\n",
       "      <td>0.0</td>\n",
       "      <td>0.0</td>\n",
       "    </tr>\n",
       "    <tr>\n",
       "      <th>...</th>\n",
       "      <td>...</td>\n",
       "      <td>...</td>\n",
       "      <td>...</td>\n",
       "      <td>...</td>\n",
       "      <td>...</td>\n",
       "      <td>...</td>\n",
       "      <td>...</td>\n",
       "    </tr>\n",
       "    <tr>\n",
       "      <th>2025-03-20 00:00:00-04:00</th>\n",
       "      <td>213.990005</td>\n",
       "      <td>217.490005</td>\n",
       "      <td>212.220001</td>\n",
       "      <td>214.100006</td>\n",
       "      <td>48862900</td>\n",
       "      <td>0.0</td>\n",
       "      <td>0.0</td>\n",
       "    </tr>\n",
       "    <tr>\n",
       "      <th>2025-03-21 00:00:00-04:00</th>\n",
       "      <td>211.559998</td>\n",
       "      <td>218.839996</td>\n",
       "      <td>211.279999</td>\n",
       "      <td>218.270004</td>\n",
       "      <td>94127800</td>\n",
       "      <td>0.0</td>\n",
       "      <td>0.0</td>\n",
       "    </tr>\n",
       "    <tr>\n",
       "      <th>2025-03-24 00:00:00-04:00</th>\n",
       "      <td>221.000000</td>\n",
       "      <td>221.479996</td>\n",
       "      <td>218.580002</td>\n",
       "      <td>220.729996</td>\n",
       "      <td>44299500</td>\n",
       "      <td>0.0</td>\n",
       "      <td>0.0</td>\n",
       "    </tr>\n",
       "    <tr>\n",
       "      <th>2025-03-25 00:00:00-04:00</th>\n",
       "      <td>220.770004</td>\n",
       "      <td>224.100006</td>\n",
       "      <td>220.080002</td>\n",
       "      <td>223.750000</td>\n",
       "      <td>34493600</td>\n",
       "      <td>0.0</td>\n",
       "      <td>0.0</td>\n",
       "    </tr>\n",
       "    <tr>\n",
       "      <th>2025-03-26 00:00:00-04:00</th>\n",
       "      <td>223.509995</td>\n",
       "      <td>225.020004</td>\n",
       "      <td>220.470001</td>\n",
       "      <td>221.529999</td>\n",
       "      <td>34163658</td>\n",
       "      <td>0.0</td>\n",
       "      <td>0.0</td>\n",
       "    </tr>\n",
       "  </tbody>\n",
       "</table>\n",
       "<p>1256 rows × 7 columns</p>\n",
       "</div>"
      ],
      "text/plain": [
       "                                 Open        High         Low       Close  \\\n",
       "Date                                                                        \n",
       "2020-03-27 00:00:00-04:00   61.337120   62.094278   59.953851   60.121300   \n",
       "2020-03-30 00:00:00-04:00   60.849338   62.009344   60.524146   61.837040   \n",
       "2020-03-31 00:00:00-04:00   62.028770   63.700825   61.155124   61.710857   \n",
       "2020-04-01 00:00:00-04:00   59.820369   60.359117   58.031826   58.463795   \n",
       "2020-04-02 00:00:00-04:00   58.325477   59.492763   57.490661   59.439373   \n",
       "...                               ...         ...         ...         ...   \n",
       "2025-03-20 00:00:00-04:00  213.990005  217.490005  212.220001  214.100006   \n",
       "2025-03-21 00:00:00-04:00  211.559998  218.839996  211.279999  218.270004   \n",
       "2025-03-24 00:00:00-04:00  221.000000  221.479996  218.580002  220.729996   \n",
       "2025-03-25 00:00:00-04:00  220.770004  224.100006  220.080002  223.750000   \n",
       "2025-03-26 00:00:00-04:00  223.509995  225.020004  220.470001  221.529999   \n",
       "\n",
       "                              Volume  Dividends  Stock Splits  \n",
       "Date                                                           \n",
       "2020-03-27 00:00:00-04:00  204216800        0.0           0.0  \n",
       "2020-03-30 00:00:00-04:00  167976400        0.0           0.0  \n",
       "2020-03-31 00:00:00-04:00  197002000        0.0           0.0  \n",
       "2020-04-01 00:00:00-04:00  176218400        0.0           0.0  \n",
       "2020-04-02 00:00:00-04:00  165934000        0.0           0.0  \n",
       "...                              ...        ...           ...  \n",
       "2025-03-20 00:00:00-04:00   48862900        0.0           0.0  \n",
       "2025-03-21 00:00:00-04:00   94127800        0.0           0.0  \n",
       "2025-03-24 00:00:00-04:00   44299500        0.0           0.0  \n",
       "2025-03-25 00:00:00-04:00   34493600        0.0           0.0  \n",
       "2025-03-26 00:00:00-04:00   34163658        0.0           0.0  \n",
       "\n",
       "[1256 rows x 7 columns]"
      ]
     },
     "execution_count": 22,
     "metadata": {},
     "output_type": "execute_result"
    }
   ],
   "source": [
    "stock_data\n"
   ]
  },
  {
   "cell_type": "code",
   "execution_count": null,
   "metadata": {},
   "outputs": [
    {
     "ename": "AttributeError",
     "evalue": "'datetime.datetime' object has no attribute 'tz_localize'",
     "output_type": "error",
     "traceback": [
      "\u001b[1;31m---------------------------------------------------------------------------\u001b[0m",
      "\u001b[1;31mAttributeError\u001b[0m                            Traceback (most recent call last)",
      "Cell \u001b[1;32mIn[31], line 1\u001b[0m\n\u001b[1;32m----> 1\u001b[0m \u001b[43mcapm\u001b[49m\u001b[43m(\u001b[49m\u001b[43mstock_data\u001b[49m\u001b[43m,\u001b[49m\u001b[43m \u001b[49m\u001b[43mmarket_data\u001b[49m\u001b[43m)\u001b[49m\n",
      "Cell \u001b[1;32mIn[30], line 10\u001b[0m, in \u001b[0;36mcapm\u001b[1;34m(stock_data, market_data)\u001b[0m\n\u001b[0;32m      7\u001b[0m \u001b[38;5;28;01mdef\u001b[39;00m \u001b[38;5;21mcapm\u001b[39m(stock_data, market_data):\n\u001b[0;32m      8\u001b[0m     \u001b[38;5;66;03m# Start and end date\u001b[39;00m\n\u001b[0;32m      9\u001b[0m     max_period \u001b[38;5;241m=\u001b[39m \u001b[38;5;241m5\u001b[39m\n\u001b[1;32m---> 10\u001b[0m     end_date \u001b[38;5;241m=\u001b[39m \u001b[43mdatetime\u001b[49m\u001b[38;5;241;43m.\u001b[39;49m\u001b[43mnow\u001b[49m\u001b[43m(\u001b[49m\u001b[43m)\u001b[49m\u001b[38;5;241;43m.\u001b[39;49m\u001b[43mtz_localize\u001b[49m(\u001b[38;5;28;01mNone\u001b[39;00m)\n\u001b[0;32m     11\u001b[0m     start_date \u001b[38;5;241m=\u001b[39m end_date \u001b[38;5;241m-\u001b[39m timedelta(days\u001b[38;5;241m=\u001b[39mmax_period\u001b[38;5;241m*\u001b[39m\u001b[38;5;241m365\u001b[39m)\n\u001b[0;32m     13\u001b[0m     \u001b[38;5;66;03m# Risk-free data: for simplicity used 5y US T-bill\u001b[39;00m\n",
      "\u001b[1;31mAttributeError\u001b[0m: 'datetime.datetime' object has no attribute 'tz_localize'"
     ]
    }
   ],
   "source": [
    "capm(stock_data, market_data)"
   ]
  },
  {
   "cell_type": "code",
   "execution_count": null,
   "metadata": {},
   "outputs": [
    {
     "name": "stdout",
     "output_type": "stream",
     "text": [
      "Market sp500 mean: 17.3723 %\n",
      "stock mean:0.1179 %\n",
      "risk free fvx mean: 61.5165 %\n"
     ]
    }
   ],
   "source": [
    "\n",
    "market_data['m_return'] = market_data['Close'].pct_change().dropna()\n",
    "stock_data['s_return'] = stock_data['Close'].pct_change().dropna()\n",
    "rf_data['rf_return'] = (rf_data['Close']/100).pct_change().dropna()\n",
    "m_mean = market_data['m_return'].mean()*252*100\n",
    "s_mean = stock_data['s_return'].mean()*100\n",
    "rf_mean = rf_data['rf_return'].mean()*252*100\n",
    "print(f\"Market sp500 mean: {round(m_mean, 4)} %\\nstock mean:{round(s_mean, 4)} %\\nrisk free fvx mean: {round(rf_mean, 4)} %\")\n"
   ]
  },
  {
   "cell_type": "code",
   "execution_count": null,
   "metadata": {},
   "outputs": [
    {
     "name": "stdout",
     "output_type": "stream",
     "text": [
      "{'message': \"API doesn't exists\"}\n"
     ]
    }
   ],
   "source": [
    "import requests\n",
    "\n",
    "url = \"https://investing-com.p.rapidapi.com/markets/get-historical-data\"\n",
    "\n",
    "querystring = {\"symbol\":\"SP500\",\"interval\":\"daily\",\"start_date\":\"2024-01-01\",\"end_date\":\"2024-03-25\"}\n",
    "\n",
    "headers = {\n",
    "    \"X-RapidAPI-Key\": \"your_api_key_here\",\n",
    "    \"X-RapidAPI-Host\": \"investing-com.p.rapidapi.com\"\n",
    "}\n",
    "\n",
    "response = requests.get(url, headers=headers, params=querystring)\n",
    "print(response.json())  # Returns historical market data\n"
   ]
  },
  {
   "cell_type": "code",
   "execution_count": null,
   "metadata": {},
   "outputs": [],
   "source": []
  },
  {
   "cell_type": "code",
   "execution_count": null,
   "metadata": {},
   "outputs": [
    {
     "data": {
      "text/html": [
       "<div>\n",
       "<style scoped>\n",
       "    .dataframe tbody tr th:only-of-type {\n",
       "        vertical-align: middle;\n",
       "    }\n",
       "\n",
       "    .dataframe tbody tr th {\n",
       "        vertical-align: top;\n",
       "    }\n",
       "\n",
       "    .dataframe thead th {\n",
       "        text-align: right;\n",
       "    }\n",
       "</style>\n",
       "<table border=\"1\" class=\"dataframe\">\n",
       "  <thead>\n",
       "    <tr style=\"text-align: right;\">\n",
       "      <th></th>\n",
       "      <th>Open</th>\n",
       "      <th>High</th>\n",
       "      <th>Low</th>\n",
       "      <th>Close</th>\n",
       "      <th>Volume</th>\n",
       "      <th>Dividends</th>\n",
       "      <th>Stock Splits</th>\n",
       "      <th>rf_return</th>\n",
       "    </tr>\n",
       "    <tr>\n",
       "      <th>Date</th>\n",
       "      <th></th>\n",
       "      <th></th>\n",
       "      <th></th>\n",
       "      <th></th>\n",
       "      <th></th>\n",
       "      <th></th>\n",
       "      <th></th>\n",
       "      <th></th>\n",
       "    </tr>\n",
       "  </thead>\n",
       "  <tbody>\n",
       "    <tr>\n",
       "      <th>2020-03-25 00:00:00-05:00</th>\n",
       "      <td>0.541</td>\n",
       "      <td>0.548</td>\n",
       "      <td>0.483</td>\n",
       "      <td>0.521</td>\n",
       "      <td>0</td>\n",
       "      <td>0.0</td>\n",
       "      <td>0.0</td>\n",
       "      <td>NaN</td>\n",
       "    </tr>\n",
       "    <tr>\n",
       "      <th>2020-03-26 00:00:00-05:00</th>\n",
       "      <td>0.498</td>\n",
       "      <td>0.521</td>\n",
       "      <td>0.449</td>\n",
       "      <td>0.478</td>\n",
       "      <td>0</td>\n",
       "      <td>0.0</td>\n",
       "      <td>0.0</td>\n",
       "      <td>-0.082534</td>\n",
       "    </tr>\n",
       "    <tr>\n",
       "      <th>2020-03-27 00:00:00-05:00</th>\n",
       "      <td>0.473</td>\n",
       "      <td>0.475</td>\n",
       "      <td>0.412</td>\n",
       "      <td>0.426</td>\n",
       "      <td>0</td>\n",
       "      <td>0.0</td>\n",
       "      <td>0.0</td>\n",
       "      <td>-0.108787</td>\n",
       "    </tr>\n",
       "    <tr>\n",
       "      <th>2020-03-30 00:00:00-05:00</th>\n",
       "      <td>0.382</td>\n",
       "      <td>0.399</td>\n",
       "      <td>0.334</td>\n",
       "      <td>0.378</td>\n",
       "      <td>0</td>\n",
       "      <td>0.0</td>\n",
       "      <td>0.0</td>\n",
       "      <td>-0.112676</td>\n",
       "    </tr>\n",
       "    <tr>\n",
       "      <th>2020-03-31 00:00:00-05:00</th>\n",
       "      <td>0.389</td>\n",
       "      <td>0.400</td>\n",
       "      <td>0.336</td>\n",
       "      <td>0.375</td>\n",
       "      <td>0</td>\n",
       "      <td>0.0</td>\n",
       "      <td>0.0</td>\n",
       "      <td>-0.007936</td>\n",
       "    </tr>\n",
       "    <tr>\n",
       "      <th>...</th>\n",
       "      <td>...</td>\n",
       "      <td>...</td>\n",
       "      <td>...</td>\n",
       "      <td>...</td>\n",
       "      <td>...</td>\n",
       "      <td>...</td>\n",
       "      <td>...</td>\n",
       "      <td>...</td>\n",
       "    </tr>\n",
       "    <tr>\n",
       "      <th>2025-03-19 00:00:00-05:00</th>\n",
       "      <td>4.088</td>\n",
       "      <td>4.123</td>\n",
       "      <td>4.026</td>\n",
       "      <td>4.030</td>\n",
       "      <td>0</td>\n",
       "      <td>0.0</td>\n",
       "      <td>0.0</td>\n",
       "      <td>-0.009828</td>\n",
       "    </tr>\n",
       "    <tr>\n",
       "      <th>2025-03-20 00:00:00-05:00</th>\n",
       "      <td>3.975</td>\n",
       "      <td>4.024</td>\n",
       "      <td>3.954</td>\n",
       "      <td>4.007</td>\n",
       "      <td>0</td>\n",
       "      <td>0.0</td>\n",
       "      <td>0.0</td>\n",
       "      <td>-0.005707</td>\n",
       "    </tr>\n",
       "    <tr>\n",
       "      <th>2025-03-21 00:00:00-05:00</th>\n",
       "      <td>3.980</td>\n",
       "      <td>4.014</td>\n",
       "      <td>3.961</td>\n",
       "      <td>4.008</td>\n",
       "      <td>0</td>\n",
       "      <td>0.0</td>\n",
       "      <td>0.0</td>\n",
       "      <td>0.000250</td>\n",
       "    </tr>\n",
       "    <tr>\n",
       "      <th>2025-03-24 00:00:00-05:00</th>\n",
       "      <td>4.059</td>\n",
       "      <td>4.098</td>\n",
       "      <td>4.047</td>\n",
       "      <td>4.097</td>\n",
       "      <td>0</td>\n",
       "      <td>0.0</td>\n",
       "      <td>0.0</td>\n",
       "      <td>0.022206</td>\n",
       "    </tr>\n",
       "    <tr>\n",
       "      <th>2025-03-25 00:00:00-05:00</th>\n",
       "      <td>4.114</td>\n",
       "      <td>4.118</td>\n",
       "      <td>4.052</td>\n",
       "      <td>4.058</td>\n",
       "      <td>0</td>\n",
       "      <td>0.0</td>\n",
       "      <td>0.0</td>\n",
       "      <td>-0.009519</td>\n",
       "    </tr>\n",
       "  </tbody>\n",
       "</table>\n",
       "<p>1257 rows × 8 columns</p>\n",
       "</div>"
      ],
      "text/plain": [
       "                            Open   High    Low  Close  Volume  Dividends  \\\n",
       "Date                                                                       \n",
       "2020-03-25 00:00:00-05:00  0.541  0.548  0.483  0.521       0        0.0   \n",
       "2020-03-26 00:00:00-05:00  0.498  0.521  0.449  0.478       0        0.0   \n",
       "2020-03-27 00:00:00-05:00  0.473  0.475  0.412  0.426       0        0.0   \n",
       "2020-03-30 00:00:00-05:00  0.382  0.399  0.334  0.378       0        0.0   \n",
       "2020-03-31 00:00:00-05:00  0.389  0.400  0.336  0.375       0        0.0   \n",
       "...                          ...    ...    ...    ...     ...        ...   \n",
       "2025-03-19 00:00:00-05:00  4.088  4.123  4.026  4.030       0        0.0   \n",
       "2025-03-20 00:00:00-05:00  3.975  4.024  3.954  4.007       0        0.0   \n",
       "2025-03-21 00:00:00-05:00  3.980  4.014  3.961  4.008       0        0.0   \n",
       "2025-03-24 00:00:00-05:00  4.059  4.098  4.047  4.097       0        0.0   \n",
       "2025-03-25 00:00:00-05:00  4.114  4.118  4.052  4.058       0        0.0   \n",
       "\n",
       "                           Stock Splits  rf_return  \n",
       "Date                                                \n",
       "2020-03-25 00:00:00-05:00           0.0        NaN  \n",
       "2020-03-26 00:00:00-05:00           0.0  -0.082534  \n",
       "2020-03-27 00:00:00-05:00           0.0  -0.108787  \n",
       "2020-03-30 00:00:00-05:00           0.0  -0.112676  \n",
       "2020-03-31 00:00:00-05:00           0.0  -0.007936  \n",
       "...                                 ...        ...  \n",
       "2025-03-19 00:00:00-05:00           0.0  -0.009828  \n",
       "2025-03-20 00:00:00-05:00           0.0  -0.005707  \n",
       "2025-03-21 00:00:00-05:00           0.0   0.000250  \n",
       "2025-03-24 00:00:00-05:00           0.0   0.022206  \n",
       "2025-03-25 00:00:00-05:00           0.0  -0.009519  \n",
       "\n",
       "[1257 rows x 8 columns]"
      ]
     },
     "execution_count": 227,
     "metadata": {},
     "output_type": "execute_result"
    }
   ],
   "source": [
    "rf_data"
   ]
  },
  {
   "cell_type": "code",
   "execution_count": null,
   "metadata": {},
   "outputs": [],
   "source": []
  },
  {
   "cell_type": "code",
   "execution_count": null,
   "metadata": {},
   "outputs": [
    {
     "name": "stdout",
     "output_type": "stream",
     "text": [
      "stock actual return: 0.0137,\n",
      "CAPM: -0.8475,\n",
      "Market retrun: 0.19,\n",
      "Period in Use: 4,\n",
      "Beta: 1.2032\n"
     ]
    },
    {
     "name": "stderr",
     "output_type": "stream",
     "text": [
      "C:\\Users\\smahd\\AppData\\Local\\Temp\\ipykernel_16636\\463995252.py:121: FutureWarning: Series.__getitem__ treating keys as positions is deprecated. In a future version, integer keys will always be treated as labels (consistent with DataFrame behavior). To access a value by position, use `ser.iloc[pos]`\n",
      "  return model.params[1]\n",
      "C:\\Users\\smahd\\AppData\\Local\\Temp\\ipykernel_16636\\463995252.py:121: FutureWarning: Series.__getitem__ treating keys as positions is deprecated. In a future version, integer keys will always be treated as labels (consistent with DataFrame behavior). To access a value by position, use `ser.iloc[pos]`\n",
      "  return model.params[1]\n",
      "C:\\Users\\smahd\\AppData\\Local\\Temp\\ipykernel_16636\\463995252.py:121: FutureWarning: Series.__getitem__ treating keys as positions is deprecated. In a future version, integer keys will always be treated as labels (consistent with DataFrame behavior). To access a value by position, use `ser.iloc[pos]`\n",
      "  return model.params[1]\n",
      "C:\\Users\\smahd\\AppData\\Local\\Temp\\ipykernel_16636\\463995252.py:121: FutureWarning: Series.__getitem__ treating keys as positions is deprecated. In a future version, integer keys will always be treated as labels (consistent with DataFrame behavior). To access a value by position, use `ser.iloc[pos]`\n",
      "  return model.params[1]\n",
      "C:\\Users\\smahd\\AppData\\Local\\Temp\\ipykernel_16636\\463995252.py:121: FutureWarning: Series.__getitem__ treating keys as positions is deprecated. In a future version, integer keys will always be treated as labels (consistent with DataFrame behavior). To access a value by position, use `ser.iloc[pos]`\n",
      "  return model.params[1]\n"
     ]
    }
   ],
   "source": [
    "df, stock_actual_return,capm, m_return, most_stable_period, final_beta= capm(stock_data, market_data, rf_data)\n",
    "print(f\"stock actual return: {stock_actual_return},\\nCAPM: {capm},\\nMarket retrun: {m_return},\\nPeriod in Use: {most_stable_period},\\nBeta: {final_beta}\")\n"
   ]
  },
  {
   "cell_type": "code",
   "execution_count": null,
   "metadata": {},
   "outputs": [],
   "source": [
    "\n",
    "df.to_excel('data1.xlsx', index=True)\n"
   ]
  },
  {
   "cell_type": "code",
   "execution_count": null,
   "metadata": {},
   "outputs": [],
   "source": [
    "df"
   ]
  },
  {
   "cell_type": "code",
   "execution_count": null,
   "metadata": {},
   "outputs": [],
   "source": [
    "def data(stock_data, market_data, rf_data, start_date, end_date):\n",
    "    return pd.concat([df['Close'].rename(name) \n",
    "                      for df, name in zip([stock_data, market_data, rf_data], \n",
    "                                        ['Stock', 'Market', 'Risk_Free'])], axis=1) \\\n",
    "             .loc[start_date:end_date] \\\n",
    "             .dropna() \\\n",
    "             .pipe(lambda df: df.set_index(df.index.strftime('%Y-%m-%d')))"
   ]
  },
  {
   "cell_type": "code",
   "execution_count": null,
   "metadata": {},
   "outputs": [],
   "source": [
    "# CAPM function 3:\n",
    "import pandas as pd\n",
    "import numpy as np\n",
    "import yfinance as yf\n",
    "from datetime import datetime, timedelta\n",
    "\n",
    "def capm():\n",
    "    # volatility calculation\n",
    "    def calculate_volatility(returns):\n",
    "        return returns.std() * np.sqrt(252)  # Annualized volatility\n",
    "    \n",
    "    # Beta calculation\n",
    "    def calculate_beta(stock_returns, market_returns):\n",
    "        X = sm.add_constant(market_returns.dropna())  # Add constant term\n",
    "        y = stock_returns.loc[X.index]  # Ensure aligned indexes\n",
    "        if len(X) < 2:  # Ensure enough data points for regression\n",
    "            return np.nan\n",
    "        model = sm.OLS(y, X).fit()\n",
    "        return model.params[1]\n",
    "    \n",
    "    # calculate capm\n",
    "    def calculate_capm(risk_free_rate, beta, market_return):\n",
    "        return risk_free_rate + beta * (market_return - risk_free_rate)\n",
    "\n",
    "    # get data\n",
    "    max_period = 5\n",
    "    end_date = datetime.now()\n",
    "    start_date = end_date - timedelta(days=max_period*365)\n",
    "\n",
    "    rf_ticker ='^IRX'\n",
    "    s_ticker = 'AAPLE'\n",
    "    i_ticker ='^GSPC'\n",
    "    stock_data = yf.download(s_ticker, start=start_date, end=end_date)\n",
    "    market_data = yf.download(i_ticker, start=start_date, end=end_date)\n",
    "    rf_data = yf.download(rf_ticker, start=start_date, end=end_date)\n",
    "    risk_free_rate = rf_data['Close'].iloc[-1]\n",
    "\n",
    "    return start_date\n",
    "    # # Main body\n",
    "    # ## Check data\n",
    "    # if stock_data.empty or market_data.empty or rf_data.empty:\n",
    "    #     raise ValueError(f\"Failed to fetch data for {s_ticker} or {i_ticker} or {rf_ticker}\")\n",
    "    \n",
    "    # ## Calculate daily returns\n",
    "    # stock_returns = stock_data.pct_change().dropna()\n",
    "    # market_returns = market_data.pct_change().dropna()\n",
    "\n",
    "    # # Calculate volatilities and betas\n",
    "    # volatilities, betas = {}, {}\n",
    "    # for period in range(1, max_period + 1):\n",
    "    #     period_start = end_date - timedelta(days=period*365)\n",
    "    #     period_stock_returns = stock_returns.loc[stock_returns.index >= period_start]\n",
    "    #     period_market_returns = market_returns.loc[market_returns.index >= period_start]\n",
    "\n",
    "    #     if not period_stock_returns.empty and not period_market_returns.empty:\n",
    "    #         volatilities[period] = calculate_volatility(period_stock_returns)\n",
    "    #         betas[period] = calculate_beta(period_stock_returns, period_market_returns)\n",
    "\n",
    "    # # Handle case where not enough data is available\n",
    "    # if len(volatilities) < 2 or len(betas) < 2:\n",
    "    #     raise ValueError(\"Not enough data to calculate stable volatility and beta.\")\n",
    "\n",
    "    # # Convert values to numeric scalars (avoid Series-related errors)\n",
    "    # volatility_changes = {p: float(abs(volatilities[p] - volatilities[p - 1])) for p in range(2, max_period + 1)}\n",
    "    # if not volatility_changes:\n",
    "    #     raise ValueError(\"Not enough stable volatility data available.\")\n",
    "    # # Find the most stable period\n",
    "    # else:\n",
    "    #     most_stable_period = min(volatility_changes, key=volatility_changes.get)\n",
    "    #     final_beta = round(float(betas[most_stable_period]),4)\n",
    "    \n",
    "    # # Calculate expected return using CAPM\n",
    "    # market_mean_return = round(market_returns.mean() * 252,4)  # Annualized return\n",
    "    # CAPM = round(calculate_capm(risk_free_rate, final_beta, market_mean_return),4)\n",
    "    # actual_stock_return = round((stock_returns['Close'] - stock_returns['Close'].iloc[-1])/stock_returns['Close'].iloc[-1])\n",
    "\n",
    "    # return final_beta, most_stable_period, CAPM, market_mean_return, actual_stock_return\n",
    "\n",
    "\n"
   ]
  },
  {
   "cell_type": "code",
   "execution_count": null,
   "metadata": {},
   "outputs": [
    {
     "name": "stderr",
     "output_type": "stream",
     "text": [
      "[*********************100%***********************]  1 of 1 completed\n",
      "\n",
      "1 Failed download:\n",
      "['AAPLE']: YFTzMissingError('possibly delisted; no timezone found')\n"
     ]
    },
    {
     "name": "stderr",
     "output_type": "stream",
     "text": [
      "[*********************100%***********************]  1 of 1 completed\n",
      "[*********************100%***********************]  1 of 1 completed\n"
     ]
    },
    {
     "data": {
      "text/plain": [
       "datetime.datetime(2020, 3, 26, 9, 15, 33, 704684)"
      ]
     },
     "execution_count": 6,
     "metadata": {},
     "output_type": "execute_result"
    }
   ],
   "source": [
    "capm()"
   ]
  },
  {
   "cell_type": "code",
   "execution_count": null,
   "metadata": {},
   "outputs": [
    {
     "name": "stderr",
     "output_type": "stream",
     "text": [
      "[*********************100%***********************]  1 of 1 completed\n",
      "\n",
      "1 Failed download:\n",
      "['AAPLE']: YFTzMissingError('possibly delisted; no timezone found')\n"
     ]
    },
    {
     "name": "stderr",
     "output_type": "stream",
     "text": [
      "[*********************100%***********************]  1 of 1 completed\n",
      "[*********************100%***********************]  1 of 1 completed\n"
     ]
    },
    {
     "ename": "ValueError",
     "evalue": "Failed to fetch data for AAPLE or ^GSPC or ^IRX",
     "output_type": "error",
     "traceback": [
      "\u001b[1;31m---------------------------------------------------------------------------\u001b[0m",
      "\u001b[1;31mValueError\u001b[0m                                Traceback (most recent call last)",
      "Cell \u001b[1;32mIn[100], line 1\u001b[0m\n\u001b[1;32m----> 1\u001b[0m final_beta, most_stable_period, CAPM, market_mean_return, actual_stock_return \u001b[38;5;241m=\u001b[39m \u001b[43mcapm\u001b[49m\u001b[43m(\u001b[49m\u001b[43m)\u001b[49m\n",
      "Cell \u001b[1;32mIn[99], line 41\u001b[0m, in \u001b[0;36mcapm\u001b[1;34m()\u001b[0m\n\u001b[0;32m     38\u001b[0m \u001b[38;5;66;03m# Main body\u001b[39;00m\n\u001b[0;32m     39\u001b[0m \u001b[38;5;66;03m## Check data\u001b[39;00m\n\u001b[0;32m     40\u001b[0m \u001b[38;5;28;01mif\u001b[39;00m stock_data\u001b[38;5;241m.\u001b[39mempty \u001b[38;5;129;01mor\u001b[39;00m market_data\u001b[38;5;241m.\u001b[39mempty \u001b[38;5;129;01mor\u001b[39;00m rf_data\u001b[38;5;241m.\u001b[39mempty:\n\u001b[1;32m---> 41\u001b[0m     \u001b[38;5;28;01mraise\u001b[39;00m \u001b[38;5;167;01mValueError\u001b[39;00m(\u001b[38;5;124mf\u001b[39m\u001b[38;5;124m\"\u001b[39m\u001b[38;5;124mFailed to fetch data for \u001b[39m\u001b[38;5;132;01m{\u001b[39;00ms_ticker\u001b[38;5;132;01m}\u001b[39;00m\u001b[38;5;124m or \u001b[39m\u001b[38;5;132;01m{\u001b[39;00mi_ticker\u001b[38;5;132;01m}\u001b[39;00m\u001b[38;5;124m or \u001b[39m\u001b[38;5;132;01m{\u001b[39;00mrf_ticker\u001b[38;5;132;01m}\u001b[39;00m\u001b[38;5;124m\"\u001b[39m)\n\u001b[0;32m     43\u001b[0m \u001b[38;5;66;03m## Calculate daily returns\u001b[39;00m\n\u001b[0;32m     44\u001b[0m stock_returns \u001b[38;5;241m=\u001b[39m stock_data\u001b[38;5;241m.\u001b[39mpct_change()\u001b[38;5;241m.\u001b[39mdropna()\n",
      "\u001b[1;31mValueError\u001b[0m: Failed to fetch data for AAPLE or ^GSPC or ^IRX"
     ]
    }
   ],
   "source": [
    "final_beta, most_stable_period, CAPM, market_mean_return, actual_stock_return = capm()"
   ]
  },
  {
   "cell_type": "code",
   "execution_count": null,
   "metadata": {},
   "outputs": [
    {
     "name": "stderr",
     "output_type": "stream",
     "text": [
      "[*********************100%***********************]  1 of 1 completed\n",
      "[*********************100%***********************]  1 of 1 completed\n",
      "[*********************100%***********************]  1 of 1 completed"
     ]
    },
    {
     "name": "stdout",
     "output_type": "stream",
     "text": [
      "Error: The truth value of a Series is ambiguous. Use a.empty, a.bool(), a.item(), a.any() or a.all().\n"
     ]
    },
    {
     "name": "stderr",
     "output_type": "stream",
     "text": [
      "\n",
      "C:\\Users\\smahd\\AppData\\Local\\Temp\\ipykernel_19076\\1974404302.py:53: RuntimeWarning:\n",
      "\n",
      "Degrees of freedom <= 0 for slice\n",
      "\n",
      "c:\\Desktop\\python_projects\\project_env\\Lib\\site-packages\\numpy\\lib\\_function_base_impl.py:2773: RuntimeWarning:\n",
      "\n",
      "divide by zero encountered in divide\n",
      "\n",
      "c:\\Desktop\\python_projects\\project_env\\Lib\\site-packages\\numpy\\lib\\_function_base_impl.py:2773: RuntimeWarning:\n",
      "\n",
      "invalid value encountered in multiply\n",
      "\n"
     ]
    }
   ],
   "source": [
    "import pandas as pd\n",
    "import numpy as np\n",
    "import yfinance as yf\n",
    "from datetime import datetime, timedelta\n",
    "\n",
    "def capm():\n",
    "    def calculate_volatility(returns):\n",
    "        return returns.std() * np.sqrt(252)  # Annualized volatility\n",
    "\n",
    "    max_period = 5  # Maximum period in years\n",
    "    end_date = datetime.now().date()  # Current date without time\n",
    "    start_date = end_date - timedelta(days=max_period * 365)\n",
    "\n",
    "    s_ticker = \"AAPL\"    # Stock ticker\n",
    "    i_ticker = \"^GSPC\"   # Index (market) ticker\n",
    "\n",
    "    # Download risk-free rate (^IRX = 13-week Treasury Bill)\n",
    "    risk_free_rate_data = yf.download(\"^IRX\", start=start_date, end=end_date)\n",
    "    if risk_free_rate_data.empty:\n",
    "        raise ValueError(\"Could not fetch risk-free rate data.\")\n",
    "    risk_free_rate = risk_free_rate_data[\"Close\"].dropna().iloc[-1] / 100  # Convert from percentage\n",
    "\n",
    "    # Download stock and market data\n",
    "    stock_data = yf.download(s_ticker, start=start_date, end=end_date)\n",
    "    market_data = yf.download(i_ticker, start=start_date, end=end_date)\n",
    "\n",
    "    if stock_data.empty or market_data.empty:\n",
    "        raise ValueError(\"Stock or market data could not be retrieved.\")\n",
    "\n",
    "    # Calculate daily returns\n",
    "    stock_returns = stock_data['Close'].pct_change().dropna()\n",
    "    market_returns = market_data['Close'].pct_change().dropna()\n",
    "\n",
    "    # Ensure the index is in datetime format and extract the date\n",
    "    stock_returns.index = pd.to_datetime(stock_returns.index).date\n",
    "    market_returns.index = pd.to_datetime(market_returns.index).date\n",
    "\n",
    "    volatilities = {}\n",
    "    betas = {}\n",
    "    valid_periods = []\n",
    "\n",
    "    for period in range(1, max_period + 1):\n",
    "        period_start = end_date - timedelta(days=period * 365)\n",
    "\n",
    "        # Filter returns for the given period\n",
    "        period_stock = stock_returns[stock_returns.index >= period_start]\n",
    "        period_market = market_returns[market_returns.index >= period_start]\n",
    "\n",
    "        if len(period_stock) > 30 and len(period_market) > 30:  # Ensure sufficient data points\n",
    "            volatilities[period] = calculate_volatility(period_stock)\n",
    "\n",
    "            # Calculate Beta\n",
    "            covariance_matrix = np.cov(period_stock, period_market)\n",
    "            covariance = covariance_matrix[0, 1]\n",
    "            market_variance = period_market.var()\n",
    "\n",
    "            if market_variance != 0:\n",
    "                betas[period] = covariance / market_variance\n",
    "                valid_periods.append(period)\n",
    "\n",
    "    if len(valid_periods) < 2:\n",
    "        raise ValueError(\"Insufficient data for CAPM calculation.\")\n",
    "\n",
    "    # Calculate volatility stability (absolute changes)\n",
    "    volatility_changes = {\n",
    "        p: abs(volatilities[p] - volatilities[p - 1])\n",
    "        for p in valid_periods if (p - 1) in valid_periods\n",
    "    }\n",
    "\n",
    "    if not volatility_changes:\n",
    "        raise ValueError(\"No valid volatility comparisons available.\")\n",
    "\n",
    "    # Find the period with the most stable volatility\n",
    "    most_stable_period = min(volatility_changes, key=volatility_changes.get)\n",
    "\n",
    "    # Use beta from the most stable period\n",
    "    beta = betas.get(most_stable_period, np.nan)\n",
    "\n",
    "    # Select returns for the most stable period\n",
    "    period_start = end_date - timedelta(days=most_stable_period * 365)\n",
    "    stable_stock_returns = stock_returns[stock_returns.index >= period_start]\n",
    "    stable_market_returns = market_returns[market_returns.index >= period_start]\n",
    "\n",
    "    # Calculate actual market return (annualized)\n",
    "    actual_market_return = stable_market_returns.mean() * 252\n",
    "    actual_return = stable_stock_returns.mean() * 252\n",
    "\n",
    "    # Compute expected return using CAPM formula\n",
    "    expected_return = risk_free_rate + beta * (actual_market_return - risk_free_rate)\n",
    "\n",
    "    return beta, stable_stock_returns, stable_market_returns, actual_market_return, expected_return, actual_return\n",
    "\n",
    "# Run the function\n",
    "try:\n",
    "    beta, stock_returns, market_returns, actual_market_return, expected_return, actual_return = calculate_capm()\n",
    "    print(f\"Beta: {beta:.2f}\")\n",
    "    print(f\"Actual Market Return: {actual_market_return:.2%}\")\n",
    "    print(f\"Expected Return: {expected_return:.2%}\")\n",
    "    print(f\"Actual Stock Return: {actual_return:.2%}\")\n",
    "except ValueError as e:\n",
    "    print(f\"Error: {e}\")\n"
   ]
  },
  {
   "cell_type": "code",
   "execution_count": null,
   "metadata": {},
   "outputs": [
    {
     "name": "stderr",
     "output_type": "stream",
     "text": [
      "[*********************100%***********************]  1 of 1 completed"
     ]
    },
    {
     "name": "stderr",
     "output_type": "stream",
     "text": [
      "\n",
      "[*********************100%***********************]  1 of 1 completed\n",
      "[*********************100%***********************]  1 of 1 completed\n",
      "C:\\Users\\smahd\\AppData\\Local\\Temp\\ipykernel_19076\\1974404302.py:53: RuntimeWarning:\n",
      "\n",
      "Degrees of freedom <= 0 for slice\n",
      "\n",
      "c:\\Desktop\\python_projects\\project_env\\Lib\\site-packages\\numpy\\lib\\_function_base_impl.py:2773: RuntimeWarning:\n",
      "\n",
      "divide by zero encountered in divide\n",
      "\n",
      "c:\\Desktop\\python_projects\\project_env\\Lib\\site-packages\\numpy\\lib\\_function_base_impl.py:2773: RuntimeWarning:\n",
      "\n",
      "invalid value encountered in multiply\n",
      "\n"
     ]
    },
    {
     "ename": "ValueError",
     "evalue": "The truth value of a Series is ambiguous. Use a.empty, a.bool(), a.item(), a.any() or a.all().",
     "output_type": "error",
     "traceback": [
      "\u001b[1;31m---------------------------------------------------------------------------\u001b[0m",
      "\u001b[1;31mValueError\u001b[0m                                Traceback (most recent call last)",
      "\u001b[1;32m~\\AppData\\Local\\Temp\\ipykernel_19076\\82368986.py\u001b[0m in \u001b[0;36m?\u001b[1;34m()\u001b[0m\n\u001b[1;32m----> 1\u001b[1;33m \u001b[0mbeta\u001b[0m\u001b[1;33m,\u001b[0m \u001b[0mstable_stock_returns\u001b[0m\u001b[1;33m,\u001b[0m \u001b[0mstable_market_returns\u001b[0m\u001b[1;33m,\u001b[0m \u001b[0mactual_market_return\u001b[0m\u001b[1;33m,\u001b[0m \u001b[0mexpected_return\u001b[0m\u001b[1;33m,\u001b[0m \u001b[0mactual_return\u001b[0m \u001b[1;33m=\u001b[0m \u001b[0mcalculate_capm\u001b[0m\u001b[1;33m(\u001b[0m\u001b[1;33m)\u001b[0m\u001b[1;33m\u001b[0m\u001b[1;33m\u001b[0m\u001b[0m\n\u001b[0m",
      "\u001b[1;32m~\\AppData\\Local\\Temp\\ipykernel_19076\\1974404302.py\u001b[0m in \u001b[0;36m?\u001b[1;34m()\u001b[0m\n\u001b[0;32m     53\u001b[0m             \u001b[0mcovariance_matrix\u001b[0m \u001b[1;33m=\u001b[0m \u001b[0mnp\u001b[0m\u001b[1;33m.\u001b[0m\u001b[0mcov\u001b[0m\u001b[1;33m(\u001b[0m\u001b[0mperiod_stock\u001b[0m\u001b[1;33m,\u001b[0m \u001b[0mperiod_market\u001b[0m\u001b[1;33m)\u001b[0m\u001b[1;33m\u001b[0m\u001b[1;33m\u001b[0m\u001b[0m\n\u001b[0;32m     54\u001b[0m             \u001b[0mcovariance\u001b[0m \u001b[1;33m=\u001b[0m \u001b[0mcovariance_matrix\u001b[0m\u001b[1;33m[\u001b[0m\u001b[1;36m0\u001b[0m\u001b[1;33m,\u001b[0m \u001b[1;36m1\u001b[0m\u001b[1;33m]\u001b[0m\u001b[1;33m\u001b[0m\u001b[1;33m\u001b[0m\u001b[0m\n\u001b[0;32m     55\u001b[0m             \u001b[0mmarket_variance\u001b[0m \u001b[1;33m=\u001b[0m \u001b[0mperiod_market\u001b[0m\u001b[1;33m.\u001b[0m\u001b[0mvar\u001b[0m\u001b[1;33m(\u001b[0m\u001b[1;33m)\u001b[0m\u001b[1;33m\u001b[0m\u001b[1;33m\u001b[0m\u001b[0m\n\u001b[0;32m     56\u001b[0m \u001b[1;33m\u001b[0m\u001b[0m\n\u001b[1;32m---> 57\u001b[1;33m             \u001b[1;32mif\u001b[0m \u001b[0mmarket_variance\u001b[0m \u001b[1;33m!=\u001b[0m \u001b[1;36m0\u001b[0m\u001b[1;33m:\u001b[0m\u001b[1;33m\u001b[0m\u001b[1;33m\u001b[0m\u001b[0m\n\u001b[0m\u001b[0;32m     58\u001b[0m                 \u001b[0mbetas\u001b[0m\u001b[1;33m[\u001b[0m\u001b[0mperiod\u001b[0m\u001b[1;33m]\u001b[0m \u001b[1;33m=\u001b[0m \u001b[0mcovariance\u001b[0m \u001b[1;33m/\u001b[0m \u001b[0mmarket_variance\u001b[0m\u001b[1;33m\u001b[0m\u001b[1;33m\u001b[0m\u001b[0m\n\u001b[0;32m     59\u001b[0m                 \u001b[0mvalid_periods\u001b[0m\u001b[1;33m.\u001b[0m\u001b[0mappend\u001b[0m\u001b[1;33m(\u001b[0m\u001b[0mperiod\u001b[0m\u001b[1;33m)\u001b[0m\u001b[1;33m\u001b[0m\u001b[1;33m\u001b[0m\u001b[0m\n\u001b[0;32m     60\u001b[0m \u001b[1;33m\u001b[0m\u001b[0m\n",
      "\u001b[1;32mc:\\Desktop\\python_projects\\project_env\\Lib\\site-packages\\pandas\\core\\generic.py\u001b[0m in \u001b[0;36m?\u001b[1;34m(self)\u001b[0m\n\u001b[0;32m   1575\u001b[0m     \u001b[1;33m@\u001b[0m\u001b[0mfinal\u001b[0m\u001b[1;33m\u001b[0m\u001b[1;33m\u001b[0m\u001b[0m\n\u001b[0;32m   1576\u001b[0m     \u001b[1;32mdef\u001b[0m \u001b[0m__nonzero__\u001b[0m\u001b[1;33m(\u001b[0m\u001b[0mself\u001b[0m\u001b[1;33m)\u001b[0m \u001b[1;33m->\u001b[0m \u001b[0mNoReturn\u001b[0m\u001b[1;33m:\u001b[0m\u001b[1;33m\u001b[0m\u001b[1;33m\u001b[0m\u001b[0m\n\u001b[1;32m-> 1577\u001b[1;33m         raise ValueError(\n\u001b[0m\u001b[0;32m   1578\u001b[0m             \u001b[1;33mf\"\u001b[0m\u001b[1;33mThe truth value of a \u001b[0m\u001b[1;33m{\u001b[0m\u001b[0mtype\u001b[0m\u001b[1;33m(\u001b[0m\u001b[0mself\u001b[0m\u001b[1;33m)\u001b[0m\u001b[1;33m.\u001b[0m\u001b[0m__name__\u001b[0m\u001b[1;33m}\u001b[0m\u001b[1;33m is ambiguous. \u001b[0m\u001b[1;33m\"\u001b[0m\u001b[1;33m\u001b[0m\u001b[1;33m\u001b[0m\u001b[0m\n\u001b[0;32m   1579\u001b[0m             \u001b[1;34m\"Use a.empty, a.bool(), a.item(), a.any() or a.all().\"\u001b[0m\u001b[1;33m\u001b[0m\u001b[1;33m\u001b[0m\u001b[0m\n\u001b[0;32m   1580\u001b[0m         \u001b[1;33m)\u001b[0m\u001b[1;33m\u001b[0m\u001b[1;33m\u001b[0m\u001b[0m\n",
      "\u001b[1;31mValueError\u001b[0m: The truth value of a Series is ambiguous. Use a.empty, a.bool(), a.item(), a.any() or a.all()."
     ]
    }
   ],
   "source": [
    "beta, stable_stock_returns, stable_market_returns, actual_market_return, expected_return, actual_return = calculate_capm()\n"
   ]
  },
  {
   "cell_type": "code",
   "execution_count": null,
   "metadata": {},
   "outputs": [
    {
     "name": "stdout",
     "output_type": "stream",
     "text": [
      "6343\n",
      "Date\n",
      "2000-01-03 00:00:00-05:00         NaN\n",
      "2000-01-04 00:00:00-05:00         NaN\n",
      "2000-01-05 00:00:00-05:00         NaN\n",
      "2000-01-06 00:00:00-05:00         NaN\n",
      "2000-01-07 00:00:00-05:00         NaN\n",
      "                               ...   \n",
      "2025-03-17 00:00:00-04:00    0.282797\n",
      "2025-03-18 00:00:00-04:00    0.281925\n",
      "2025-03-19 00:00:00-04:00    0.288349\n",
      "2025-03-20 00:00:00-04:00    0.285875\n",
      "2025-03-21 00:00:00-04:00    0.288262\n",
      "Name: d_volatility, Length: 6343, dtype: float64\n",
      "6323\n"
     ]
    },
    {
     "data": {
      "text/plain": [
       "Date\n",
       "2000-02-01 00:00:00-05:00    0.863021\n",
       "2000-02-02 00:00:00-05:00    0.810930\n",
       "2000-02-03 00:00:00-05:00    0.825911\n",
       "2000-02-04 00:00:00-05:00    0.771521\n",
       "2000-02-07 00:00:00-05:00    0.778120\n",
       "                               ...   \n",
       "2025-03-17 00:00:00-04:00    0.282797\n",
       "2025-03-18 00:00:00-04:00    0.281925\n",
       "2025-03-19 00:00:00-04:00    0.288349\n",
       "2025-03-20 00:00:00-04:00    0.285875\n",
       "2025-03-21 00:00:00-04:00    0.288262\n",
       "Name: d_volatility, Length: 6323, dtype: float64"
      ]
     },
     "execution_count": 53,
     "metadata": {},
     "output_type": "execute_result"
    }
   ],
   "source": [
    "# Get volatility\n",
    "volatility = calculate_volatility(df[\"Close\"])\n",
    "print(volatility.isna().count())\n",
    "print(volatility)\n",
    "v = volatility.dropna()\n",
    "print(v.isna().count())\n",
    "v"
   ]
  },
  {
   "cell_type": "code",
   "execution_count": null,
   "metadata": {},
   "outputs": [
    {
     "data": {
      "image/png": "[encoded data removed]",
      "text/plain": [
       "<Figure size 1200x600 with 1 Axes>"
      ]
     },
     "metadata": {},
     "output_type": "display_data"
    }
   ],
   "source": [
    "# plot volatility\n",
    "# Plot daily volatility\n",
    "plt.figure(figsize=(12, 6))\n",
    "plt.plot(volatility.index, volatility)\n",
    "plt.title(f'{ticker} Daily Volatility')\n",
    "plt.xlabel('Date')\n",
    "plt.ylabel('Volatility')\n",
    "plt.grid(True)\n",
    "plt.show()"
   ]
  },
  {
   "cell_type": "code",
   "execution_count": null,
   "metadata": {},
   "outputs": [
    {
     "ename": "OSError",
     "evalue": "'seaborn' is not a valid package style, path of style file, URL of style file, or library style name (library styles are listed in `style.available`)",
     "output_type": "error",
     "traceback": [
      "\u001b[1;31m---------------------------------------------------------------------------\u001b[0m",
      "\u001b[1;31mFileNotFoundError\u001b[0m                         Traceback (most recent call last)",
      "File \u001b[1;32mc:\\Desktop\\python_projects\\project_env\\Lib\\site-packages\\matplotlib\\style\\core.py:129\u001b[0m, in \u001b[0;36muse\u001b[1;34m(style)\u001b[0m\n\u001b[0;32m    128\u001b[0m \u001b[38;5;28;01mtry\u001b[39;00m:\n\u001b[1;32m--> 129\u001b[0m     style \u001b[38;5;241m=\u001b[39m \u001b[43m_rc_params_in_file\u001b[49m\u001b[43m(\u001b[49m\u001b[43mstyle\u001b[49m\u001b[43m)\u001b[49m\n\u001b[0;32m    130\u001b[0m \u001b[38;5;28;01mexcept\u001b[39;00m \u001b[38;5;167;01mOSError\u001b[39;00m \u001b[38;5;28;01mas\u001b[39;00m err:\n",
      "File \u001b[1;32mc:\\Desktop\\python_projects\\project_env\\Lib\\site-packages\\matplotlib\\__init__.py:903\u001b[0m, in \u001b[0;36m_rc_params_in_file\u001b[1;34m(fname, transform, fail_on_error)\u001b[0m\n\u001b[0;32m    902\u001b[0m rc_temp \u001b[38;5;241m=\u001b[39m {}\n\u001b[1;32m--> 903\u001b[0m \u001b[43m\u001b[49m\u001b[38;5;28;43;01mwith\u001b[39;49;00m\u001b[43m \u001b[49m\u001b[43m_open_file_or_url\u001b[49m\u001b[43m(\u001b[49m\u001b[43mfname\u001b[49m\u001b[43m)\u001b[49m\u001b[43m \u001b[49m\u001b[38;5;28;43;01mas\u001b[39;49;00m\u001b[43m \u001b[49m\u001b[43mfd\u001b[49m\u001b[43m:\u001b[49m\n\u001b[0;32m    904\u001b[0m \u001b[43m    \u001b[49m\u001b[38;5;28;43;01mtry\u001b[39;49;00m\u001b[43m:\u001b[49m\n",
      "File \u001b[1;32m~\\AppData\\Local\\Programs\\Python\\Python312\\Lib\\contextlib.py:137\u001b[0m, in \u001b[0;36m_GeneratorContextManager.__enter__\u001b[1;34m(self)\u001b[0m\n\u001b[0;32m    136\u001b[0m \u001b[38;5;28;01mtry\u001b[39;00m:\n\u001b[1;32m--> 137\u001b[0m     \u001b[38;5;28;01mreturn\u001b[39;00m \u001b[38;5;28;43mnext\u001b[39;49m\u001b[43m(\u001b[49m\u001b[38;5;28;43mself\u001b[39;49m\u001b[38;5;241;43m.\u001b[39;49m\u001b[43mgen\u001b[49m\u001b[43m)\u001b[49m\n\u001b[0;32m    138\u001b[0m \u001b[38;5;28;01mexcept\u001b[39;00m \u001b[38;5;167;01mStopIteration\u001b[39;00m:\n",
      "File \u001b[1;32mc:\\Desktop\\python_projects\\project_env\\Lib\\site-packages\\matplotlib\\__init__.py:880\u001b[0m, in \u001b[0;36m_open_file_or_url\u001b[1;34m(fname)\u001b[0m\n\u001b[0;32m    879\u001b[0m fname \u001b[38;5;241m=\u001b[39m os\u001b[38;5;241m.\u001b[39mpath\u001b[38;5;241m.\u001b[39mexpanduser(fname)\n\u001b[1;32m--> 880\u001b[0m \u001b[38;5;28;01mwith\u001b[39;00m \u001b[38;5;28;43mopen\u001b[39;49m\u001b[43m(\u001b[49m\u001b[43mfname\u001b[49m\u001b[43m,\u001b[49m\u001b[43m \u001b[49m\u001b[43mencoding\u001b[49m\u001b[38;5;241;43m=\u001b[39;49m\u001b[38;5;124;43m'\u001b[39;49m\u001b[38;5;124;43mutf-8\u001b[39;49m\u001b[38;5;124;43m'\u001b[39;49m\u001b[43m)\u001b[49m \u001b[38;5;28;01mas\u001b[39;00m f:\n\u001b[0;32m    881\u001b[0m     \u001b[38;5;28;01myield\u001b[39;00m f\n",
      "\u001b[1;31mFileNotFoundError\u001b[0m: [Errno 2] No such file or directory: 'seaborn'",
      "\nThe above exception was the direct cause of the following exception:\n",
      "\u001b[1;31mOSError\u001b[0m                                   Traceback (most recent call last)",
      "Cell \u001b[1;32mIn[55], line 9\u001b[0m\n\u001b[0;32m      6\u001b[0m \u001b[38;5;28;01mfrom\u001b[39;00m \u001b[38;5;21;01mdatetime\u001b[39;00m \u001b[38;5;28;01mimport\u001b[39;00m datetime, timedelta\n\u001b[0;32m      8\u001b[0m \u001b[38;5;66;03m# Set up the plot\u001b[39;00m\n\u001b[1;32m----> 9\u001b[0m \u001b[43mplt\u001b[49m\u001b[38;5;241;43m.\u001b[39;49m\u001b[43mstyle\u001b[49m\u001b[38;5;241;43m.\u001b[39;49m\u001b[43muse\u001b[49m\u001b[43m(\u001b[49m\u001b[38;5;124;43m'\u001b[39;49m\u001b[38;5;124;43mseaborn\u001b[39;49m\u001b[38;5;124;43m'\u001b[39;49m\u001b[43m)\u001b[49m\n\u001b[0;32m     10\u001b[0m fig, ax \u001b[38;5;241m=\u001b[39m plt\u001b[38;5;241m.\u001b[39msubplots(figsize\u001b[38;5;241m=\u001b[39m(\u001b[38;5;241m12\u001b[39m, \u001b[38;5;241m6\u001b[39m))\n\u001b[0;32m     11\u001b[0m line, \u001b[38;5;241m=\u001b[39m ax\u001b[38;5;241m.\u001b[39mplot([], [], lw\u001b[38;5;241m=\u001b[39m\u001b[38;5;241m2\u001b[39m)\n",
      "File \u001b[1;32mc:\\Desktop\\python_projects\\project_env\\Lib\\site-packages\\matplotlib\\style\\core.py:131\u001b[0m, in \u001b[0;36muse\u001b[1;34m(style)\u001b[0m\n\u001b[0;32m    129\u001b[0m         style \u001b[38;5;241m=\u001b[39m _rc_params_in_file(style)\n\u001b[0;32m    130\u001b[0m     \u001b[38;5;28;01mexcept\u001b[39;00m \u001b[38;5;167;01mOSError\u001b[39;00m \u001b[38;5;28;01mas\u001b[39;00m err:\n\u001b[1;32m--> 131\u001b[0m         \u001b[38;5;28;01mraise\u001b[39;00m \u001b[38;5;167;01mOSError\u001b[39;00m(\n\u001b[0;32m    132\u001b[0m             \u001b[38;5;124mf\u001b[39m\u001b[38;5;124m\"\u001b[39m\u001b[38;5;132;01m{\u001b[39;00mstyle\u001b[38;5;132;01m!r}\u001b[39;00m\u001b[38;5;124m is not a valid package style, path of style \u001b[39m\u001b[38;5;124m\"\u001b[39m\n\u001b[0;32m    133\u001b[0m             \u001b[38;5;124mf\u001b[39m\u001b[38;5;124m\"\u001b[39m\u001b[38;5;124mfile, URL of style file, or library style name (library \u001b[39m\u001b[38;5;124m\"\u001b[39m\n\u001b[0;32m    134\u001b[0m             \u001b[38;5;124mf\u001b[39m\u001b[38;5;124m\"\u001b[39m\u001b[38;5;124mstyles are listed in `style.available`)\u001b[39m\u001b[38;5;124m\"\u001b[39m) \u001b[38;5;28;01mfrom\u001b[39;00m \u001b[38;5;21;01merr\u001b[39;00m\n\u001b[0;32m    135\u001b[0m filtered \u001b[38;5;241m=\u001b[39m {}\n\u001b[0;32m    136\u001b[0m \u001b[38;5;28;01mfor\u001b[39;00m k \u001b[38;5;129;01min\u001b[39;00m style:  \u001b[38;5;66;03m# don't trigger RcParams.__getitem__('backend')\u001b[39;00m\n",
      "\u001b[1;31mOSError\u001b[0m: 'seaborn' is not a valid package style, path of style file, URL of style file, or library style name (library styles are listed in `style.available`)"
     ]
    }
   ],
   "source": [
    "import yfinance as yf\n",
    "import pandas as pd\n",
    "import numpy as np\n",
    "import matplotlib.pyplot as plt\n",
    "from matplotlib.animation import FuncAnimation\n",
    "from datetime import datetime, timedelta\n",
    "\n",
    "# Set up the plot\n",
    "plt.style.use('seaborn')\n",
    "fig, ax = plt.subplots(figsize=(12, 6))\n",
    "line, = ax.plot([], [], lw=2)\n",
    "ax.set_xlabel('Time')\n",
    "ax.set_ylabel('Volatility')\n",
    "ax.set_title('Real-time Stock Volatility')\n",
    "ax.grid(True)\n",
    "\n",
    "# Initialize data\n",
    "ticker = 'AAPL'  # Change this to your desired stock ticker\n",
    "data = pd.DataFrame(columns=['Datetime', 'Close'])\n",
    "\n",
    "def calculate_volatility(returns, window=20):\n",
    "    return returns.rolling(window=window).std() * np.sqrt(252)\n",
    "\n",
    "def update(frame):\n",
    "    global data\n",
    "    \n",
    "    # Fetch the latest data\n",
    "    end_time = datetime.now()\n",
    "    start_time = end_time - timedelta(days=1)  # Get data for the past day\n",
    "    new_data = yf.download(ticker, start=start_time, end=end_time, interval='1m')\n",
    "    \n",
    "    # Append new data and remove duplicates\n",
    "    new_data = new_data.reset_index()\n",
    "    data = pd.concat([data, new_data[['Datetime', 'Close']]])\n",
    "    data = data.drop_duplicates(subset='Datetime').set_index('Datetime')\n",
    "    \n",
    "    # Calculate returns and volatility\n",
    "    data['Returns'] = data['Close'].pct_change()\n",
    "    data['Volatility'] = calculate_volatility(data['Returns'])\n",
    "    \n",
    "    # Update the plot\n",
    "    ax.clear()\n",
    "    ax.plot(data.index, data['Volatility'], lw=2)\n",
    "    ax.set_xlabel('Time')\n",
    "    ax.set_ylabel('Volatility')\n",
    "    ax.set_title(f'Real-time {ticker} Stock Volatility')\n",
    "    ax.grid(True)\n",
    "    \n",
    "    # Format x-axis to show time\n",
    "    plt.gcf().autofmt_xdate()\n",
    "    \n",
    "    return line,\n",
    "\n",
    "# Create animation that updates every 60000 milliseconds (1 minute)\n",
    "ani = FuncAnimation(fig, update, interval=60000, blit=True)\n",
    "\n",
    "plt.tight_layout()\n",
    "plt.show()\n"
   ]
  },
  {
   "cell_type": "code",
   "execution_count": null,
   "metadata": {},
   "outputs": [
    {
     "ename": "NameError",
     "evalue": "name 'frame' is not defined",
     "output_type": "error",
     "traceback": [
      "\u001b[1;31m---------------------------------------------------------------------------\u001b[0m",
      "\u001b[1;31mNameError\u001b[0m                                 Traceback (most recent call last)",
      "Cell \u001b[1;32mIn[33], line 1\u001b[0m\n\u001b[1;32m----> 1\u001b[0m update(\u001b[43mframe\u001b[49m)\n",
      "\u001b[1;31mNameError\u001b[0m: name 'frame' is not defined"
     ]
    }
   ],
   "source": [
    "update(frame)"
   ]
  },
  {
   "cell_type": "code",
   "execution_count": null,
   "metadata": {},
   "outputs": [
    {
     "ename": "KeyError",
     "evalue": "'Lower Band'",
     "output_type": "error",
     "traceback": [
      "\u001b[1;31m---------------------------------------------------------------------------\u001b[0m",
      "\u001b[1;31mKeyError\u001b[0m                                  Traceback (most recent call last)",
      "File \u001b[1;32mc:\\Desktop\\python_projects\\project_env\\Lib\\site-packages\\pandas\\core\\indexes\\base.py:3805\u001b[0m, in \u001b[0;36mIndex.get_loc\u001b[1;34m(self, key)\u001b[0m\n\u001b[0;32m   3804\u001b[0m \u001b[38;5;28;01mtry\u001b[39;00m:\n\u001b[1;32m-> 3805\u001b[0m     \u001b[38;5;28;01mreturn\u001b[39;00m \u001b[38;5;28;43mself\u001b[39;49m\u001b[38;5;241;43m.\u001b[39;49m\u001b[43m_engine\u001b[49m\u001b[38;5;241;43m.\u001b[39;49m\u001b[43mget_loc\u001b[49m\u001b[43m(\u001b[49m\u001b[43mcasted_key\u001b[49m\u001b[43m)\u001b[49m\n\u001b[0;32m   3806\u001b[0m \u001b[38;5;28;01mexcept\u001b[39;00m \u001b[38;5;167;01mKeyError\u001b[39;00m \u001b[38;5;28;01mas\u001b[39;00m err:\n",
      "File \u001b[1;32mindex.pyx:167\u001b[0m, in \u001b[0;36mpandas._libs.index.IndexEngine.get_loc\u001b[1;34m()\u001b[0m\n",
      "File \u001b[1;32mindex.pyx:196\u001b[0m, in \u001b[0;36mpandas._libs.index.IndexEngine.get_loc\u001b[1;34m()\u001b[0m\n",
      "File \u001b[1;32mpandas\\\\_libs\\\\hashtable_class_helper.pxi:7081\u001b[0m, in \u001b[0;36mpandas._libs.hashtable.PyObjectHashTable.get_item\u001b[1;34m()\u001b[0m\n",
      "File \u001b[1;32mpandas\\\\_libs\\\\hashtable_class_helper.pxi:7089\u001b[0m, in \u001b[0;36mpandas._libs.hashtable.PyObjectHashTable.get_item\u001b[1;34m()\u001b[0m\n",
      "\u001b[1;31mKeyError\u001b[0m: 'Lower Band'",
      "\nThe above exception was the direct cause of the following exception:\n",
      "\u001b[1;31mKeyError\u001b[0m                                  Traceback (most recent call last)",
      "Cell \u001b[1;32mIn[35], line 7\u001b[0m\n\u001b[0;32m      4\u001b[0m data[\u001b[38;5;124m'\u001b[39m\u001b[38;5;124mRSI\u001b[39m\u001b[38;5;124m'\u001b[39m] \u001b[38;5;241m=\u001b[39m RSI(data[\u001b[38;5;124m'\u001b[39m\u001b[38;5;124mClose\u001b[39m\u001b[38;5;124m'\u001b[39m], timeperiod\u001b[38;5;241m=\u001b[39m\u001b[38;5;241m14\u001b[39m)\n\u001b[0;32m      6\u001b[0m \u001b[38;5;66;03m# Generate signals\u001b[39;00m\n\u001b[1;32m----> 7\u001b[0m data[\u001b[38;5;124m'\u001b[39m\u001b[38;5;124mBuy Signal\u001b[39m\u001b[38;5;124m'\u001b[39m] \u001b[38;5;241m=\u001b[39m (data[\u001b[38;5;124m'\u001b[39m\u001b[38;5;124mClose\u001b[39m\u001b[38;5;124m'\u001b[39m] \u001b[38;5;241m<\u001b[39m\u001b[38;5;241m=\u001b[39m \u001b[43mdata\u001b[49m\u001b[43m[\u001b[49m\u001b[38;5;124;43m'\u001b[39;49m\u001b[38;5;124;43mLower Band\u001b[39;49m\u001b[38;5;124;43m'\u001b[39;49m\u001b[43m]\u001b[49m) \u001b[38;5;241m&\u001b[39m (data[\u001b[38;5;124m'\u001b[39m\u001b[38;5;124mRSI\u001b[39m\u001b[38;5;124m'\u001b[39m] \u001b[38;5;241m<\u001b[39m \u001b[38;5;241m30\u001b[39m)\n\u001b[0;32m      8\u001b[0m data[\u001b[38;5;124m'\u001b[39m\u001b[38;5;124mSell Signal\u001b[39m\u001b[38;5;124m'\u001b[39m] \u001b[38;5;241m=\u001b[39m (data[\u001b[38;5;124m'\u001b[39m\u001b[38;5;124mClose\u001b[39m\u001b[38;5;124m'\u001b[39m] \u001b[38;5;241m>\u001b[39m\u001b[38;5;241m=\u001b[39m data[\u001b[38;5;124m'\u001b[39m\u001b[38;5;124mUpper Band\u001b[39m\u001b[38;5;124m'\u001b[39m]) \u001b[38;5;241m&\u001b[39m (data[\u001b[38;5;124m'\u001b[39m\u001b[38;5;124mRSI\u001b[39m\u001b[38;5;124m'\u001b[39m] \u001b[38;5;241m>\u001b[39m \u001b[38;5;241m70\u001b[39m)\n\u001b[0;32m     10\u001b[0m \u001b[38;5;66;03m# Plot signals\u001b[39;00m\n",
      "File \u001b[1;32mc:\\Desktop\\python_projects\\project_env\\Lib\\site-packages\\pandas\\core\\frame.py:4102\u001b[0m, in \u001b[0;36mDataFrame.__getitem__\u001b[1;34m(self, key)\u001b[0m\n\u001b[0;32m   4100\u001b[0m \u001b[38;5;28;01mif\u001b[39;00m \u001b[38;5;28mself\u001b[39m\u001b[38;5;241m.\u001b[39mcolumns\u001b[38;5;241m.\u001b[39mnlevels \u001b[38;5;241m>\u001b[39m \u001b[38;5;241m1\u001b[39m:\n\u001b[0;32m   4101\u001b[0m     \u001b[38;5;28;01mreturn\u001b[39;00m \u001b[38;5;28mself\u001b[39m\u001b[38;5;241m.\u001b[39m_getitem_multilevel(key)\n\u001b[1;32m-> 4102\u001b[0m indexer \u001b[38;5;241m=\u001b[39m \u001b[38;5;28;43mself\u001b[39;49m\u001b[38;5;241;43m.\u001b[39;49m\u001b[43mcolumns\u001b[49m\u001b[38;5;241;43m.\u001b[39;49m\u001b[43mget_loc\u001b[49m\u001b[43m(\u001b[49m\u001b[43mkey\u001b[49m\u001b[43m)\u001b[49m\n\u001b[0;32m   4103\u001b[0m \u001b[38;5;28;01mif\u001b[39;00m is_integer(indexer):\n\u001b[0;32m   4104\u001b[0m     indexer \u001b[38;5;241m=\u001b[39m [indexer]\n",
      "File \u001b[1;32mc:\\Desktop\\python_projects\\project_env\\Lib\\site-packages\\pandas\\core\\indexes\\base.py:3812\u001b[0m, in \u001b[0;36mIndex.get_loc\u001b[1;34m(self, key)\u001b[0m\n\u001b[0;32m   3807\u001b[0m     \u001b[38;5;28;01mif\u001b[39;00m \u001b[38;5;28misinstance\u001b[39m(casted_key, \u001b[38;5;28mslice\u001b[39m) \u001b[38;5;129;01mor\u001b[39;00m (\n\u001b[0;32m   3808\u001b[0m         \u001b[38;5;28misinstance\u001b[39m(casted_key, abc\u001b[38;5;241m.\u001b[39mIterable)\n\u001b[0;32m   3809\u001b[0m         \u001b[38;5;129;01mand\u001b[39;00m \u001b[38;5;28many\u001b[39m(\u001b[38;5;28misinstance\u001b[39m(x, \u001b[38;5;28mslice\u001b[39m) \u001b[38;5;28;01mfor\u001b[39;00m x \u001b[38;5;129;01min\u001b[39;00m casted_key)\n\u001b[0;32m   3810\u001b[0m     ):\n\u001b[0;32m   3811\u001b[0m         \u001b[38;5;28;01mraise\u001b[39;00m InvalidIndexError(key)\n\u001b[1;32m-> 3812\u001b[0m     \u001b[38;5;28;01mraise\u001b[39;00m \u001b[38;5;167;01mKeyError\u001b[39;00m(key) \u001b[38;5;28;01mfrom\u001b[39;00m \u001b[38;5;21;01merr\u001b[39;00m\n\u001b[0;32m   3813\u001b[0m \u001b[38;5;28;01mexcept\u001b[39;00m \u001b[38;5;167;01mTypeError\u001b[39;00m:\n\u001b[0;32m   3814\u001b[0m     \u001b[38;5;66;03m# If we have a listlike key, _check_indexing_error will raise\u001b[39;00m\n\u001b[0;32m   3815\u001b[0m     \u001b[38;5;66;03m#  InvalidIndexError. Otherwise we fall through and re-raise\u001b[39;00m\n\u001b[0;32m   3816\u001b[0m     \u001b[38;5;66;03m#  the TypeError.\u001b[39;00m\n\u001b[0;32m   3817\u001b[0m     \u001b[38;5;28mself\u001b[39m\u001b[38;5;241m.\u001b[39m_check_indexing_error(key)\n",
      "\u001b[1;31mKeyError\u001b[0m: 'Lower Band'"
     ]
    }
   ],
   "source": [
    "from talib import RSI\n",
    "\n",
    "# Calculate RSI\n",
    "data['RSI'] = RSI(data['Close'], timeperiod=14)\n",
    "\n",
    "# Generate signals\n",
    "data['Buy Signal'] = (data['Close'] <= data['Lower Band']) & (data['RSI'] < 30)\n",
    "data['Sell Signal'] = (data['Close'] >= data['Upper Band']) & (data['RSI'] > 70)\n",
    "\n",
    "# Plot signals\n",
    "ax.plot(data[data['Buy Signal']].index, data['Close'][data['Buy Signal']], '^', markersize=10, color='g', label='Buy')\n",
    "ax.plot(data[data['Sell Signal']].index, data['Close'][data['Sell Signal']], 'v', markersize=10, color='r', label='Sell')\n"
   ]
  },
  {
   "cell_type": "code",
   "execution_count": null,
   "metadata": {},
   "outputs": [
    {
     "name": "stderr",
     "output_type": "stream",
     "text": [
      "[*********************100%***********************]  1 of 1 completed\n",
      "Traceback (most recent call last):\n",
      "  File \"C:\\Users\\smahd\\AppData\\Local\\Temp\\ipykernel_17816\\2018620424.py\", line 61, in update\n",
      "    new_data.dropna(subset=['Datetime'], inplace=True)\n",
      "  File \"c:\\Desktop\\python_projects\\project_env\\Lib\\site-packages\\pandas\\core\\frame.py\", line 6670, in dropna\n",
      "    raise KeyError(np.array(subset)[check].tolist())\n",
      "KeyError: ['Datetime']\n",
      "[*********************100%***********************]  1 of 1 completed"
     ]
    },
    {
     "name": "stdout",
     "output_type": "stream",
     "text": [
      "Raw data from yfinance:\n",
      "Price                           Close        High         Low        Open  \\\n",
      "Ticker                           AAPL        AAPL        AAPL        AAPL   \n",
      "Datetime                                                                    \n",
      "2025-03-21 13:30:00+00:00  212.470505  212.839996  211.470001  211.514999   \n",
      "2025-03-21 13:31:00+00:00  212.419998  212.892502  212.130005  212.500000   \n",
      "2025-03-21 13:32:00+00:00  211.815002  212.389999  211.710007  212.389999   \n",
      "2025-03-21 13:33:00+00:00  212.175003  212.250000  211.490005  211.820007   \n",
      "2025-03-21 13:34:00+00:00  212.673004  212.800003  212.119995  212.175003   \n",
      "\n",
      "Price                        Volume  \n",
      "Ticker                         AAPL  \n",
      "Datetime                             \n",
      "2025-03-21 13:30:00+00:00  12975516  \n",
      "2025-03-21 13:31:00+00:00    284180  \n",
      "2025-03-21 13:32:00+00:00    347666  \n",
      "2025-03-21 13:33:00+00:00    708531  \n",
      "2025-03-21 13:34:00+00:00    171571  \n",
      "Columns: MultiIndex([( 'Close', 'AAPL'),\n",
      "            (  'High', 'AAPL'),\n",
      "            (   'Low', 'AAPL'),\n",
      "            (  'Open', 'AAPL'),\n",
      "            ('Volume', 'AAPL')],\n",
      "           names=['Price', 'Ticker'])\n",
      "After reset_index:\n",
      "Price                   Datetime       Close        High         Low  \\\n",
      "Ticker                                  AAPL        AAPL        AAPL   \n",
      "0      2025-03-21 13:30:00+00:00  212.470505  212.839996  211.470001   \n",
      "1      2025-03-21 13:31:00+00:00  212.419998  212.892502  212.130005   \n",
      "2      2025-03-21 13:32:00+00:00  211.815002  212.389999  211.710007   \n",
      "3      2025-03-21 13:33:00+00:00  212.175003  212.250000  211.490005   \n",
      "4      2025-03-21 13:34:00+00:00  212.673004  212.800003  212.119995   \n",
      "\n",
      "Price         Open    Volume  \n",
      "Ticker        AAPL      AAPL  \n",
      "0       211.514999  12975516  \n",
      "1       212.500000    284180  \n",
      "2       212.389999    347666  \n",
      "3       211.820007    708531  \n",
      "4       212.175003    171571  \n",
      "Columns: MultiIndex([('Datetime',     ''),\n",
      "            (   'Close', 'AAPL'),\n",
      "            (    'High', 'AAPL'),\n",
      "            (     'Low', 'AAPL'),\n",
      "            (    'Open', 'AAPL'),\n",
      "            (  'Volume', 'AAPL')],\n",
      "           names=['Price', 'Ticker'])\n",
      "Error in update: ['Datetime']\n",
      "Raw data from yfinance:\n",
      "Price                           Close        High         Low        Open  \\\n",
      "Ticker                           AAPL        AAPL        AAPL        AAPL   \n",
      "Datetime                                                                    \n",
      "2025-03-21 13:30:00+00:00  212.470505  212.839996  211.470001  211.514999   \n",
      "2025-03-21 13:31:00+00:00  212.419998  212.892502  212.130005  212.500000   \n",
      "2025-03-21 13:32:00+00:00  211.815002  212.389999  211.710007  212.389999   \n",
      "2025-03-21 13:33:00+00:00  212.175003  212.250000  211.490005  211.820007   \n",
      "2025-03-21 13:34:00+00:00  212.673004  212.800003  212.119995  212.175003   \n",
      "\n",
      "Price                        Volume  \n",
      "Ticker                         AAPL  \n",
      "Datetime                             \n",
      "2025-03-21 13:30:00+00:00  12975516  \n",
      "2025-03-21 13:31:00+00:00    284180  \n",
      "2025-03-21 13:32:00+00:00    347666  \n",
      "2025-03-21 13:33:00+00:00    708531  \n",
      "2025-03-21 13:34:00+00:00    171571  \n",
      "Columns: MultiIndex([( 'Close', 'AAPL'),\n",
      "            (  'High', 'AAPL'),\n",
      "            (   'Low', 'AAPL'),\n",
      "            (  'Open', 'AAPL'),\n",
      "            ('Volume', 'AAPL')],\n",
      "           names=['Price', 'Ticker'])\n",
      "After reset_index:\n",
      "Price                   Datetime       Close        High         Low  \\\n",
      "Ticker                                  AAPL        AAPL        AAPL   \n",
      "0      2025-03-21 13:30:00+00:00  212.470505  212.839996  211.470001   \n",
      "1      2025-03-21 13:31:00+00:00  212.419998  212.892502  212.130005   \n",
      "2      2025-03-21 13:32:00+00:00  211.815002  212.389999  211.710007   \n",
      "3      2025-03-21 13:33:00+00:00  212.175003  212.250000  211.490005   \n",
      "4      2025-03-21 13:34:00+00:00  212.673004  212.800003  212.119995   \n",
      "\n",
      "Price         Open    Volume  \n",
      "Ticker        AAPL      AAPL  \n",
      "0       211.514999  12975516  \n",
      "1       212.500000    284180  \n",
      "2       212.389999    347666  \n",
      "3       211.820007    708531  \n",
      "4       212.175003    171571  \n",
      "Columns: MultiIndex([('Datetime',     ''),\n",
      "            (   'Close', 'AAPL'),\n",
      "            (    'High', 'AAPL'),\n",
      "            (     'Low', 'AAPL'),\n",
      "            (    'Open', 'AAPL'),\n",
      "            (  'Volume', 'AAPL')],\n",
      "           names=['Price', 'Ticker'])\n",
      "Error in update: ['Datetime']\n"
     ]
    },
    {
     "name": "stderr",
     "output_type": "stream",
     "text": [
      "\n",
      "Traceback (most recent call last):\n",
      "  File \"C:\\Users\\smahd\\AppData\\Local\\Temp\\ipykernel_17816\\2018620424.py\", line 61, in update\n",
      "    new_data.dropna(subset=['Datetime'], inplace=True)\n",
      "  File \"c:\\Desktop\\python_projects\\project_env\\Lib\\site-packages\\pandas\\core\\frame.py\", line 6670, in dropna\n",
      "    raise KeyError(np.array(subset)[check].tolist())\n",
      "KeyError: ['Datetime']\n"
     ]
    },
    {
     "data": {
      "image/png": "[encoded data removed]",
      "text/plain": [
       "<Figure size 1500x800 with 1 Axes>"
      ]
     },
     "metadata": {},
     "output_type": "display_data"
    }
   ],
   "source": [
    "import yfinance as yf\n",
    "import pandas as pd\n",
    "import numpy as np\n",
    "import matplotlib.pyplot as plt\n",
    "from matplotlib.animation import FuncAnimation\n",
    "from matplotlib.dates import DateFormatter\n",
    "from datetime import datetime, timedelta\n",
    "import talib\n",
    "\n",
    "# Set up the plot\n",
    "plt.style.use('dark_background')\n",
    "fig, ax = plt.subplots(figsize=(15, 8))\n",
    "line, = ax.plot([], [], lw=2)\n",
    "\n",
    "# Initialize data\n",
    "ticker = 'AAPL'\n",
    "data = pd.DataFrame(columns=['Datetime', 'Close'])\n",
    "\n",
    "def calculate_bollinger_bands(data, window=20, num_std=2):\n",
    "    data['MA'] = data['Close'].rolling(window=window).mean()\n",
    "    data['Std'] = data['Close'].rolling(window=window).std()\n",
    "    data['Upper Band'] = data['MA'] + (data['Std'] * num_std)\n",
    "    data['Lower Band'] = data['MA'] - (data['Std'] * num_std)\n",
    "    return data\n",
    "\n",
    "def calculate_volatility(returns, window=20):\n",
    "    return returns.rolling(window=window).std() * np.sqrt(252)\n",
    "\n",
    "def update(frame):\n",
    "    global data\n",
    "    \n",
    "    try:\n",
    "        # Fetch the latest data\n",
    "        end_time = datetime.now()\n",
    "        start_time = end_time - timedelta(days=1)\n",
    "        new_data = yf.download(ticker, start=start_time, end=end_time, interval='1m')\n",
    "        \n",
    "        print(\"Raw data from yfinance:\")\n",
    "        print(new_data.head())\n",
    "        print(\"Columns:\", new_data.columns)\n",
    "        \n",
    "        if new_data.empty:\n",
    "            print(\"No data retrieved from yfinance\")\n",
    "            return line,\n",
    "        \n",
    "        # Reset index and ensure consistent column naming\n",
    "        new_data.reset_index(inplace=True)\n",
    "        \n",
    "        print(\"After reset_index:\")\n",
    "        print(new_data.head())\n",
    "        print(\"Columns:\", new_data.columns)\n",
    "        \n",
    "        # Rename 'Date' or 'Datetime' column if necessary\n",
    "        if 'Date' in new_data.columns:\n",
    "            new_data.rename(columns={'Date': 'Datetime'}, inplace=True)\n",
    "        elif 'Datetime' not in new_data.columns:\n",
    "            raise KeyError(f\"Expected 'Datetime' or 'Date' column. Available columns: {new_data.columns}\")\n",
    "        \n",
    "        # Ensure 'Datetime' column is properly formatted\n",
    "        new_data['Datetime'] = pd.to_datetime(new_data['Datetime'], errors='coerce')\n",
    "        new_data.dropna(subset=['Datetime'], inplace=True)\n",
    "        \n",
    "        print(\"After datetime conversion and dropping NaT:\")\n",
    "        print(new_data.head())\n",
    "        \n",
    "        if not new_data.empty:\n",
    "            data = pd.concat([data, new_data[['Datetime', 'Close']]])\n",
    "            data.drop_duplicates(subset='Datetime', inplace=True)\n",
    "            data.set_index('Datetime', inplace=True)\n",
    "            \n",
    "            print(\"Final data structure:\")\n",
    "            print(data.head())\n",
    "            \n",
    "            # Calculate returns and volatility\n",
    "            data['Returns'] = data['Close'].pct_change()\n",
    "            data['Volatility'] = calculate_volatility(data['Returns'])\n",
    "            \n",
    "            # Calculate Bollinger Bands\n",
    "            data = calculate_bollinger_bands(data)\n",
    "            \n",
    "            # Calculate RSI\n",
    "            data['RSI'] = talib.RSI(data['Close'], timeperiod=14)\n",
    "            \n",
    "            # Generate signals\n",
    "            data['Buy Signal'] = (data['Close'] <= data['Lower Band']) & (data['RSI'] < 30)\n",
    "            data['Sell Signal'] = (data['Close'] >= data['Upper Band']) & (data['RSI'] > 70)\n",
    "            \n",
    "            # Update plot\n",
    "            ax.clear()\n",
    "            ax.plot(data.index, data['Close'], label='Price', color='white')\n",
    "            ax.plot(data.index, data['Upper Band'], label='Upper BB', color='red', linestyle='--')\n",
    "            ax.plot(data.index, data['Lower Band'], label='Lower BB', color='green', linestyle='--')\n",
    "            ax.fill_between(data.index, data['Upper Band'], data['Lower Band'], alpha=0.1, color='gray')\n",
    "            \n",
    "            # Plot buy/sell signals\n",
    "            ax.plot(data[data['Buy Signal']].index, \n",
    "                    data[data['Buy Signal']]['Close'], '^', markersize=10, color='lime', label='Buy')\n",
    "            ax.plot(data[data['Sell Signal']].index, \n",
    "                    data[data['Sell Signal']]['Close'], 'v', markersize=10, color='red', label='Sell')\n",
    "            \n",
    "            ax.set_xlabel('Time')\n",
    "            ax.set_ylabel('Price')\n",
    "            ax.set_title(f'Real-time {ticker} Stock Price and Volatility')\n",
    "            ax.grid(True, alpha=0.3)\n",
    "            ax.legend()\n",
    "            ax.xaxis.set_major_formatter(DateFormatter('%H:%M'))\n",
    "            plt.gcf().autofmt_xdate()\n",
    "        \n",
    "    except Exception as e:\n",
    "        print(f\"Error in update: {str(e)}\")\n",
    "        import traceback\n",
    "        traceback.print_exc()\n",
    "    \n",
    "    return line,\n",
    "\n",
    "# Create animation with specified save_count\n",
    "ani = FuncAnimation(fig, update, interval=60000, blit=True, save_count=100)\n",
    "plt.tight_layout()\n",
    "plt.show()\n"
   ]
  },
  {
   "cell_type": "markdown",
   "metadata": {},
   "source": [
    "### Layout for showing candle stick and indicators"
   ]
  },
  {
   "cell_type": "code",
   "execution_count": null,
   "metadata": {},
   "outputs": [
    {
     "name": "stdout",
     "output_type": "stream",
     "text": [
      "Fetching data for AAPL (1d, 1m)...\n"
     ]
    },
    {
     "data": {
      "application/vnd.plotly.v1+json": {
       "config": {
        "plotlyServerURL": "https://plot.ly"
       },
       "data": [
        {
         "close": {
          "bdata": "AAAAAMV1a0AAAACgR2lrQAAAAMDMaGtAAAAAAABwa0AAAACA61lrQAAAAEAzW2tAAAAAIK5ra0AAAACAwoVrQAAAAMAekWtAAAAAwB6Na0AAAACAFIZrQAAAAMD1gGtAAAAAwHt2a0AAAACA63lrQAAAAGBmbmtAAAAAQCxya0AAAABACndrQAAAACCue2tAAAAAQAp/a0AAAAAgroNrQAAAAGC4hmtAAAAAACmEa0AAAABAM4NrQAAAAIDCiWtAAAAAgBSGa0AAAABAxoxrQAAAAEAzk2tAAAAAANePa0AAAAAgXIdrQAAAACC5hmtAAAAAwH+Ea0AAAADAzIRrQAAAAOCjgGtAAAAAQDODa0AAAAAghX9rQAAAAKBwhWtAAAAAgFOAa0AAAABACn9rQAAAAGBmdmtAAAAAYGZua0AAAAAAw3BrQAAAAIA9emtAAAAAABd+a0AAAACgcH1rQAAAAGCPcmtAAAAAAClsa0AAAAAAAHRrQAAAAMDMdGtAAAAAQAFza0AAAABgZnJrQAAAAKBwbWtAAAAAYLhua0AAAACAwnFrQAAAAMDMdGtAAAAAYPV5a0AAAACAFH5rQAAAACCuf2tAAAAAwEt7a0AAAADgUYBrQAAAAOCjeGtAAAAAgMJ1a0AAAACgR3lrQAAAAEAKd2tAAAAAwPV0a0AAAAAAAHhrQAAAAIDCdWtAAAAAwB51a0AAAACgiXZrQAAAAMDMbGtAAAAA4FFsa0AAAADAzGxrQAAAAGBJbWtAAAAAwPVwa0AAAAAA13NrQAAAACCud2tAAAAAoPh/a0AAAADgo4BrQAAAAEAze2tAAAAAgD16a0AAAAAAAIBrQAAAAIA9gmtAAAAAgMKBa0AAAACg2IVrQAAAAIA9gmtAAAAAoEeBa0AAAAAA13trQAAAAOB6fGtAAAAAYGZ6a0AAAADAzHRrQAAAACBcd2tAAAAAIK53a0AAAABguHZrQAAAAMD1eGtAAAAAoEd5a0AAAACAwnlrQAAAAIAUfmtAAAAAIFyDa0AAAACAbItrQAAAAIA9kmtAAAAAoJmRa0AAAADgro9rQAAAAMD1iGtAAAAAIIWHa0AAAACA8oRrQAAAAAAAgGtAAAAAgMJ9a0AAAAAA13trQAAAAIDreWtAAAAAYKp4a0AAAACgcHVrQAAAAKCbdGtAAAAAwMxsa0AAAAAghWtrQAAAAADXa2tAAAAAQApna0AAAADA9WhrQAAAAKCZaWtAAAAAoJlla0AAAAAAKWRrQAAAAEAKZWtAAAAAgD1ia0AAAAAgoGFrQAAAAADXa2tAAAAAYI9ya0AAAABgmnFrQAAAAIDCdWtAAAAAwMx0a0AAAACAFG5rQAAAAIA9amtAAAAA4FFoa0AAAAAA12drQAAAAGBmZmtAAAAA4FFka0AAAACgzWRrQAAAAKBHaWtAAAAAAABwa0AAAACAP3NrQAAAAEAzc2tAAAAAoJlxa0AAAADgenBrQAAAAEAzc2tAAAAAgMJxa0AAAACgR3FrQAAAAIA9cmtAAAAAwBdua0AAAACgi29rQAAAAMD1cGtAAAAAIOJya0AAAAAAAHhrQAAAAKBHeWtAAAAAIIV7a0AAAADgo3hrQAAAAAApfGtAAAAAAAB4a0AAAAAgXHdrQAAAAGBmfmtAAAAAgD1+a0AAAADgo3hrQAAAAEDhemtAAAAAgA15a0AAAABAM3drQAAAAGDnc2tAAAAAQDNza0AAAACAPXJrQAAAAEAzc2tAAAAAIK5va0AAAADgo3BrQA==",
          "dtype": "f8"
         },
         "decreasing": {
          "line": {
           "color": "red"
          }
         },
         "high": {
          "bdata": "AAAAAKyga0AAAADAzIRrQAAAAECEc2tAAAAAQOGCa0AAAADAzHxrQAAAACCFa2tAAAAA4Hpsa0AAAADgUYhrQAAAAOBvlWtAAAAAIPSSa0AAAAAgro9rQAAAAIDriWtAAAAAwMyAa0AAAAAgXH9rQAAAAGCPemtAAAAAIIV7a0AAAABACndrQAAAAOCjgGtAAAAAwISAa0AAAADgeoRrQAAAAIA9imtAAAAAQAqHa0AAAAAAAIhrQAAAAIDriWtAAAAAIK6La0AAAACgD45rQAAAAEC2k2tAAAAAQAqXa0AAAACglJFrQAAAAECEi2tAAAAAANeLa0AAAABgj4ZrQAAAAKBwhWtAAAAAILCGa0AAAAAgKIRrQAAAAGC4hmtAAAAAIFyHa0AAAAAAKYRrQAAAAGBmfmtAAAAAgD12a0AAAAAAw3BrQAAAAIA9emtAAAAAACmAa0AAAADgeoBrQAAAACBufWtAAAAAACl0a0AAAADgenRrQAAAAMD1dGtAAAAAIFx3a0AAAABACndrQAAAAADXc2tAAAAAIP9va0AAAACAPXJrQAAAAMAedWtAAAAAANd7a0AAAABAM39rQAAAAEDhgmtAAAAAACSAa0AAAABAM4NrQAAAACCFg2tAAAAAgD16a0AAAACgR3lrQAAAAMC/emtAAAAAwPV4a0AAAAAAAHhrQAAAAIDreWtAAAAAANd3a0AAAABACndrQAAAAEAzd2tAAAAAIIVva0AAAAAAqm9rQAAAAEAKb2tAAAAAYGZya0AAAAAg5HNrQAAAAOBReGtAAAAA4KOAa0AAAADgHYVrQAAAAAAAgGtAAAAAoHB9a0AAAADgUYBrQAAAAAAphGtAAAAAAMyEa0AAAAAgrodrQAAAAIDChWtAAAAAYI+Ca0AAAABA4YJrQAAAAIAUfmtAAAAA4Hp8a0AAAABA4XprQAAAAOBReGtAAAAAANd7a0AAAABgj3prQAAAAEAze2tAAAAAQDN7a0AAAADgenxrQAAAAMA5f2tAAAAAYLiGa0AAAACAFI5rQAAAAIAUlmtAAAAAYPCTa0AAAABACJJrQAAAAIA9kmtAAAAA4KOIa0AAAADgo4hrQAAAAMAehWtAAAAA4K5/a0AAAAAAAIBrQAAAACD/f2tAAAAAgMd9a0AAAACAl3prQAAAACCud2tAAAAAgD12a0AAAACA2W1rQAAAAEA8cWtAAAAAgMJta0AAAADAdmprQAAAAMAebWtAAAAAgOtpa0AAAABgj2ZrQAAAAKCyZmtAAAAAgMJla0AAAABACmNrQAAAAOB6bGtAAAAAQOFya0AAAABgMnNrQAAAAEAKd2tAAAAAYGZ2a0AAAADgenRrQAAAAGBmbmtAAAAAIIVra0AAAABAxmprQAAAAKCZaWtAAAAAwMxoa0AAAADA/GVrQAAAAAC6amtAAAAAwB5xa0AAAAAAKXRrQAAAACCuc2tAAAAAYLhya0AAAACA63FrQAAAACCFc2tAAAAAYGZ2a0AAAABA4XJrQAAAAOBRdGtAAAAAQOFya0AAAACgmXFrQAAAAECkcWtAAAAAANdza0AAAADgUXhrQAAAAIA9emtAAAAAoHB9a0AAAACAwn1rQAAAAAApfGtAAAAA4Hp8a0AAAAAAKXhrQAAAAGC4fmtAAAAAoJmBa0AAAABA4X5rQAAAAEDhemtAAAAAIGF7a0AAAADgo3hrQAAAACBcd2tAAAAAwLp0a0AAAADgenRrQAAAAADXc2tAAAAAIIVza0AAAADgo3BrQA==",
          "dtype": "f8"
         },
         "increasing": {
          "line": {
           "color": "green"
          }
         },
         "low": {
          "bdata": "AAAAAMV1a0AAAAAAAGBrQAAAAKCZYWtAAAAA4JVoa0AAAABgj1JrQAAAAODQVGtAAAAAYI9Wa0AAAABA72prQAAAACCFg2tAAAAAIK6Ha0AAAADg14NrQAAAACBcf2tAAAAAoAh1a0AAAADAHnVrQAAAAKBwbWtAAAAAYI9qa0AAAAAAAGhrQAAAAEDhdmtAAAAA4KN4a0AAAADA9XhrQAAAACCFg2tAAAAAYLh+a0AAAABA4X5rQAAAACBcf2tAAAAAYI+Ca0AAAABA4YJrQAAAAOB6jGtAAAAAYLiOa0AAAAAA14NrQAAAAOB6hGtAAAAAwH+Ea0AAAAAAaIBrQAAAAIDCfWtAAAAA4Hp8a0AAAACgcH1rQAAAACCuf2tAAAAAgFOAa0AAAABgZn5rQAAAAMAedWtAAAAAQDNra0AAAABAM2trQAAAAOB6cGtAAAAAwB51a0AAAACAU3hrQAAAAKCZcWtAAAAA4Ghqa0AAAABACmdrQAAAAGBmbmtAAAAAoEdxa0AAAADA9XBrQAAAAGCPamtAAAAAQDNra0AAAABALm1rQAAAAIDCcWtAAAAAwB51a0AAAAAA13drQAAAAMDMfGtAAAAAwEt7a0AAAACA63lrQAAAACANeGtAAAAAwJ9ya0AAAADAHnVrQAAAAIA9dmtAAAAA4KNwa0AAAAAAKXRrQAAAAGC4cmtAAAAAQDNza0AAAABgj3JrQAAAAMDMbGtAAAAAAABoa0AAAABA4WprQAAAAOB6bGtAAAAAIFxra0AAAACAFG5rQAAAAKBHcWtAAAAAAAt3a0AAAAAAAIBrQAAAAEAze2tAAAAAoEd5a0AAAADAS3lrQAAAAADcf2tAAAAA4FGAa0AAAABgj4JrQAAAACCuf2tAAAAA4FGAa0AAAAAA13trQAAAAOCjeGtAAAAAYGZ2a0AAAADAzHRrQAAAAADXc2tAAAAA4E9za0AAAABgb3ZrQAAAAMAedWtAAAAAAOl3a0AAAAAAAHhrQAAAAKBHeWtAAAAAYDJ9a0AAAABgO4FrQAAAACCFi2tAAAAAAACQa0AAAADAzIxrQAAAAIBqhmtAAAAAoJmBa0AAAADgeoRrQAAAAIDCfWtAAAAAQDN7a0AAAACA63lrQAAAACBBeWtAAAAAIK53a0AAAAAAKXRrQAAAACCFc2tAAAAAwMxsa0AAAACgeWdrQAAAAGCPamtAAAAAQApna0AAAAAgrmdrQAAAAOCjaGtAAAAAQDNja0AAAABA72BrQAAAAGCPYmtAAAAAAABga0AAAABguF5rQAAAAIA9YmtAAAAAIIVra0AAAADgIm1rQAAAAKBHcWtAAAAAwJZya0AAAADgemxrQAAAAIA9amtAAAAAgD1ma0AAAACAFGZrQAAAAIA9ZmtAAAAAgD1ia0AAAADA9WBrQAAAAMDMZGtAAAAAQOhpa0AAAABACm9rQAAAAKBHcWtAAAAA4FFwa0AAAABguG5rQAAAAOCjcGtAAAAAgMJxa0AAAAAAF25rQAAAAEBnbmtAAAAAgOtta0AAAACgcG1rQAAAAGBmbmtAAAAA4FFwa0AAAABgEnNrQAAAAGC4dmtAAAAAIK53a0AAAABgeHhrQAAAAOBReGtAAAAAAAt3a0AAAACg1nRrQAAAAEAzd2tAAAAAANd7a0AAAADgo3hrQAAAAGBCeGtAAAAAAAB4a0AAAABgZnZrQAAAAAD+cmtAAAAAwPVwa0AAAACgcHFrQAAAAMD1cGtAAAAAYGZua0AAAADgo3BrQA==",
          "dtype": "f8"
         },
         "name": "Candlestick",
         "open": {
          "bdata": "AAAAAACga0AAAADA9XRrQAAAAGBmZmtAAAAAwB5pa0AAAAAghW9rQAAAACCFW2tAAAAAQDNba0AAAADgemxrQAAAACCuh2tAAAAAwOqRa0AAAABgZo5rQAAAAIAUhmtAAAAAAACAa0AAAABguHZrQAAAAKBHeWtAAAAAgD1ya0AAAACgcHFrQAAAAEDhdmtAAAAAQDN7a0AAAAAAAIBrQAAAAAAphGtAAAAAQAqHa0AAAABAM4NrQAAAAGDjgWtAAAAAgOuJa0AAAACAFIZrQAAAAOB6jGtAAAAAQDOTa0AAAADgUZBrQAAAACCuh2tAAAAAoJuGa0AAAACA64VrQAAAAMD1hGtAAAAAACmAa0AAAABA4YJrQAAAACCuf2tAAAAAoJmFa0AAAACgR4FrQAAAAGBmfmtAAAAAgMJ1a0AAAABAZ25rQAAAAOB6cGtAAAAAADt6a0AAAABACn9rQAAAAOCjfGtAAAAAYI9ya0AAAAAghWtrQAAAAAApdGtAAAAA4Hp0a0AAAABA4XJrQAAAAIA9cmtAAAAAoExta0AAAABguG5rQAAAAIDrcWtAAAAAgMJ1a0AAAACA63lrQAAAAKAcfmtAAAAAQAp/a0AAAACABHtrQAAAAOCjgGtAAAAAgOt5a0AAAACA63VrQAAAAMD1eGtAAAAAQAp3a0AAAADAzHRrQAAAACCud2tAAAAAgOt1a0AAAADgenRrQAAAAEAzd2tAAAAAwPVsa0AAAAAA12trQAAAAMAebWtAAAAA4Hpsa0AAAADgenBrQAAAACCFc2tAAAAAIFx3a0AAAAAAAIBrQAAAAAAAgGtAAAAAACl8a0AAAADgNnprQAAAAOBRgGtAAAAAgOuBa0AAAABgj4JrQAAAAIDChWtAAAAAAPeBa0AAAACgmYFrQAAAAAAAfGtAAAAAYH97a0AAAACAFHprQAAAAMDMdGtAAAAAIFx3a0AAAAAgXHdrQAAAACCud2tAAAAA4KN4a0AAAACgmXlrQAAAAIDreWtAAAAAYI9+a0AAAABgj4JrQAAAAAApjGtAAAAAYI+Sa0AAAADgrpFrQAAAACCuj2tAAAAA4KOIa0AAAAAAAIhrQAAAAMAehWtAAAAAIK5/a0AAAACAwn1rQAAAAAApfGtAAAAAgMJ5a0AAAADgo3hrQAAAAMAedWtAAAAAIIVza0AAAABAyG1rQAAAAOCza2tAAAAAIK5ra0AAAAAAAGhrQAAAAOCjaGtAAAAAgOtpa0AAAAAAG2ZrQAAAAAApZGtAAAAAwPVka0AAAACAPWJrQAAAAGCPYmtAAAAAANdra0AAAADAunJrQAAAAIDrcWtAAAAAwMx0a0AAAADgenRrQAAAAGBmbmtAAAAAgBRqa0AAAADgUWhrQAAAAMD1aGtAAAAAQApna0AAAADgemRrQAAAAIAUZmtAAAAAgOtpa0AAAAAgXG9rQAAAAABUc2tAAAAAYI9ya0AAAACgmXFrQAAAAOCjcGtAAAAAIK5za0AAAACgR3FrQAAAAKCZcWtAAAAAoEdxa0AAAAAAkW5rQAAAACCub2tAAAAAoJlxa0AAAABgEnNrQAAAAAApeGtAAAAAoEd5a0AAAAAA13trQAAAAOCjeGtAAAAAACl8a0AAAAAAKXhrQAAAAEAzd2tAAAAAAAt/a0AAAABguH5rQAAAAGB4eGtAAAAAYI96a0AAAADgo3hrQAAAAGC4dmtAAAAAANdza0AAAABAM3NrQAAAAIA9cmtAAAAAQApza0AAAADgo3BrQA==",
          "dtype": "f8"
         },
         "type": "candlestick",
         "x": {
          "bdata": "AAABAAIAAwAEAAUABgAHAAgACQAKAAsADAANAA4ADwAQABEAEgATABQAFQAWABcAGAAZABoAGwAcAB0AHgAfACAAIQAiACMAJAAlACYAJwAoACkAKgArACwALQAuAC8AMAAxADIAMwA0ADUANgA3ADgAOQA6ADsAPAA9AD4APwBAAEEAQgBDAEQARQBGAEcASABJAEoASwBMAE0ATgBPAFAAUQBSAFMAVABVAFYAVwBYAFkAWgBbAFwAXQBeAF8AYABhAGIAYwBkAGUAZgBnAGgAaQBqAGsAbABtAG4AbwBwAHEAcgBzAHQAdQB2AHcAeAB5AHoAewB8AH0AfgB/AIAAgQCCAIMAhACFAIYAhwCIAIkAigCLAIwAjQCOAI8AkACRAJIAkwCUAJUAlgCXAJgAmQCaAJsAnACdAJ4AnwCgAKEAogCjAKQApQCmAA==",
          "dtype": "i2"
         },
         "xaxis": "x",
         "yaxis": "y"
        },
        {
         "line": {
          "color": "blue"
         },
         "mode": "lines",
         "name": "50-day MA",
         "type": "scatter",
         "x": {
          "bdata": "AAABAAIAAwAEAAUABgAHAAgACQAKAAsADAANAA4ADwAQABEAEgATABQAFQAWABcAGAAZABoAGwAcAB0AHgAfACAAIQAiACMAJAAlACYAJwAoACkAKgArACwALQAuAC8AMAAxADIAMwA0ADUANgA3ADgAOQA6ADsAPAA9AD4APwBAAEEAQgBDAEQARQBGAEcASABJAEoASwBMAE0ATgBPAFAAUQBSAFMAVABVAFYAVwBYAFkAWgBbAFwAXQBeAF8AYABhAGIAYwBkAGUAZgBnAGgAaQBqAGsAbABtAG4AbwBwAHEAcgBzAHQAdQB2AHcAeAB5AHoAewB8AH0AfgB/AIAAgQCCAIMAhACFAIYAhwCIAIkAigCLAIwAjQCOAI8AkACRAJIAkwCUAJUAlgCXAJgAmQCaAJsAnACdAJ4AnwCgAKEAogCjAKQApQCmAA==",
          "dtype": "i2"
         },
         "xaxis": "x",
         "y": {
          "bdata": "AAAAAAAA+H8AAAAAAAD4fwAAAAAAAPh/AAAAAAAA+H8AAAAAAAD4fwAAAAAAAPh/AAAAAAAA+H8AAAAAAAD4fwAAAAAAAPh/AAAAAAAA+H8AAAAAAAD4fwAAAAAAAPh/AAAAAAAA+H8AAAAAAAD4fwAAAAAAAPh/AAAAAAAA+H8AAAAAAAD4fwAAAAAAAPh/AAAAAAAA+H8AAAAAAAD4fwAAAAAAAPh/AAAAAAAA+H8AAAAAAAD4fwAAAAAAAPh/AAAAAAAA+H8AAAAAAAD4fwAAAAAAAPh/AAAAAAAA+H8AAAAAAAD4fwAAAAAAAPh/AAAAAAAA+H8AAAAAAAD4fwAAAAAAAPh/AAAAAAAA+H8AAAAAAAD4fwAAAAAAAPh/AAAAAAAA+H8AAAAAAAD4fwAAAAAAAPh/AAAAAAAA+H8AAAAAAAD4fwAAAAAAAPh/AAAAAAAA+H8AAAAAAAD4fwAAAAAAAPh/AAAAAAAA+H8AAAAAAAD4fwAAAAAAAPh/AAAAAAAA+H+amZk51XtrQD0K15Oqe2tA7FG4bsZ7a0DsUbhO9HtrQB+F6+EMfGtAuB6F67B8a0AUrkeBY31rQHsUrufJfWtASOF6VJR9a0AAAABQPn1rQEjhenTVfGtAUrge5YF8a0ApXI+SWnxrQMP1KGxdfGtAcT0KB0R8a0DhehQudXxrQLgehYuHfGtAcT0Kt318a0ApXI9iY3xrQOxRuP4FfGtAPQrXY457a0DXo3CtCXtrQArXo5CUemtAzczMLDd6a0AfhevxxnlrQHsUrjd9eWtApHA9qjt5a0AzMzOj3HhrQGZmZvZyeGtApHA9yi94a0DhehReDXhrQNejcM0BeGtAzczMPPJ3a0BI4XrkDHhrQKRwPfoHeGtAzczM/BB4a0Bcj8LV33drQEjheiTMd2tAKVyPYrR3a0AUrkcxrHdrQBSuRxHad2tA16Nwff13a0B7FK5363drQD0K1zPRd2tAcT0K57t3a0A9CtfD4HdrQD0K14M8eGtAhetRKIt4a0DhehT+/nhrQK5H4eqeeWtAmpmZqT56a0DNzMz87XprQFyPwlV0e2tA9ihcv+N7a0DD9ShsNnxrQK5H4VpVfGtAcT0Kt1N8a0DXo3ANQHxrQB+F6wE5fGtAFK5H0RF8a0DsUbhuAXxrQI/C9Yj7e2tAMzMzo7t7a0B7FK6ngHtrQFyPwvVRe2tAAAAAIPt6a0BxPQqXuXprQLgehZt+emtAMzMz4yd6a0BxPQqn+3lrQBSuR2HWeWtACtejUKB5a0DD9SicZHlrQFK4HmVKeWtAexSu10N5a0CkcD26JHlrQB+F63HweGtAKVyP0rN4a0Bcj8KlcHhrQKRwPboeeGtAw/UofKV3a0AK16NQHndrQLgehTuSdmtAPQrXk+Z1a0DD9SjcT3VrQK5H4frUdGtAw/UoXJh0a0B7FK4XaXRrQK5H4TpEdGtAj8L12DN0a0D2KFyfEHRrQPYoXK/5c2tAmpmZSeBza0BxPQr3uHNrQMP1KOyUc2tAAAAAMFlza0BSuB7FDnNrQAAAAJCwcmtApHA96jJya0AK16OQrHFrQLgehQswcWtA9ihcz8hwa0AK16NAdXBrQHE9Chc7cGtAzczMzPhva0AAAACQzG9rQHE9CtfPb2tAFK5HIdxva0A9CteT1W9rQKRwPergb2tAmpmZafNva0D2KFyvAHBrQOxRuA4lcGtAFK5HYUxwa0BmZmYmbXBrQI/C9WircGtAFK5H0c1wa0DNzMzc8XBrQA==",
          "dtype": "f8"
         },
         "yaxis": "y"
        },
        {
         "marker": {
          "color": "gray",
          "opacity": 0.5
         },
         "name": "Volume",
         "type": "bar",
         "x": {
          "bdata": "AAABAAIAAwAEAAUABgAHAAgACQAKAAsADAANAA4ADwAQABEAEgATABQAFQAWABcAGAAZABoAGwAcAB0AHgAfACAAIQAiACMAJAAlACYAJwAoACkAKgArACwALQAuAC8AMAAxADIAMwA0ADUANgA3ADgAOQA6ADsAPAA9AD4APwBAAEEAQgBDAEQARQBGAEcASABJAEoASwBMAE0ATgBPAFAAUQBSAFMAVABVAFYAVwBYAFkAWgBbAFwAXQBeAF8AYABhAGIAYwBkAGUAZgBnAGgAaQBqAGsAbABtAG4AbwBwAHEAcgBzAHQAdQB2AHcAeAB5AHoAewB8AH0AfgB/AIAAgQCCAIMAhACFAIYAhwCIAIkAigCLAIwAjQCOAI8AkACRAJIAkwCUAJUAlgCXAJgAmQCaAJsAnACdAJ4AnwCgAKEAogCjAKQApQCmAA==",
          "dtype": "i2"
         },
         "xaxis": "x2",
         "y": {
          "bdata": "ON4dAANGBQBwWAMA+rQDAB2sAwA7FQQARLcDAGbgAwCdBwQAAZQCAHRMAgCk4gIANdoBAMc0AgB3bgIArSUCALaxAQBBcwIARoMBAPONAQC5bAIANXUBAJYdAgAvfgEAt2ABAEhaAQBHZAIAIaoBABrAAQCKgAEATdUBAGELAQClaAEAD6EBAHAUAQASAQEAw/0AACoyAQCqjgEAWtABAGo1AgAM5AEAUFIBACm4AQCpPAEA64YBAHhOAQAJQgEAafwAAPsEAQAnIQEAf2cBAFjEAADlAwEAthcBAGLpAAB2gwEAx9MAAAZQAQBG3wEAOUcBAAUEAQAZBAEADQoBAN0UAQBu3wAAPv8AALLsAADuEQEAMV8BABcxAQAVxwAAM+IAAHKwAADRRgEAc+sBADmaAQB/5gAAIbQAAPrHAACI3QAAwPEAABuoAQDzGQEAL2UAAH3UAAAK3gAAurwAAPQgAQA1LgEAWLQAAKLKAACWnAAApI0AABH+AgAfKgEAdEkCALkMAgAAoQEArlMBANw1AQBqRgEA0AABANKQAADz9gQAz9YAAF/+AADg0AAAm7YAADXRAABXywAAKYcBANJLAQB/2wAAx/sAAKIjAQBKJQEA+jkBAONXAQB4gwIAdFEBADlMAQCkDgEAoFIBAPw0AQBWNQEAlcAAABJMAQCbhAAAXOkAABIXAQBGdQAAw7gAAFWmAAA2pgAArqsAAEerAAC7kwAAQ/wAALV8AAD3pgAAd8gAAIoTAQCzkQAAm4UAAGKHAAAujwAAmp8AAAHIAADUMQEA7g8BABLlAAArrwAAKosAAH2UAACYqwAAoXsBAPXEAABcfQAAEv0BAGyDAAADygAAQq4AALZ+AABVnAAArd8AAAAAAAA=",
          "dtype": "i4"
         },
         "yaxis": "y2"
        }
       ],
       "layout": {
        "annotations": [
         {
          "font": {
           "size": 16
          },
          "showarrow": false,
          "text": "Price Chart",
          "x": 0.5,
          "xanchor": "center",
          "xref": "paper",
          "y": 1,
          "yanchor": "bottom",
          "yref": "paper"
         },
         {
          "font": {
           "size": 16
          },
          "showarrow": false,
          "text": "Volume",
          "x": 0.5,
          "xanchor": "center",
          "xref": "paper",
          "y": 0.27,
          "yanchor": "bottom",
          "yref": "paper"
         }
        ],
        "height": 700,
        "showlegend": true,
        "template": {
         "data": {
          "bar": [
           {
            "error_x": {
             "color": "#2a3f5f"
            },
            "error_y": {
             "color": "#2a3f5f"
            },
            "marker": {
             "line": {
              "color": "#E5ECF6",
              "width": 0.5
             },
             "pattern": {
              "fillmode": "overlay",
              "size": 10,
              "solidity": 0.2
             }
            },
            "type": "bar"
           }
          ],
          "barpolar": [
           {
            "marker": {
             "line": {
              "color": "#E5ECF6",
              "width": 0.5
             },
             "pattern": {
              "fillmode": "overlay",
              "size": 10,
              "solidity": 0.2
             }
            },
            "type": "barpolar"
           }
          ],
          "carpet": [
           {
            "aaxis": {
             "endlinecolor": "#2a3f5f",
             "gridcolor": "white",
             "linecolor": "white",
             "minorgridcolor": "white",
             "startlinecolor": "#2a3f5f"
            },
            "baxis": {
             "endlinecolor": "#2a3f5f",
             "gridcolor": "white",
             "linecolor": "white",
             "minorgridcolor": "white",
             "startlinecolor": "#2a3f5f"
            },
            "type": "carpet"
           }
          ],
          "choropleth": [
           {
            "colorbar": {
             "outlinewidth": 0,
             "ticks": ""
            },
            "type": "choropleth"
           }
          ],
          "contour": [
           {
            "colorbar": {
             "outlinewidth": 0,
             "ticks": ""
            },
            "colorscale": [
             [
              0,
              "#0d0887"
             ],
             [
              0.1111111111111111,
              "#46039f"
             ],
             [
              0.2222222222222222,
              "#7201a8"
             ],
             [
              0.3333333333333333,
              "#9c179e"
             ],
             [
              0.4444444444444444,
              "#bd3786"
             ],
             [
              0.5555555555555556,
              "#d8576b"
             ],
             [
              0.6666666666666666,
              "#ed7953"
             ],
             [
              0.7777777777777778,
              "#fb9f3a"
             ],
             [
              0.8888888888888888,
              "#fdca26"
             ],
             [
              1,
              "#f0f921"
             ]
            ],
            "type": "contour"
           }
          ],
          "contourcarpet": [
           {
            "colorbar": {
             "outlinewidth": 0,
             "ticks": ""
            },
            "type": "contourcarpet"
           }
          ],
          "heatmap": [
           {
            "colorbar": {
             "outlinewidth": 0,
             "ticks": ""
            },
            "colorscale": [
             [
              0,
              "#0d0887"
             ],
             [
              0.1111111111111111,
              "#46039f"
             ],
             [
              0.2222222222222222,
              "#7201a8"
             ],
             [
              0.3333333333333333,
              "#9c179e"
             ],
             [
              0.4444444444444444,
              "#bd3786"
             ],
             [
              0.5555555555555556,
              "#d8576b"
             ],
             [
              0.6666666666666666,
              "#ed7953"
             ],
             [
              0.7777777777777778,
              "#fb9f3a"
             ],
             [
              0.8888888888888888,
              "#fdca26"
             ],
             [
              1,
              "#f0f921"
             ]
            ],
            "type": "heatmap"
           }
          ],
          "histogram": [
           {
            "marker": {
             "pattern": {
              "fillmode": "overlay",
              "size": 10,
              "solidity": 0.2
             }
            },
            "type": "histogram"
           }
          ],
          "histogram2d": [
           {
            "colorbar": {
             "outlinewidth": 0,
             "ticks": ""
            },
            "colorscale": [
             [
              0,
              "#0d0887"
             ],
             [
              0.1111111111111111,
              "#46039f"
             ],
             [
              0.2222222222222222,
              "#7201a8"
             ],
             [
              0.3333333333333333,
              "#9c179e"
             ],
             [
              0.4444444444444444,
              "#bd3786"
             ],
             [
              0.5555555555555556,
              "#d8576b"
             ],
             [
              0.6666666666666666,
              "#ed7953"
             ],
             [
              0.7777777777777778,
              "#fb9f3a"
             ],
             [
              0.8888888888888888,
              "#fdca26"
             ],
             [
              1,
              "#f0f921"
             ]
            ],
            "type": "histogram2d"
           }
          ],
          "histogram2dcontour": [
           {
            "colorbar": {
             "outlinewidth": 0,
             "ticks": ""
            },
            "colorscale": [
             [
              0,
              "#0d0887"
             ],
             [
              0.1111111111111111,
              "#46039f"
             ],
             [
              0.2222222222222222,
              "#7201a8"
             ],
             [
              0.3333333333333333,
              "#9c179e"
             ],
             [
              0.4444444444444444,
              "#bd3786"
             ],
             [
              0.5555555555555556,
              "#d8576b"
             ],
             [
              0.6666666666666666,
              "#ed7953"
             ],
             [
              0.7777777777777778,
              "#fb9f3a"
             ],
             [
              0.8888888888888888,
              "#fdca26"
             ],
             [
              1,
              "#f0f921"
             ]
            ],
            "type": "histogram2dcontour"
           }
          ],
          "mesh3d": [
           {
            "colorbar": {
             "outlinewidth": 0,
             "ticks": ""
            },
            "type": "mesh3d"
           }
          ],
          "parcoords": [
           {
            "line": {
             "colorbar": {
              "outlinewidth": 0,
              "ticks": ""
             }
            },
            "type": "parcoords"
           }
          ],
          "pie": [
           {
            "automargin": true,
            "type": "pie"
           }
          ],
          "scatter": [
           {
            "fillpattern": {
             "fillmode": "overlay",
             "size": 10,
             "solidity": 0.2
            },
            "type": "scatter"
           }
          ],
          "scatter3d": [
           {
            "line": {
             "colorbar": {
              "outlinewidth": 0,
              "ticks": ""
             }
            },
            "marker": {
             "colorbar": {
              "outlinewidth": 0,
              "ticks": ""
             }
            },
            "type": "scatter3d"
           }
          ],
          "scattercarpet": [
           {
            "marker": {
             "colorbar": {
              "outlinewidth": 0,
              "ticks": ""
             }
            },
            "type": "scattercarpet"
           }
          ],
          "scattergeo": [
           {
            "marker": {
             "colorbar": {
              "outlinewidth": 0,
              "ticks": ""
             }
            },
            "type": "scattergeo"
           }
          ],
          "scattergl": [
           {
            "marker": {
             "colorbar": {
              "outlinewidth": 0,
              "ticks": ""
             }
            },
            "type": "scattergl"
           }
          ],
          "scattermap": [
           {
            "marker": {
             "colorbar": {
              "outlinewidth": 0,
              "ticks": ""
             }
            },
            "type": "scattermap"
           }
          ],
          "scattermapbox": [
           {
            "marker": {
             "colorbar": {
              "outlinewidth": 0,
              "ticks": ""
             }
            },
            "type": "scattermapbox"
           }
          ],
          "scatterpolar": [
           {
            "marker": {
             "colorbar": {
              "outlinewidth": 0,
              "ticks": ""
             }
            },
            "type": "scatterpolar"
           }
          ],
          "scatterpolargl": [
           {
            "marker": {
             "colorbar": {
              "outlinewidth": 0,
              "ticks": ""
             }
            },
            "type": "scatterpolargl"
           }
          ],
          "scatterternary": [
           {
            "marker": {
             "colorbar": {
              "outlinewidth": 0,
              "ticks": ""
             }
            },
            "type": "scatterternary"
           }
          ],
          "surface": [
           {
            "colorbar": {
             "outlinewidth": 0,
             "ticks": ""
            },
            "colorscale": [
             [
              0,
              "#0d0887"
             ],
             [
              0.1111111111111111,
              "#46039f"
             ],
             [
              0.2222222222222222,
              "#7201a8"
             ],
             [
              0.3333333333333333,
              "#9c179e"
             ],
             [
              0.4444444444444444,
              "#bd3786"
             ],
             [
              0.5555555555555556,
              "#d8576b"
             ],
             [
              0.6666666666666666,
              "#ed7953"
             ],
             [
              0.7777777777777778,
              "#fb9f3a"
             ],
             [
              0.8888888888888888,
              "#fdca26"
             ],
             [
              1,
              "#f0f921"
             ]
            ],
            "type": "surface"
           }
          ],
          "table": [
           {
            "cells": {
             "fill": {
              "color": "#EBF0F8"
             },
             "line": {
              "color": "white"
             }
            },
            "header": {
             "fill": {
              "color": "#C8D4E3"
             },
             "line": {
              "color": "white"
             }
            },
            "type": "table"
           }
          ]
         },
         "layout": {
          "annotationdefaults": {
           "arrowcolor": "#2a3f5f",
           "arrowhead": 0,
           "arrowwidth": 1
          },
          "autotypenumbers": "strict",
          "coloraxis": {
           "colorbar": {
            "outlinewidth": 0,
            "ticks": ""
           }
          },
          "colorscale": {
           "diverging": [
            [
             0,
             "#8e0152"
            ],
            [
             0.1,
             "#c51b7d"
            ],
            [
             0.2,
             "#de77ae"
            ],
            [
             0.3,
             "#f1b6da"
            ],
            [
             0.4,
             "#fde0ef"
            ],
            [
             0.5,
             "#f7f7f7"
            ],
            [
             0.6,
             "#e6f5d0"
            ],
            [
             0.7,
             "#b8e186"
            ],
            [
             0.8,
             "#7fbc41"
            ],
            [
             0.9,
             "#4d9221"
            ],
            [
             1,
             "#276419"
            ]
           ],
           "sequential": [
            [
             0,
             "#0d0887"
            ],
            [
             0.1111111111111111,
             "#46039f"
            ],
            [
             0.2222222222222222,
             "#7201a8"
            ],
            [
             0.3333333333333333,
             "#9c179e"
            ],
            [
             0.4444444444444444,
             "#bd3786"
            ],
            [
             0.5555555555555556,
             "#d8576b"
            ],
            [
             0.6666666666666666,
             "#ed7953"
            ],
            [
             0.7777777777777778,
             "#fb9f3a"
            ],
            [
             0.8888888888888888,
             "#fdca26"
            ],
            [
             1,
             "#f0f921"
            ]
           ],
           "sequentialminus": [
            [
             0,
             "#0d0887"
            ],
            [
             0.1111111111111111,
             "#46039f"
            ],
            [
             0.2222222222222222,
             "#7201a8"
            ],
            [
             0.3333333333333333,
             "#9c179e"
            ],
            [
             0.4444444444444444,
             "#bd3786"
            ],
            [
             0.5555555555555556,
             "#d8576b"
            ],
            [
             0.6666666666666666,
             "#ed7953"
            ],
            [
             0.7777777777777778,
             "#fb9f3a"
            ],
            [
             0.8888888888888888,
             "#fdca26"
            ],
            [
             1,
             "#f0f921"
            ]
           ]
          },
          "colorway": [
           "#636efa",
           "#EF553B",
           "#00cc96",
           "#ab63fa",
           "#FFA15A",
           "#19d3f3",
           "#FF6692",
           "#B6E880",
           "#FF97FF",
           "#FECB52"
          ],
          "font": {
           "color": "#2a3f5f"
          },
          "geo": {
           "bgcolor": "white",
           "lakecolor": "white",
           "landcolor": "#E5ECF6",
           "showlakes": true,
           "showland": true,
           "subunitcolor": "white"
          },
          "hoverlabel": {
           "align": "left"
          },
          "hovermode": "closest",
          "mapbox": {
           "style": "light"
          },
          "paper_bgcolor": "white",
          "plot_bgcolor": "#E5ECF6",
          "polar": {
           "angularaxis": {
            "gridcolor": "white",
            "linecolor": "white",
            "ticks": ""
           },
           "bgcolor": "#E5ECF6",
           "radialaxis": {
            "gridcolor": "white",
            "linecolor": "white",
            "ticks": ""
           }
          },
          "scene": {
           "xaxis": {
            "backgroundcolor": "#E5ECF6",
            "gridcolor": "white",
            "gridwidth": 2,
            "linecolor": "white",
            "showbackground": true,
            "ticks": "",
            "zerolinecolor": "white"
           },
           "yaxis": {
            "backgroundcolor": "#E5ECF6",
            "gridcolor": "white",
            "gridwidth": 2,
            "linecolor": "white",
            "showbackground": true,
            "ticks": "",
            "zerolinecolor": "white"
           },
           "zaxis": {
            "backgroundcolor": "#E5ECF6",
            "gridcolor": "white",
            "gridwidth": 2,
            "linecolor": "white",
            "showbackground": true,
            "ticks": "",
            "zerolinecolor": "white"
           }
          },
          "shapedefaults": {
           "line": {
            "color": "#2a3f5f"
           }
          },
          "ternary": {
           "aaxis": {
            "gridcolor": "white",
            "linecolor": "white",
            "ticks": ""
           },
           "baxis": {
            "gridcolor": "white",
            "linecolor": "white",
            "ticks": ""
           },
           "bgcolor": "#E5ECF6",
           "caxis": {
            "gridcolor": "white",
            "linecolor": "white",
            "ticks": ""
           }
          },
          "title": {
           "x": 0.05
          },
          "xaxis": {
           "automargin": true,
           "gridcolor": "white",
           "linecolor": "white",
           "ticks": "",
           "title": {
            "standoff": 15
           },
           "zerolinecolor": "white",
           "zerolinewidth": 2
          },
          "yaxis": {
           "automargin": true,
           "gridcolor": "white",
           "linecolor": "white",
           "ticks": "",
           "title": {
            "standoff": 15
           },
           "zerolinecolor": "white",
           "zerolinewidth": 2
          }
         }
        },
        "title": {
         "text": "AAPL Price Chart"
        },
        "xaxis": {
         "anchor": "y",
         "domain": [
          0,
          1
         ],
         "matches": "x2",
         "rangeselector": {
          "buttons": [
           {
            "count": 1,
            "label": "1d",
            "step": "minute",
            "stepmode": "backward"
           },
           {
            "count": 1,
            "label": "1m",
            "step": "day",
            "stepmode": "backward"
           },
           {
            "count": 3,
            "label": "3m",
            "step": "day",
            "stepmode": "backward"
           },
           {
            "count": 6,
            "label": "6m",
            "step": "day",
            "stepmode": "backward"
           },
           {
            "count": 1,
            "label": "YTD",
            "step": "year",
            "stepmode": "todate"
           },
           {
            "count": 1,
            "label": "1y",
            "step": "month",
            "stepmode": "backward"
           },
           {
            "step": "all"
           }
          ]
         },
         "rangeslider": {
          "visible": true
         },
         "showticklabels": false
        },
        "xaxis2": {
         "anchor": "y2",
         "domain": [
          0,
          1
         ]
        },
        "yaxis": {
         "anchor": "x",
         "domain": [
          0.37,
          1
         ]
        },
        "yaxis2": {
         "anchor": "x2",
         "domain": [
          0,
          0.27
         ]
        }
       }
      }
     },
     "metadata": {},
     "output_type": "display_data"
    }
   ],
   "source": [
    "import yfinance as yf\n",
    "import pandas as pd\n",
    "import plotly.graph_objects as go\n",
    "from plotly.subplots import make_subplots\n",
    "\n",
    "# User Inputs\n",
    "# ticker = input(\"Enter Stock Symbol (e.g., AAPL): \").upper()\n",
    "# period = input(\"Select Time Period (e.g., 1d, 5d, 1mo, 3mo, 6mo, 1y, 2y, 5y, 10y, ytd, max): \").lower()\n",
    "# interval = input(\"Select Interval (e.g., 1m, 2m, 5m, 15m, 30m, 1h, 1d, 1wk, 1mo): \").lower()\n",
    "ticker =\"AAPL\"\n",
    "period = \"1d\"\n",
    "interval =\"1m\"\n",
    "print(f\"Fetching data for {ticker} ({period}, {interval})...\")\n",
    "\n",
    "# Fetch stock data\n",
    "try:\n",
    "    \n",
    "    stock = yf.Ticker(ticker)\n",
    "    df = stock.history(period=period, interval=interval)\n",
    "    df.reset_index(inplace=True)\n",
    "    \n",
    "    if df.empty:\n",
    "        print(\"No data available. Try changing the time period or interval.\")\n",
    "    # else:\n",
    "    #     # Ensure index is datetime for plotting\n",
    "    #     df.index = df.index.tz_localize(None)\n",
    "except Exception as e:\n",
    "    print(f\"Error fetching data: {e}\")\n",
    "\n",
    "def main_chart (df):\n",
    "    # Create a subplot: 2 rows (Candlestick + Volume)\n",
    "    fig = make_subplots(rows=2, cols=1, shared_xaxes=True,\n",
    "                        vertical_spacing=0.1, row_heights=[0.7, 0.3],\n",
    "                        subplot_titles=(\"Price Chart\", \"Volume\"))\n",
    "\n",
    "    # ✅ Candlestick Chart\n",
    "    fig.add_trace(go.Candlestick(\n",
    "        x=df.index,\n",
    "        open=df['Open'],\n",
    "        high=df['High'],\n",
    "        low=df['Low'],\n",
    "        close=df['Close'],\n",
    "        name=\"Candlestick\",\n",
    "        increasing=dict(line=dict(color=\"green\")),\n",
    "        decreasing=dict(line=dict(color=\"red\")),\n",
    "    ), row=1, col=1)\n",
    "\n",
    "    # ✅ Moving Averages\n",
    "    if len(df) > 50:  # Only plot MA if enough data exists\n",
    "        df[\"MA50\"] = df[\"Close\"].rolling(window=50).mean()\n",
    "        fig.add_trace(go.Scatter(x=df.index, y=df[\"MA50\"], mode=\"lines\", name=\"50-day MA\", line=dict(color=\"blue\")), row=1, col=1)\n",
    "\n",
    "    if len(df) > 200:\n",
    "        df[\"MA200\"] = df[\"Close\"].rolling(window=200).mean()\n",
    "        fig.add_trace(go.Scatter(x=df.index, y=df[\"MA200\"], mode=\"lines\", name=\"200-day MA\", line=dict(color=\"red\")), row=1, col=1)\n",
    "\n",
    "    # ✅ Volume Chart\n",
    "    fig.add_trace(go.Bar(\n",
    "        x=df.index,\n",
    "        y=df['Volume'],\n",
    "        name=\"Volume\",\n",
    "        marker=dict(color=\"gray\", opacity=0.5)\n",
    "    ), row=2, col=1)\n",
    "\n",
    "    # ✅ Add range slider & buttons\n",
    "    fig.update_layout(\n",
    "        title=f\"{ticker} Price Chart\",\n",
    "        xaxis=dict(\n",
    "            rangeslider=dict(visible=True),\n",
    "            rangeselector=dict(\n",
    "                buttons=[\n",
    "                    dict(count=1, label=\"1d\", step=\"minute\", stepmode=\"backward\"),\n",
    "                    dict(count=1, label=\"1m\", step=\"day\", stepmode=\"backward\"),\n",
    "                    dict(count=3, label=\"3m\", step=\"day\", stepmode=\"backward\"),\n",
    "                    dict(count=6, label=\"6m\", step=\"day\", stepmode=\"backward\"),\n",
    "                    dict(count=1, label=\"YTD\", step=\"year\", stepmode=\"todate\"),\n",
    "                    dict(count=1, label=\"1y\", step=\"month\", stepmode=\"backward\"),\n",
    "                    dict(step=\"all\")\n",
    "                ]\n",
    "            )\n",
    "        ),\n",
    "        height=700,\n",
    "        showlegend=True\n",
    "    )\n",
    "\n",
    "    # ✅ Display chart in notebook\n",
    "    fig.show()\n",
    "\n",
    "main_chart(df)\n",
    "\n",
    "\n"
   ]
  },
  {
   "cell_type": "code",
   "execution_count": null,
   "metadata": {},
   "outputs": [
    {
     "data": {
      "text/html": [
       "<div>\n",
       "<style scoped>\n",
       "    .dataframe tbody tr th:only-of-type {\n",
       "        vertical-align: middle;\n",
       "    }\n",
       "\n",
       "    .dataframe tbody tr th {\n",
       "        vertical-align: top;\n",
       "    }\n",
       "\n",
       "    .dataframe thead th {\n",
       "        text-align: right;\n",
       "    }\n",
       "</style>\n",
       "<table border=\"1\" class=\"dataframe\">\n",
       "  <thead>\n",
       "    <tr style=\"text-align: right;\">\n",
       "      <th></th>\n",
       "      <th>Date</th>\n",
       "      <th>Open</th>\n",
       "      <th>High</th>\n",
       "      <th>Low</th>\n",
       "      <th>Close</th>\n",
       "      <th>Volume</th>\n",
       "      <th>Dividends</th>\n",
       "      <th>Stock Splits</th>\n",
       "      <th>date</th>\n",
       "      <th>time</th>\n",
       "    </tr>\n",
       "  </thead>\n",
       "  <tbody>\n",
       "    <tr>\n",
       "      <th>0</th>\n",
       "      <td>2025-03-24 00:00:00-05:00</td>\n",
       "      <td>4.188</td>\n",
       "      <td>4.188</td>\n",
       "      <td>4.182</td>\n",
       "      <td>4.185</td>\n",
       "      <td>0</td>\n",
       "      <td>0.0</td>\n",
       "      <td>0.0</td>\n",
       "      <td>2025-03-24</td>\n",
       "      <td>00:00:00</td>\n",
       "    </tr>\n",
       "  </tbody>\n",
       "</table>\n",
       "</div>"
      ],
      "text/plain": [
       "                       Date   Open   High    Low  Close  Volume  Dividends  \\\n",
       "0 2025-03-24 00:00:00-05:00  4.188  4.188  4.182  4.185       0        0.0   \n",
       "\n",
       "   Stock Splits        date      time  \n",
       "0           0.0  2025-03-24  00:00:00  "
      ]
     },
     "execution_count": 60,
     "metadata": {},
     "output_type": "execute_result"
    }
   ],
   "source": [
    "from datetime import datetime\n",
    "symbol = \"^IRX\"\n",
    "rate = yf.Ticker(symbol)\n",
    "df_rate = rate.history(period=\"1d\", interval=\"1d\")\n",
    "df_rate.reset_index(inplace=True)\n",
    "# Convert to datetime format\n",
    "df_rate['Date'] = pd.to_datetime(df_rate['Date'])\n",
    "\n",
    "# Extract Date & Time separately\n",
    "df_rate['date'] = df_rate['Date'].dt.date  # Extracts date (YYYY-MM-DD)\n",
    "df_rate['time'] = df_rate['Date'].dt.time  # Extracts time (HH:MM:SS)\n",
    "\n",
    "\n",
    "df_rate"
   ]
  },
  {
   "cell_type": "code",
   "execution_count": null,
   "metadata": {},
   "outputs": [
    {
     "ename": "AttributeError",
     "evalue": "Can only use .dt accessor with datetimelike values",
     "output_type": "error",
     "traceback": [
      "\u001b[1;31m---------------------------------------------------------------------------\u001b[0m",
      "\u001b[1;31mAttributeError\u001b[0m                            Traceback (most recent call last)",
      "Cell \u001b[1;32mIn[59], line 20\u001b[0m\n\u001b[0;32m     18\u001b[0m \u001b[38;5;66;03m# Extract Date & Time separately\u001b[39;00m\n\u001b[0;32m     19\u001b[0m df_rate[\u001b[38;5;124m'\u001b[39m\u001b[38;5;124mDate\u001b[39m\u001b[38;5;124m'\u001b[39m] \u001b[38;5;241m=\u001b[39m df_rate[date_column]\u001b[38;5;241m.\u001b[39mdt\u001b[38;5;241m.\u001b[39mdate  \u001b[38;5;66;03m# Extract date (YYYY-MM-DD)\u001b[39;00m\n\u001b[1;32m---> 20\u001b[0m df_rate[\u001b[38;5;124m'\u001b[39m\u001b[38;5;124mTime\u001b[39m\u001b[38;5;124m'\u001b[39m] \u001b[38;5;241m=\u001b[39m \u001b[43mdf_rate\u001b[49m\u001b[43m[\u001b[49m\u001b[43mdate_column\u001b[49m\u001b[43m]\u001b[49m\u001b[38;5;241;43m.\u001b[39;49m\u001b[43mdt\u001b[49m\u001b[38;5;241m.\u001b[39mtime  \u001b[38;5;66;03m# Extract time (HH:MM:SS)\u001b[39;00m\n\u001b[0;32m     22\u001b[0m \u001b[38;5;66;03m# Drop the original main Date/Datetime column\u001b[39;00m\n\u001b[0;32m     23\u001b[0m df_rate\u001b[38;5;241m.\u001b[39mdrop(columns\u001b[38;5;241m=\u001b[39m[date_column], inplace\u001b[38;5;241m=\u001b[39m\u001b[38;5;28;01mTrue\u001b[39;00m)\n",
      "File \u001b[1;32mc:\\Desktop\\python_projects\\project_env\\Lib\\site-packages\\pandas\\core\\generic.py:6299\u001b[0m, in \u001b[0;36mNDFrame.__getattr__\u001b[1;34m(self, name)\u001b[0m\n\u001b[0;32m   6292\u001b[0m \u001b[38;5;28;01mif\u001b[39;00m (\n\u001b[0;32m   6293\u001b[0m     name \u001b[38;5;129;01mnot\u001b[39;00m \u001b[38;5;129;01min\u001b[39;00m \u001b[38;5;28mself\u001b[39m\u001b[38;5;241m.\u001b[39m_internal_names_set\n\u001b[0;32m   6294\u001b[0m     \u001b[38;5;129;01mand\u001b[39;00m name \u001b[38;5;129;01mnot\u001b[39;00m \u001b[38;5;129;01min\u001b[39;00m \u001b[38;5;28mself\u001b[39m\u001b[38;5;241m.\u001b[39m_metadata\n\u001b[0;32m   6295\u001b[0m     \u001b[38;5;129;01mand\u001b[39;00m name \u001b[38;5;129;01mnot\u001b[39;00m \u001b[38;5;129;01min\u001b[39;00m \u001b[38;5;28mself\u001b[39m\u001b[38;5;241m.\u001b[39m_accessors\n\u001b[0;32m   6296\u001b[0m     \u001b[38;5;129;01mand\u001b[39;00m \u001b[38;5;28mself\u001b[39m\u001b[38;5;241m.\u001b[39m_info_axis\u001b[38;5;241m.\u001b[39m_can_hold_identifiers_and_holds_name(name)\n\u001b[0;32m   6297\u001b[0m ):\n\u001b[0;32m   6298\u001b[0m     \u001b[38;5;28;01mreturn\u001b[39;00m \u001b[38;5;28mself\u001b[39m[name]\n\u001b[1;32m-> 6299\u001b[0m \u001b[38;5;28;01mreturn\u001b[39;00m \u001b[38;5;28;43mobject\u001b[39;49m\u001b[38;5;241;43m.\u001b[39;49m\u001b[38;5;21;43m__getattribute__\u001b[39;49m\u001b[43m(\u001b[49m\u001b[38;5;28;43mself\u001b[39;49m\u001b[43m,\u001b[49m\u001b[43m \u001b[49m\u001b[43mname\u001b[49m\u001b[43m)\u001b[49m\n",
      "File \u001b[1;32mc:\\Desktop\\python_projects\\project_env\\Lib\\site-packages\\pandas\\core\\accessor.py:224\u001b[0m, in \u001b[0;36mCachedAccessor.__get__\u001b[1;34m(self, obj, cls)\u001b[0m\n\u001b[0;32m    221\u001b[0m \u001b[38;5;28;01mif\u001b[39;00m obj \u001b[38;5;129;01mis\u001b[39;00m \u001b[38;5;28;01mNone\u001b[39;00m:\n\u001b[0;32m    222\u001b[0m     \u001b[38;5;66;03m# we're accessing the attribute of the class, i.e., Dataset.geo\u001b[39;00m\n\u001b[0;32m    223\u001b[0m     \u001b[38;5;28;01mreturn\u001b[39;00m \u001b[38;5;28mself\u001b[39m\u001b[38;5;241m.\u001b[39m_accessor\n\u001b[1;32m--> 224\u001b[0m accessor_obj \u001b[38;5;241m=\u001b[39m \u001b[38;5;28;43mself\u001b[39;49m\u001b[38;5;241;43m.\u001b[39;49m\u001b[43m_accessor\u001b[49m\u001b[43m(\u001b[49m\u001b[43mobj\u001b[49m\u001b[43m)\u001b[49m\n\u001b[0;32m    225\u001b[0m \u001b[38;5;66;03m# Replace the property with the accessor object. Inspired by:\u001b[39;00m\n\u001b[0;32m    226\u001b[0m \u001b[38;5;66;03m# https://www.pydanny.com/cached-property.html\u001b[39;00m\n\u001b[0;32m    227\u001b[0m \u001b[38;5;66;03m# We need to use object.__setattr__ because we overwrite __setattr__ on\u001b[39;00m\n\u001b[0;32m    228\u001b[0m \u001b[38;5;66;03m# NDFrame\u001b[39;00m\n\u001b[0;32m    229\u001b[0m \u001b[38;5;28mobject\u001b[39m\u001b[38;5;241m.\u001b[39m\u001b[38;5;21m__setattr__\u001b[39m(obj, \u001b[38;5;28mself\u001b[39m\u001b[38;5;241m.\u001b[39m_name, accessor_obj)\n",
      "File \u001b[1;32mc:\\Desktop\\python_projects\\project_env\\Lib\\site-packages\\pandas\\core\\indexes\\accessors.py:643\u001b[0m, in \u001b[0;36mCombinedDatetimelikeProperties.__new__\u001b[1;34m(cls, data)\u001b[0m\n\u001b[0;32m    640\u001b[0m \u001b[38;5;28;01melif\u001b[39;00m \u001b[38;5;28misinstance\u001b[39m(data\u001b[38;5;241m.\u001b[39mdtype, PeriodDtype):\n\u001b[0;32m    641\u001b[0m     \u001b[38;5;28;01mreturn\u001b[39;00m PeriodProperties(data, orig)\n\u001b[1;32m--> 643\u001b[0m \u001b[38;5;28;01mraise\u001b[39;00m \u001b[38;5;167;01mAttributeError\u001b[39;00m(\u001b[38;5;124m\"\u001b[39m\u001b[38;5;124mCan only use .dt accessor with datetimelike values\u001b[39m\u001b[38;5;124m\"\u001b[39m)\n",
      "\u001b[1;31mAttributeError\u001b[0m: Can only use .dt accessor with datetimelike values"
     ]
    }
   ],
   "source": [
    "import yfinance as yf\n",
    "import pandas as pd\n",
    "\n",
    "# Fetch data\n",
    "symbol = \"^GSPC\"\n",
    "rate = yf.Ticker(symbol)\n",
    "df_rate = rate.history(period=\"1d\", interval=\"1d\")\n",
    "\n",
    "# Reset index to move the date from index to a column\n",
    "df_rate.reset_index(inplace=True)\n",
    "\n",
    "# Identify the main date column (it might be 'Date' or 'Datetime')\n",
    "date_column = 'Date' if 'Date' in df_rate.columns else 'Datetime'\n",
    "\n",
    "# Convert to datetime format\n",
    "df_rate[date_column] = pd.to_datetime(df_rate[date_column])\n",
    "\n",
    "# Extract Date & Time separately\n",
    "df_rate['Date'] = df_rate[date_column].dt.date  # Extract date (YYYY-MM-DD)\n",
    "df_rate['Time'] = df_rate[date_column].dt.time  # Extract time (HH:MM:SS)\n",
    "\n",
    "# Drop the original main Date/Datetime column\n",
    "df_rate.drop(columns=[date_column], inplace=True)\n",
    "\n",
    "# Display the result\n",
    "print(df_rate[['Date', 'Time']])  # Print only Date & Time columns\n",
    "\n",
    "df_rate  # Display the full DataFrame\n"
   ]
  },
  {
   "cell_type": "code",
   "execution_count": null,
   "metadata": {},
   "outputs": [],
   "source": []
  },
  {
   "cell_type": "code",
   "execution_count": null,
   "metadata": {},
   "outputs": [],
   "source": []
  },
  {
   "cell_type": "code",
   "execution_count": null,
   "metadata": {},
   "outputs": [],
   "source": []
  }
 ],
 "metadata": {
  "kernelspec": {
   "display_name": "project_env",
   "language": "python",
   "name": "python3"
  },
  "language_info": {
   "codemirror_mode": {
    "name": "ipython",
    "version": 3
   },
   "file_extension": ".py",
   "mimetype": "text/x-python",
   "name": "python",
   "nbconvert_exporter": "python",
   "pygments_lexer": "ipython3",
   "version": "3.12.1"
  }
 },
 "nbformat": 4,
 "nbformat_minor": 2
}
